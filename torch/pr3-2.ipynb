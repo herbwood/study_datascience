{
 "cells": [
  {
   "cell_type": "code",
   "execution_count": 1,
   "metadata": {},
   "outputs": [],
   "source": [
    "import torch\n",
    "import torch.nn as nn\n",
    "import torch.optim as optim\n",
    "import torch.nn.functional as F\n",
    "from torchvision import transforms, datasets"
   ]
  },
  {
   "cell_type": "code",
   "execution_count": 2,
   "metadata": {},
   "outputs": [],
   "source": [
    "USE_CUDA = torch.cuda.is_available()\n",
    "DEVICE = torch.device('cuda' if USE_CUDA else 'cpu')"
   ]
  },
  {
   "cell_type": "code",
   "execution_count": 3,
   "metadata": {},
   "outputs": [],
   "source": [
    "EPOCHS = 50\n",
    "BATCH_SIZE = 64"
   ]
  },
  {
   "cell_type": "code",
   "execution_count": 4,
   "metadata": {},
   "outputs": [
    {
     "name": "stdout",
     "output_type": "stream",
     "text": [
      "Downloading http://yann.lecun.com/exdb/mnist/train-images-idx3-ubyte.gz to ./.data/MNIST/raw/train-images-idx3-ubyte.gz\n"
     ]
    },
    {
     "data": {
      "application/vnd.jupyter.widget-view+json": {
       "model_id": "ddc00498804c43bdb26df37cf1caae40",
       "version_major": 2,
       "version_minor": 0
      },
      "text/plain": [
       "HBox(children=(FloatProgress(value=1.0, bar_style='info', layout=Layout(width='20px'), max=1.0), HTML(value=''…"
      ]
     },
     "metadata": {},
     "output_type": "display_data"
    },
    {
     "name": "stdout",
     "output_type": "stream",
     "text": [
      "Extracting ./.data/MNIST/raw/train-images-idx3-ubyte.gz to ./.data/MNIST/raw\n",
      "Downloading http://yann.lecun.com/exdb/mnist/train-labels-idx1-ubyte.gz to ./.data/MNIST/raw/train-labels-idx1-ubyte.gz\n"
     ]
    },
    {
     "data": {
      "application/vnd.jupyter.widget-view+json": {
       "model_id": "5142b3796f464023a62285a99640e266",
       "version_major": 2,
       "version_minor": 0
      },
      "text/plain": [
       "HBox(children=(FloatProgress(value=1.0, bar_style='info', layout=Layout(width='20px'), max=1.0), HTML(value=''…"
      ]
     },
     "metadata": {},
     "output_type": "display_data"
    },
    {
     "name": "stdout",
     "output_type": "stream",
     "text": [
      "Extracting ./.data/MNIST/raw/train-labels-idx1-ubyte.gz to ./.data/MNIST/raw\n",
      "Downloading http://yann.lecun.com/exdb/mnist/t10k-images-idx3-ubyte.gz to ./.data/MNIST/raw/t10k-images-idx3-ubyte.gz\n"
     ]
    },
    {
     "data": {
      "application/vnd.jupyter.widget-view+json": {
       "model_id": "0780622c112440648e0bd56a4b967d64",
       "version_major": 2,
       "version_minor": 0
      },
      "text/plain": [
       "HBox(children=(FloatProgress(value=1.0, bar_style='info', layout=Layout(width='20px'), max=1.0), HTML(value=''…"
      ]
     },
     "metadata": {},
     "output_type": "display_data"
    },
    {
     "name": "stdout",
     "output_type": "stream",
     "text": [
      "Extracting ./.data/MNIST/raw/t10k-images-idx3-ubyte.gz to ./.data/MNIST/raw\n",
      "Downloading http://yann.lecun.com/exdb/mnist/t10k-labels-idx1-ubyte.gz to ./.data/MNIST/raw/t10k-labels-idx1-ubyte.gz\n"
     ]
    },
    {
     "data": {
      "application/vnd.jupyter.widget-view+json": {
       "model_id": "494c8b459ef94b8e80deec3ed7d1b793",
       "version_major": 2,
       "version_minor": 0
      },
      "text/plain": [
       "HBox(children=(FloatProgress(value=1.0, bar_style='info', layout=Layout(width='20px'), max=1.0), HTML(value=''…"
      ]
     },
     "metadata": {},
     "output_type": "display_data"
    },
    {
     "name": "stdout",
     "output_type": "stream",
     "text": [
      "Extracting ./.data/MNIST/raw/t10k-labels-idx1-ubyte.gz to ./.data/MNIST/raw\n",
      "Processing...\n",
      "Done!\n"
     ]
    },
    {
     "name": "stderr",
     "output_type": "stream",
     "text": [
      "/home/herbwood/anaconda3/envs/myPytorch/lib/python3.7/site-packages/torchvision/datasets/mnist.py:469: UserWarning: The given NumPy array is not writeable, and PyTorch does not support non-writeable tensors. This means you can write to the underlying (supposedly non-writeable) NumPy array using the tensor. You may want to copy the array to protect its data or make it writeable before converting it to a tensor. This type of warning will be suppressed for the rest of this program. (Triggered internally at  /opt/conda/conda-bld/pytorch_1595629401553/work/torch/csrc/utils/tensor_numpy.cpp:141.)\n",
      "  return torch.from_numpy(parsed.astype(m[2], copy=False)).view(*s)\n"
     ]
    }
   ],
   "source": [
    "train_loader = torch.utils.data.DataLoader(\n",
    "    datasets.MNIST('./.data',\n",
    "                  train=True,\n",
    "                  download=True,\n",
    "                  transform = transforms.Compose([\n",
    "                      transforms.RandomHorizontalFlip(),\n",
    "                      transforms.ToTensor(),\n",
    "                      transforms.Normalize((0.1307,), (0.3081))\n",
    "                  ])),\n",
    "    batch_size = BATCH_SIZE, shuffle=True)\n",
    "\n",
    "test_loader = torch.utils.data.DataLoader(\n",
    "    datasets.MNIST('./.data',\n",
    "                  train=False,\n",
    "                  transform = transforms.Compose([\n",
    "                      transforms.ToTensor(),\n",
    "                      transforms.Normalize((0.1307,), (0.3081))\n",
    "                  ])),\n",
    "    batch_size = BATCH_SIZE, shuffle=True)"
   ]
  },
  {
   "cell_type": "code",
   "execution_count": 5,
   "metadata": {},
   "outputs": [],
   "source": [
    "class Net(nn.Module):\n",
    "    def __init__(self, dropout_p=0.2):\n",
    "        super(Net, self).__init__()\n",
    "        self.fc1 = nn.Linear(784, 256)\n",
    "        self.fc2 = nn.Linear(256, 128)\n",
    "        self.fc3 = nn.Linear(128, 10)\n",
    "        self.dropout_p = dropout_p\n",
    "        \n",
    "    def forward(self, x):\n",
    "        x = x.view(-1, 784)\n",
    "        x = F.relu(self.fc1(x))\n",
    "        x = F.relu(self.fc2(x))\n",
    "        x = F.dropout(x, training=self.training,\n",
    "                     p=self.dropout_p)\n",
    "        x = self.fc3(x)\n",
    "        \n",
    "        return x"
   ]
  },
  {
   "cell_type": "code",
   "execution_count": 6,
   "metadata": {},
   "outputs": [],
   "source": [
    "model = Net(dropout_p=0.2).to(DEVICE)\n",
    "optimizer = optim.SGD(model.parameters(), lr=0.01)"
   ]
  },
  {
   "cell_type": "code",
   "execution_count": 7,
   "metadata": {},
   "outputs": [],
   "source": [
    "def train(model, train_loader, optimizer):\n",
    "    model.train()\n",
    "    for batch_idx, (data, target) in enumerate(train_loader):\n",
    "        data, target = data.to(DEVICE), target.to(DEVICE)\n",
    "        optimizer.zero_grad()\n",
    "        output = model(data)\n",
    "        loss = F.cross_entropy(output, target)\n",
    "        loss.backward()\n",
    "        optimizer.step()"
   ]
  },
  {
   "cell_type": "code",
   "execution_count": 8,
   "metadata": {},
   "outputs": [],
   "source": [
    "def evaluate(model, test_loader):\n",
    "    model.eval()\n",
    "    test_loss = 0\n",
    "    correct = 0\n",
    "    with torch.no_grad():\n",
    "        for data, target in test_loader:\n",
    "            data, target = data.to(DEVICE), target.to(DEVICE)\n",
    "            output = model(data)\n",
    "            \n",
    "            test_loss += F.cross_entropy(output, target, reduction='sum').item()\n",
    "            \n",
    "            pred = output.max(1, keepdim=True)[1]\n",
    "            correct += pred.eq(target.view_as(pred)).sum().item()\n",
    "            \n",
    "    test_loss /= len(test_loader.dataset)\n",
    "    test_accuracy = 100. * correct / len(test_loader.dataset)\n",
    "    return test_loss, test_accuracy"
   ]
  },
  {
   "cell_type": "code",
   "execution_count": 9,
   "metadata": {},
   "outputs": [
    {
     "name": "stdout",
     "output_type": "stream",
     "text": [
      "[1] Test Loss : 0.5310, Accuracy : 83.20%\n",
      "[2] Test Loss : 0.4084, Accuracy : 87.35%\n",
      "[3] Test Loss : 0.3476, Accuracy : 89.27%\n",
      "[4] Test Loss : 0.2866, Accuracy : 91.23%\n",
      "[5] Test Loss : 0.2508, Accuracy : 92.35%\n",
      "[6] Test Loss : 0.2238, Accuracy : 93.13%\n",
      "[7] Test Loss : 0.2026, Accuracy : 93.78%\n",
      "[8] Test Loss : 0.1864, Accuracy : 94.37%\n",
      "[9] Test Loss : 0.1734, Accuracy : 94.82%\n",
      "[10] Test Loss : 0.1631, Accuracy : 95.08%\n",
      "[11] Test Loss : 0.1584, Accuracy : 94.91%\n",
      "[12] Test Loss : 0.1467, Accuracy : 95.49%\n",
      "[13] Test Loss : 0.1472, Accuracy : 95.32%\n",
      "[14] Test Loss : 0.1396, Accuracy : 95.64%\n",
      "[15] Test Loss : 0.1367, Accuracy : 95.65%\n",
      "[16] Test Loss : 0.1301, Accuracy : 95.95%\n",
      "[17] Test Loss : 0.1278, Accuracy : 95.96%\n",
      "[18] Test Loss : 0.1224, Accuracy : 96.12%\n",
      "[19] Test Loss : 0.1196, Accuracy : 96.17%\n",
      "[20] Test Loss : 0.1163, Accuracy : 96.17%\n",
      "[21] Test Loss : 0.1167, Accuracy : 96.26%\n",
      "[22] Test Loss : 0.1156, Accuracy : 96.15%\n",
      "[23] Test Loss : 0.1099, Accuracy : 96.46%\n",
      "[24] Test Loss : 0.1088, Accuracy : 96.47%\n",
      "[25] Test Loss : 0.1065, Accuracy : 96.58%\n",
      "[26] Test Loss : 0.1032, Accuracy : 96.80%\n",
      "[27] Test Loss : 0.1011, Accuracy : 96.73%\n",
      "[28] Test Loss : 0.1004, Accuracy : 96.75%\n",
      "[29] Test Loss : 0.0995, Accuracy : 96.77%\n",
      "[30] Test Loss : 0.0978, Accuracy : 96.81%\n",
      "[31] Test Loss : 0.0998, Accuracy : 96.69%\n",
      "[32] Test Loss : 0.0976, Accuracy : 96.88%\n",
      "[33] Test Loss : 0.0968, Accuracy : 96.73%\n",
      "[34] Test Loss : 0.0919, Accuracy : 96.89%\n",
      "[35] Test Loss : 0.0941, Accuracy : 96.87%\n",
      "[36] Test Loss : 0.0911, Accuracy : 96.99%\n",
      "[37] Test Loss : 0.0921, Accuracy : 96.97%\n",
      "[38] Test Loss : 0.0864, Accuracy : 97.16%\n",
      "[39] Test Loss : 0.0886, Accuracy : 97.05%\n",
      "[40] Test Loss : 0.0886, Accuracy : 97.08%\n",
      "[41] Test Loss : 0.0855, Accuracy : 97.15%\n",
      "[42] Test Loss : 0.0875, Accuracy : 97.16%\n",
      "[43] Test Loss : 0.0849, Accuracy : 97.22%\n",
      "[44] Test Loss : 0.0877, Accuracy : 97.14%\n",
      "[45] Test Loss : 0.0862, Accuracy : 97.26%\n",
      "[46] Test Loss : 0.0858, Accuracy : 97.21%\n",
      "[47] Test Loss : 0.0863, Accuracy : 97.13%\n",
      "[48] Test Loss : 0.0832, Accuracy : 97.34%\n",
      "[49] Test Loss : 0.0804, Accuracy : 97.39%\n",
      "[50] Test Loss : 0.0839, Accuracy : 97.32%\n"
     ]
    }
   ],
   "source": [
    "for epoch in range(1, EPOCHS+1):\n",
    "    train(model, train_loader, optimizer)\n",
    "    test_loss, test_accuracy = evaluate(model, test_loader)\n",
    "    \n",
    "    print('[{}] Test Loss : {:.4f}, Accuracy : {:.2f}%'.format(epoch, test_loss, test_accuracy))"
   ]
  },
  {
   "cell_type": "code",
   "execution_count": null,
   "metadata": {},
   "outputs": [],
   "source": []
  }
 ],
 "metadata": {
  "kernelspec": {
   "display_name": "Python 3",
   "language": "python",
   "name": "python3"
  },
  "language_info": {
   "codemirror_mode": {
    "name": "ipython",
    "version": 3
   },
   "file_extension": ".py",
   "mimetype": "text/x-python",
   "name": "python",
   "nbconvert_exporter": "python",
   "pygments_lexer": "ipython3",
   "version": "3.8.3"
  }
 },
 "nbformat": 4,
 "nbformat_minor": 4
}
