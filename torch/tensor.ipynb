{
 "cells": [
  {
   "cell_type": "code",
   "execution_count": 3,
   "metadata": {},
   "outputs": [
    {
     "name": "stdout",
     "output_type": "stream",
     "text": [
      "tensor([[1, 2, 3],\n",
      "        [4, 5, 6],\n",
      "        [7, 8, 9]])\n",
      "Size : torch.Size([3, 3])\n",
      "Shape : torch.Size([3, 3])\n",
      "랭크(차원) : 2\n"
     ]
    }
   ],
   "source": [
    "import torch\n",
    "\n",
    "x = torch.tensor([[1, 2, 3], [4, 5, 6], [7, 8, 9]])\n",
    "print(x)\n",
    "\n",
    "print('Size :', x.size())\n",
    "print('Shape :', x.shape)\n",
    "print('랭크(차원) :', x.ndimension())"
   ]
  },
  {
   "cell_type": "code",
   "execution_count": 4,
   "metadata": {},
   "outputs": [
    {
     "name": "stdout",
     "output_type": "stream",
     "text": [
      "tensor([[[1, 2, 3],\n",
      "         [4, 5, 6],\n",
      "         [7, 8, 9]]])\n",
      "Size : torch.Size([1, 3, 3])\n",
      "Shape : torch.Size([1, 3, 3])\n",
      "랭크(차원) : 3\n"
     ]
    }
   ],
   "source": [
    "x = torch.unsqueeze(x, 0)\n",
    "print(x)\n",
    "\n",
    "print(f'Size : {x.size()}')\n",
    "print(f'Shape : {x.shape}')\n",
    "print(f'랭크(차원) : {x.ndimension()}')"
   ]
  },
  {
   "cell_type": "code",
   "execution_count": 5,
   "metadata": {},
   "outputs": [
    {
     "name": "stdout",
     "output_type": "stream",
     "text": [
      "tensor([1, 2, 3, 4, 5, 6, 7, 8, 9])\n",
      "Size : torch.Size([9])\n",
      "Shape : torch.Size([9])\n",
      "랭크(차원) : 1\n"
     ]
    }
   ],
   "source": [
    "x = x.view(9)\n",
    "print(x)\n",
    "\n",
    "print(f'Size : {x.size()}')\n",
    "print(f'Shape : {x.shape}')\n",
    "print(f'랭크(차원) : {x.ndimension()}')"
   ]
  },
  {
   "cell_type": "code",
   "execution_count": 6,
   "metadata": {},
   "outputs": [
    {
     "name": "stdout",
     "output_type": "stream",
     "text": [
      "shape '[2, 4]' is invalid for input of size 9\n"
     ]
    }
   ],
   "source": [
    "try:\n",
    "    x = x.view(2, 4)\n",
    "except Exception as e:\n",
    "    print(e)"
   ]
  },
  {
   "cell_type": "code",
   "execution_count": 7,
   "metadata": {},
   "outputs": [
    {
     "name": "stdout",
     "output_type": "stream",
     "text": [
      "w size : torch.Size([5, 3])\n",
      "x size : torch.Size([3, 2])\n",
      "w : tensor([[-0.3401,  2.3923, -0.0405],\n",
      "        [-0.6320,  0.6591, -0.3554],\n",
      "        [-0.4817, -0.0613, -0.2975],\n",
      "        [ 0.3138,  0.4709, -1.0337],\n",
      "        [ 1.6857,  1.5290, -0.4772]])\n",
      "x : tensor([[1., 2.],\n",
      "        [3., 4.],\n",
      "        [5., 6.]])\n"
     ]
    }
   ],
   "source": [
    "w = torch.randn(5, 3, dtype=torch.float)\n",
    "x = torch.tensor([[1.0, 2.0], [3.0, 4.0], [5.0, 6.0]])\n",
    "print(f\"w size : {w.size()}\")\n",
    "print(f\"x size : {x.size()}\")\n",
    "print(f'w : {w}')\n",
    "print(f'x : {x}')"
   ]
  },
  {
   "cell_type": "code",
   "execution_count": null,
   "metadata": {},
   "outputs": [],
   "source": [
    "b = torch.randn(5, 2, dtype=torch.float)\n",
    "print(f'b : ')"
   ]
  }
 ],
 "metadata": {
  "kernelspec": {
   "display_name": "Python 3",
   "language": "python",
   "name": "python3"
  },
  "language_info": {
   "codemirror_mode": {
    "name": "ipython",
    "version": 3
   },
   "file_extension": ".py",
   "mimetype": "text/x-python",
   "name": "python",
   "nbconvert_exporter": "python",
   "pygments_lexer": "ipython3",
   "version": "3.7.7"
  }
 },
 "nbformat": 4,
 "nbformat_minor": 4
}
