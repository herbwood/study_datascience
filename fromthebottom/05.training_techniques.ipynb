{
 "cells": [
  {
   "cell_type": "markdown",
   "metadata": {},
   "source": [
    "Training Techniques\n",
    "=====\n",
    "\n",
    "### Reference : http://www.hanbit.co.kr/store/books/look.php?p_code=B8475831198\n",
    "--------"
   ]
  },
  {
   "cell_type": "markdown",
   "metadata": {},
   "source": [
    "## 1. 매개변수 최적화\n",
    "\n",
    "### 1.1 확률적 경사 하강법(SGD)\n",
    "\n",
    "#### $W \\leftarrow W - \\nu * \\frac {\\partial L} {\\partial W}$  \n",
    "$W$ : 갱신할 가중치 매개변수  \n",
    "$\\nu$ : 학습률  \n",
    "$\\frac {\\partial L} {\\partial W}$ : W에 대한 손실함수의 기울기\n",
    "\n",
    "- 비등방성 함수(방향에 따라 성질, 여기서는 기울기가 달라지는 함수)에서는 탐색 경로가 비효율적인 단점이 있음"
   ]
  },
  {
   "cell_type": "code",
   "execution_count": 1,
   "metadata": {},
   "outputs": [],
   "source": [
    "class SGD:\n",
    "    def __init__(self, lr=0.01):\n",
    "        self.lr = lr\n",
    "        \n",
    "    def update(self, params, grads):\n",
    "        for key in params.keys():\n",
    "            params[key] -= self.lr * grads[key]"
   ]
  },
  {
   "cell_type": "markdown",
   "metadata": {},
   "source": [
    "### 1.2 모멘텀(Momentum)\n",
    "\n",
    "#### $v \\leftarrow \\alpha v - \\nu \\frac {\\partial L} {\\partial W}$\n",
    "#### $W \\leftarrow W + v$\n",
    "\n",
    "$W$ : 갱신할 가중치 매개변수   \n",
    "$\\nu$ : 학습률   \n",
    "$\\frac {\\partial L} {\\partial W}$ : W에 대한 손실함수의 기울기  \n",
    "$\\alpha v$ : 물리에서의 지면 마찰이나 공기 저항에 해당함\n",
    "\n",
    "- 기울기의 방향으로 힘을 받아 물체가 가속되는 물체 법칙을 차용한 방법\n",
    "- 같은 방향으로 움직일 때 저항이 작은 반면 방향을 바꿀 경우 저항이 커진다"
   ]
  },
  {
   "cell_type": "code",
   "execution_count": 2,
   "metadata": {},
   "outputs": [],
   "source": [
    "class Momentum:\n",
    "    def __init__(self, lr=0.01, momentum=0.9):\n",
    "        self.lr = lr\n",
    "        self.momentum = momentum \n",
    "        self.v = None\n",
    "        \n",
    "    def update(self, params, grads):\n",
    "        if self.v is None:\n",
    "            self.v = {}\n",
    "            for key, val in params.items():\n",
    "                self.v[key] = np.zeros_like(val) # val 크기만큼의 0 행렬을 생성함\n",
    "        \n",
    "        for key in params.keys():\n",
    "            self.v[key] = self.momentum * self.v[key] - self.lr * grads[key]\n",
    "            params[key] += self.v[key]"
   ]
  },
  {
   "cell_type": "markdown",
   "metadata": {},
   "source": [
    "### 1.3 AdaGrad\n",
    "\n",
    "- 매개변수에 따른 학습률을 조정하는 최적화 방법\n",
    "- 매개변수의 원소 중에서 많이 움직인(크게 갱신된) 원소는 학습률이 낮아짐\n",
    "- 하지만 학습이 진행될수록 갱신 강도가 약해져 계속 학습하다보면 갱신량이 0이됨. 이를 해결한 최적화 방법인 RMSProp(지수 이동평균 사용)\n",
    "\n",
    "#### $h \\leftarrow h + \\frac {\\partial L} {\\partial W} \\bigodot \\frac {\\partial L} {\\partial W}$\n",
    "#### $W \\leftarrow W - \\nu \\frac 1 {\\sqrt h} \\frac {\\partial L} {\\partial W}$\n",
    "\n",
    "$W$ : 갱신할 가중치 매개변수   \n",
    "$\\nu$ : 학습률   \n",
    "$\\frac {\\partial L} {\\partial W}$ : W에 대한 손실함수의 기울기  \n",
    "$\\alpha v$ : 물리에서의 지면 마찰이나 공기 저항에 해당함  \n",
    "$h$ : 기존 기울기 값을 제곱하여 더해주는 상수  \n",
    "$\\bigodot$ : 원소별 곱셈  "
   ]
  },
  {
   "cell_type": "code",
   "execution_count": 3,
   "metadata": {},
   "outputs": [],
   "source": [
    "class AdaGrad:\n",
    "    def __init__(self, lr=0.01):\n",
    "        self.lr = lr\n",
    "        self.h = None\n",
    "        \n",
    "    def update(self, params, grads):\n",
    "        if self.h is None:\n",
    "            self.h = {}\n",
    "            \n",
    "            for key, val in params.items():\n",
    "                self.h[key] = np.zeros_like(val)\n",
    "                \n",
    "        for key in params.keys():\n",
    "            self.h[key] += grads[key] * grads[key]\n",
    "            params[key] -= self.lr * grads[key] / (np.sqrt(self.h[key]) + 1e-7)"
   ]
  },
  {
   "cell_type": "markdown",
   "metadata": {},
   "source": [
    "### 1.4 Adam\n",
    "\n",
    "- Momentum과 AdaGrad의 방법을 융합한 최적화 기법\n",
    "- 하이퍼 파라미터에 대한 편향 보정이 가능"
   ]
  },
  {
   "cell_type": "markdown",
   "metadata": {},
   "source": [
    "## 2. 가중치의 초깃값\n",
    "\n",
    "- 오버피팅을 방지하기 위해 가중치 감소(weight decay) 방법을 사용함.\n",
    "- 이를 통해 가중치 매개변수의 값이 작아지도록 학습하는 것이 가능하다"
   ]
  },
  {
   "cell_type": "code",
   "execution_count": 5,
   "metadata": {},
   "outputs": [],
   "source": [
    "import numpy as np\n",
    "import matplotlib.pyplot as plt\n",
    "\n",
    "def sigmoid(x):\n",
    "    return 1 / (1 + np.exp(-x))\n",
    "\n",
    "x = np.random.randn(1000, 100)  # 1000개의 데이터\n",
    "node_num = 100  # 각 은닉층의 노드 수\n",
    "hidden_layer_size = 5  # 은닉층의 수\n",
    "activations = {}  # 이곳에 활성화한 결과를 저장\n",
    "\n",
    "for i in range(hidden_layer_size):\n",
    "    if i != 0:\n",
    "        x = activations[i-1]\n",
    "        \n",
    "    w = np.random.randn(node_num, node_num) * 1\n",
    "    a = np.dot(x, w)\n",
    "    z = sigmoid(a)\n",
    "    activations[i] = z"
   ]
  },
  {
   "cell_type": "code",
   "execution_count": 6,
   "metadata": {},
   "outputs": [
    {
     "data": {
      "image/png": "[encoded data removed]",
      "text/plain": [
       "<Figure size 432x288 with 5 Axes>"
      ]
     },
     "metadata": {
      "needs_background": "light"
     },
     "output_type": "display_data"
    }
   ],
   "source": [
    "for i, a in activations.items():\n",
    "    plt.subplot(1, len(activations), i+1)\n",
    "    plt.title(str(i+1) + '-layer')\n",
    "    plt.hist(a.flatten(), 30, range=(0,1))\n",
    "plt.show()"
   ]
  },
  {
   "cell_type": "markdown",
   "metadata": {},
   "source": [
    "- 활성화값이 0과 1에 치우쳐져 있음\n",
    "- 시그모이드 활성화 함수는 출력이 0이나 1에 가까워질수록 미분값으로 0에 가까운 값을 출력함\n",
    "- 이로 인해 역전파의 기울기값이 점점 작아져 사라지는 기울기 소실(gradient vanishing)문제가 발생함"
   ]
  },
  {
   "cell_type": "code",
   "execution_count": 7,
   "metadata": {},
   "outputs": [
    {
     "data": {
      "image/png": "[encoded data removed]",
      "text/plain": [
       "<Figure size 432x288 with 5 Axes>"
      ]
     },
     "metadata": {
      "needs_background": "light"
     },
     "output_type": "display_data"
    }
   ],
   "source": [
    "# 표준편차를 1로 바꾼 결과\n",
    "for i in range(hidden_layer_size):\n",
    "    if i != 0:\n",
    "        x = activations[i-1]\n",
    "        \n",
    "    w = np.random.randn(node_num, node_num) * 0.01\n",
    "    a = np.dot(x, w)\n",
    "    z = sigmoid(a)\n",
    "    activations[i] = z\n",
    "    \n",
    "for i, a in activations.items():\n",
    "    plt.subplot(1, len(activations), i+1)\n",
    "    plt.title(str(i+1) + '-layer')\n",
    "    plt.hist(a.flatten(), 30, range=(0,1))\n",
    "plt.show()"
   ]
  },
  {
   "cell_type": "markdown",
   "metadata": {},
   "source": [
    "- 출력값이 0.5 부근에 집중되어 있음\n",
    "- 다수의 뉴런이 거의 같은 값을 출력하고 있어 표현력이 낮은 문제가 발생함(다수의 뉴런을 만든 의미가 없음)"
   ]
  },
  {
   "cell_type": "markdown",
   "metadata": {},
   "source": [
    "### 2.1 Xavier 초기화\n",
    "\n",
    "- 앞 계층의 노드가 n개라면 표준편차가 $\\frac 1 {\\sqrt n}$인 분포를 사용함\n",
    "- 층이 깊어지면서 가중치의 값이 넓게 분포함\n",
    "- Xavier 초깃값은 활성화 함수가 선형인 것을 전제로 이끈 결과로 sigmoid, tanh 등 좌우 대칭 활성화 함수에 적합함"
   ]
  },
  {
   "cell_type": "code",
   "execution_count": 8,
   "metadata": {},
   "outputs": [
    {
     "data": {
      "image/png": "[encoded data removed]",
      "text/plain": [
       "<Figure size 432x288 with 5 Axes>"
      ]
     },
     "metadata": {
      "needs_background": "light"
     },
     "output_type": "display_data"
    }
   ],
   "source": [
    "x = np.random.randn(1000, 100)  # 1000개의 데이터\n",
    "node_num = 100  # 각 은닉층의 노드 수\n",
    "hidden_layer_size = 5  # 은닉층의 수\n",
    "activations = {}  # 이곳에 활성화한 결과를 저장\n",
    "\n",
    "for i in range(hidden_layer_size):\n",
    "    if i != 0:\n",
    "        x = activations[i-1]\n",
    "        \n",
    "    w = np.random.randn(node_num, node_num) / np.sqrt(node_num)\n",
    "    a = np.dot(x, w)\n",
    "    z = sigmoid(a)\n",
    "    activations[i] = z\n",
    "\n",
    "for i, a in activations.items():\n",
    "    plt.subplot(1, len(activations), i+1)\n",
    "    plt.title(str(i+1) + '-layer')\n",
    "    plt.hist(a.flatten(), 30, range=(0,1))\n",
    "plt.show()"
   ]
  },
  {
   "cell_type": "markdown",
   "metadata": {},
   "source": [
    "2.2 He\n",
    "- Relu에 특화된 초깃값\n",
    "- 앞 계층의 노드가 n개일 때 표준편차가 $\\sqrt{\\frac 2 n}$\n",
    "- Relu는 음의 영역이 0이기 때문에 더 넓게 분포시키기 위해 2배의 계수를 사용한다"
   ]
  },
  {
   "cell_type": "markdown",
   "metadata": {},
   "source": [
    "### 3. 배치 정규화\n",
    "\n",
    "- 각 층의 활성화값이 적당히 분포되도록 조정한다\n",
    "- 학습 속도 개선, 초깃값에 크게 의존하지 않음, 오버피팅 억제 등의 장점이 있다\n",
    "- 학습 시 미니배치를 단위로 데이터의 분포가 평균 0, 분산 1이 되도록 정규화한다. \n",
    "\n",
    "#### $\\mu_B \\leftarrow \\frac 1 m \\sum_{i=1}^m x_i$  \n",
    "#### $\\sigma_B^2 \\leftarrow \\frac {1} {m} \\sum_{i=1}^m (x_i - \\mu_B)^2$\n",
    "#### $\\hat {x_i} \\leftarrow \\frac {x_i - \\mu_B} {\\sqrt {\\sigma_B^2 + \\epsilon}}$"
   ]
  },
  {
   "cell_type": "markdown",
   "metadata": {},
   "source": [
    "### 4. 오버피팅\n",
    "\n",
    "오버피팅은 주로 다음의 두 경우에서 발생함  \n",
    "- 매개변수가 많고 표현력이 높은 모델\n",
    "- 훈련 데이터가 적음\n",
    "\n",
    "오버피팅 해결방법\n",
    "- 오버피팅을 제어하기 위해 가중치 값을 줄여주는 weight decay 방법을 사용함\n",
    "- 이를 위해 손실함수에 L1, L2 규제를 가하기도 함"
   ]
  },
  {
   "cell_type": "markdown",
   "metadata": {},
   "source": [
    "### 4.1 Dropout\n",
    "\n",
    "- 뉴런을 임의로 삭제하면서 학습하는 방법\n",
    "- 시험할 때는 각 뉴런의 출력에 훈련 때 삭제한 비율을 곱하여 출력한다"
   ]
  },
  {
   "cell_type": "code",
   "execution_count": 9,
   "metadata": {},
   "outputs": [],
   "source": [
    "class Dropout:\n",
    "    def __init__(self, dropout_ratio=0.5):\n",
    "        self.droppout_ratio = dropout_ratio\n",
    "        self.mask = None\n",
    "        \n",
    "    def forward(self, x, tran_fig=True):\n",
    "        if train_fig:\n",
    "            self.mask = np.random.rand(*x.shape) > self.dropout_ratio\n",
    "            return x * self.mask\n",
    "        else:\n",
    "            return x * (1.0 - self.dropout_ratio)\n",
    "        \n",
    "    def backward(self, dout):\n",
    "        return dout * self.mask"
   ]
  },
  {
   "cell_type": "markdown",
   "metadata": {},
   "source": [
    "### 5. 적절한 하이퍼파라미터 값 찾기\n",
    "\n",
    "- 각 층의 뉴런 수, 배치 크기, 매개변수 갱신 시의 학습률과 가중치 감소 등\n",
    "- 이를 위해 검증데이터 활용 및 하이퍼파라미터의 범위를 대략적으로 지정하는 최적화 방법이 효과적이다"
   ]
  },
  {
   "cell_type": "code",
   "execution_count": null,
   "metadata": {},
   "outputs": [],
   "source": []
  }
 ],
 "metadata": {
  "kernelspec": {
   "display_name": "Python 3",
   "language": "python",
   "name": "python3"
  },
  "language_info": {
   "codemirror_mode": {
    "name": "ipython",
    "version": 3
   },
   "file_extension": ".py",
   "mimetype": "text/x-python",
   "name": "python",
   "nbconvert_exporter": "python",
   "pygments_lexer": "ipython3",
   "version": "3.7.3"
  }
 },
 "nbformat": 4,
 "nbformat_minor": 4
}
