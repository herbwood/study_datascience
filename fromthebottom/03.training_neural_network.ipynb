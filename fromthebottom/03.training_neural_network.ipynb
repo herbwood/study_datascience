{
 "cells": [
  {
   "cell_type": "markdown",
   "metadata": {},
   "source": [
    "Training Neural Network\n",
    "=====\n",
    "\n",
    "### Reference : http://www.hanbit.co.kr/store/books/look.php?p_code=B8475831198\n",
    "--------"
   ]
  },
  {
   "cell_type": "markdown",
   "metadata": {},
   "source": [
    "## 1. Loss function\n",
    "- 신경망의 성능을 측정하는 지표로, 현재의 신경망이 훈련 데이터를 잘 처리하는지 못하는지를  나타냄"
   ]
  },
  {
   "cell_type": "markdown",
   "metadata": {},
   "source": [
    "### 1.1 Mean Squared Error\n",
    "\n",
    "#### $E = \\frac 1 2 \\sum_{k}(y_k-t_k)^2$\n",
    "- $y_k$ : 신경망의 출력(예측값)\n",
    "- $t_k$ : 정답 레이블\n",
    "- $k$ : 데이터의 차원 수"
   ]
  },
  {
   "cell_type": "code",
   "execution_count": 6,
   "metadata": {},
   "outputs": [
    {
     "name": "stdout",
     "output_type": "stream",
     "text": [
      "0.09750000000000003\n"
     ]
    }
   ],
   "source": [
    "import numpy as np\n",
    "\n",
    "def mean_squared_error(y, t):\n",
    "    return 0.5 * np.sum((y-t)**2)\n",
    "\n",
    "t = np.array([0,0,1,0,0,0,0,0,0])\n",
    "y = np.array([0.1,0.05,0.6,0.0,0.05,0.1,0.0,0.1,0.0])\n",
    "\n",
    "print(mean_squared_error(y, t))"
   ]
  },
  {
   "cell_type": "markdown",
   "metadata": {},
   "source": [
    "### 1.2 Cross Entropy Error\n",
    "\n",
    "#### $E = -\\sum t_klogy_k$\n",
    "\n",
    "### $E = - \\frac 1 N \\sum_{n} \\sum_{k} t_{nk} logy_{nk}$\n",
    "\n",
    "- 단일 데이터가 아닌 N개의 데이터에 대한 cross entropy error\n",
    "- k개의 데이터를 임의로 추출하여 사용하는 mini-batch 방법을 사용함\n",
    "- $t_{nk}$ : n번째 데이터의 k번째 값\n",
    "- $y_{nk}$ : n번째 데이터의 k번째 예측값\n",
    "- 마지막에 데이터의 크기 N으로 나눠줌으로써 정규화해준다. $\\rightarrow$ 평균 손실 함수"
   ]
  },
  {
   "cell_type": "code",
   "execution_count": 7,
   "metadata": {},
   "outputs": [
    {
     "name": "stdout",
     "output_type": "stream",
     "text": [
      "0.510825457099338\n"
     ]
    }
   ],
   "source": [
    "def cross_entropy_error(y, t):\n",
    "    delta = 1e-7  # inf가 되는 경우를 방지하기 위해 작은 상수를 더해줌\n",
    "    return -np.sum(t * np.log(y + delta))\n",
    "\n",
    "print(cross_entropy_error(y, t))"
   ]
  },
  {
   "cell_type": "markdown",
   "metadata": {},
   "source": [
    "### 2. Mini Batch"
   ]
  },
  {
   "cell_type": "code",
   "execution_count": 22,
   "metadata": {},
   "outputs": [
    {
     "name": "stdout",
     "output_type": "stream",
     "text": [
      "[37251 13709 37172 48342 22100 45916 23870 53274 52447 26725]\n"
     ]
    }
   ],
   "source": [
    "from keras.datasets.mnist import load_data\n",
    "\n",
    "(x_train, y_train), (x_test, y_test) = load_data()\n",
    "x_train = x_train.reshape((60000, 784))\n",
    "\n",
    "# 임의의 훈련 데이터 추출(mini-batch)\n",
    "train_size = x_train.shape[0]\n",
    "batch_size = 10\n",
    "batch_mask = np.random.choice(train_size, batch_size)\n",
    "x_batch = x_train[batch_mask]\n",
    "y_batch = y_train[batch_mask]\n",
    "\n",
    "print(batch_mask)"
   ]
  },
  {
   "cell_type": "code",
   "execution_count": 23,
   "metadata": {},
   "outputs": [],
   "source": [
    "# 배치용 교차 엔트로피 오차 구현\n",
    "def cross_entropy_error(y, t):\n",
    "    if y.ndim == 1:\n",
    "        t = t.reshape(1, t.size)\n",
    "        y = y.reshape(1, y.size)\n",
    "        \n",
    "    batch_size = y.shape[0]\n",
    "    return -np.sum(t * log(y + 1e-7)) / batch_size"
   ]
  },
  {
   "cell_type": "code",
   "execution_count": 24,
   "metadata": {},
   "outputs": [],
   "source": [
    "# label이 one-host encoding되지 않은 경우\n",
    "def cross_entropy_error(y, t):\n",
    "    if y.ndim == 1:\n",
    "        t = t.reshape(1, t.size)\n",
    "        y = y.reshape(1, y.size)\n",
    "        \n",
    "    batch_size = y.shape[0]\n",
    "    return -np.sum(np.log(y[np.arange(batch_size), t] + 1e-7)) / batch_size"
   ]
  },
  {
   "cell_type": "markdown",
   "metadata": {},
   "source": [
    "### 3. 수치 미분"
   ]
  },
  {
   "cell_type": "code",
   "execution_count": 25,
   "metadata": {},
   "outputs": [],
   "source": [
    "def numerical_diff(f, x):\n",
    "    h = 1e-4  # 너무 작은 값은 반올림 오차로 표기가 안됨\n",
    "    return (f(x+h) - f(x-h)) / (2**h)  # x+h와 x값 사이의 차분에서 오차가 생김. 중심 차분을 사용!"
   ]
  },
  {
   "cell_type": "markdown",
   "metadata": {},
   "source": [
    "#### 3.1 수치 미분의 예"
   ]
  },
  {
   "cell_type": "code",
   "execution_count": 27,
   "metadata": {},
   "outputs": [
    {
     "data": {
      "image/png": "[encoded data removed]",
      "text/plain": [
       "<Figure size 432x288 with 1 Axes>"
      ]
     },
     "metadata": {
      "needs_background": "light"
     },
     "output_type": "display_data"
    }
   ],
   "source": [
    "import matplotlib.pyplot as plt\n",
    "\n",
    "def function_1(x):\n",
    "    return 0.01 * x ** 2 + 0.1 * x\n",
    "\n",
    "x = np.arange(0.0, 20.0, 0.1)\n",
    "y = function_1(x)\n",
    "plt.xlabel('x')\n",
    "plt.ylabel('f(x)')\n",
    "plt.plot(x, y)\n",
    "plt.show()"
   ]
  },
  {
   "cell_type": "code",
   "execution_count": 28,
   "metadata": {},
   "outputs": [
    {
     "name": "stdout",
     "output_type": "stream",
     "text": [
      "3.9997227507184116e-05\n",
      "5.9995841260776174e-05\n"
     ]
    }
   ],
   "source": [
    "print(numerical_diff(function_1, 5))\n",
    "print(numerical_diff(function_1, 10))"
   ]
  },
  {
   "cell_type": "markdown",
   "metadata": {},
   "source": [
    "#### 3.2 편미분\n",
    "\n",
    "$f(x_0, x_1) = x_0^2 + x_1^2$\n",
    "\n",
    "Q1) $x_0=3, x_1=4, x_0$에 대한 편미분  \n",
    "Q2) $x_0=3, x_1=4, x_1$에 대한 편미분  "
   ]
  },
  {
   "cell_type": "code",
   "execution_count": 30,
   "metadata": {},
   "outputs": [
    {
     "name": "stdout",
     "output_type": "stream",
     "text": [
      "0.0011999168252217404\n",
      "0.0015998891002944695\n"
     ]
    }
   ],
   "source": [
    "def function_2(x):\n",
    "    return x[0] ** 2 + x[1] ** 2\n",
    "\n",
    "# Q1\n",
    "def function_tmp1(x0):\n",
    "    return x0 * x0 + 4.0 ** 2.0\n",
    "\n",
    "print(numerical_diff(function_tmp1, 3.0))\n",
    "\n",
    "\n",
    "# Q2\n",
    "def function_tmp2(x1):\n",
    "    return 3.0**2.0 + x1*x1\n",
    "\n",
    "print(numerical_diff(function_tmp2, 4.0))"
   ]
  },
  {
   "cell_type": "markdown",
   "metadata": {},
   "source": [
    "### 4. 기울기"
   ]
  },
  {
   "cell_type": "markdown",
   "metadata": {},
   "source": [
    "- 모든 변수의 편미분을 묶어서 ${(\\frac {\\partial f} {\\partial x_0}, \\frac {\\partial f} {\\partial x_1})}$ 벡터 형식으로 정리한 것을 기울기"
   ]
  },
  {
   "cell_type": "code",
   "execution_count": null,
   "metadata": {},
   "outputs": [],
   "source": [
    "# 기울기 구현\n",
    "def numerical_gradient(f, x):\n",
    "    h = 1e-4\n",
    "    grad = np.zeros_like(x) # x와 형상이 같은 배열을 생성\n",
    "    \n",
    "    for idx in range(x.size):\n",
    "        tmp_val = x[idx]\n",
    "        # f(x+h) 계산\n",
    "        x[idx] = tmp_val + h\n",
    "        fxh1 = f(x)\n",
    "        \n",
    "        x[idx] = tmp_val - h\n",
    "        fxh2 = fx(x)\n",
    "        \n",
    "        grad[idx] = (fxh1 - fxh2) / (2 * h)\n",
    "        x[idx] = "
   ]
  }
 ],
 "metadata": {
  "kernelspec": {
   "display_name": "Python 3",
   "language": "python",
   "name": "python3"
  },
  "language_info": {
   "codemirror_mode": {
    "name": "ipython",
    "version": 3
   },
   "file_extension": ".py",
   "mimetype": "text/x-python",
   "name": "python",
   "nbconvert_exporter": "python",
   "pygments_lexer": "ipython3",
   "version": "3.7.3"
  }
 },
 "nbformat": 4,
 "nbformat_minor": 4
}
