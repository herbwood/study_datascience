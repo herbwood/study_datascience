{
 "cells": [
  {
   "cell_type": "markdown",
   "metadata": {},
   "source": [
    "Neural Network\n",
    "=====\n",
    "\n",
    "### Reference : http://www.hanbit.co.kr/store/books/look.php?p_code=B8475831198\n",
    "--------"
   ]
  },
  {
   "cell_type": "markdown",
   "metadata": {},
   "source": [
    "## 1. Activation Functions(활성화 함수)\n",
    "\n",
    "- 입력 신호의 총합을 출력 신호로 변환하는 함수이다.\n",
    "- 퍼셉트론과의 차이점\n",
    "- 신경망의 은닉층의 활용하기 위해 비선형 활성화 함수를 사용해야 한다\n",
    "(직선 하나로 표현할 수 없는 함수)  \n",
    "\n",
    "$y = h(b + w_1x_1 + w_2x_2)$  \n",
    "$x = b + w_1x_1 + w_2x_2$\n",
    "\n",
    "\n",
    "- $y$ : 출력값\n",
    "- $h(x)$ : 활성화 함수\n",
    "- $x_1, x_2$ : 입력값  \n",
    "- $w_1, w_2$ : 가중치  \n",
    "- $b$ : 편향\n",
    "- $x$ : 입력 신호의 총합"
   ]
  },
  {
   "cell_type": "markdown",
   "metadata": {},
   "source": [
    "### 1.1 Step function\n",
    "\n",
    "$h(x) = 0$ if $(x \\le 0)$  \n",
    "$h(x) = 1$ if $(x > 0)$ "
   ]
  },
  {
   "cell_type": "code",
   "execution_count": 1,
   "metadata": {},
   "outputs": [],
   "source": [
    "def step_function(x):\n",
    "    y = x > 0\n",
    "    return y.astype(np.int)"
   ]
  },
  {
   "cell_type": "code",
   "execution_count": 2,
   "metadata": {},
   "outputs": [
    {
     "data": {
      "text/plain": [
       "array([False,  True,  True])"
      ]
     },
     "execution_count": 2,
     "metadata": {},
     "output_type": "execute_result"
    }
   ],
   "source": [
    "# numpy에서는 유용한 배열 연산 기능을 제공함\n",
    "import numpy as np\n",
    "\n",
    "x = np.array([-1.0, 1.0, 2.0])\n",
    "y = x > 0\n",
    "y"
   ]
  },
  {
   "cell_type": "code",
   "execution_count": 3,
   "metadata": {},
   "outputs": [
    {
     "data": {
      "text/plain": [
       "array([0, 1, 1])"
      ]
     },
     "execution_count": 3,
     "metadata": {},
     "output_type": "execute_result"
    }
   ],
   "source": [
    "# bool 값을 정수값으로 변환\n",
    "y.astype(np.int)"
   ]
  },
  {
   "cell_type": "code",
   "execution_count": 5,
   "metadata": {},
   "outputs": [
    {
     "data": {
      "image/png": "[encoded data removed]",
      "text/plain": [
       "<Figure size 432x288 with 1 Axes>"
      ]
     },
     "metadata": {
      "needs_background": "light"
     },
     "output_type": "display_data"
    }
   ],
   "source": [
    "# step function 시각화\n",
    "import matplotlib.pyplot as plt\n",
    "\n",
    "x = np.arange(-5.0, 5.0, 0.1)\n",
    "y = step_function(x)\n",
    "plt.plot(x, y)\n",
    "plt.ylim(-0.1, 1.1)\n",
    "plt.show()"
   ]
  },
  {
   "cell_type": "markdown",
   "metadata": {},
   "source": [
    "### 1.2 Sigmoid function\n",
    "\n",
    "$h(x) = 0$ if $(x < 1/2)$  \n",
    "$h(x) = 1$ if $(x \\ge 1/2)$ "
   ]
  },
  {
   "cell_type": "code",
   "execution_count": 6,
   "metadata": {},
   "outputs": [],
   "source": [
    "def sigmoid(x):\n",
    "    return 1 / (1 + np.exp(-x))"
   ]
  },
  {
   "cell_type": "code",
   "execution_count": 7,
   "metadata": {},
   "outputs": [
    {
     "data": {
      "text/plain": [
       "array([0.26894142, 0.73105858, 0.88079708])"
      ]
     },
     "execution_count": 7,
     "metadata": {},
     "output_type": "execute_result"
    }
   ],
   "source": [
    "x = np.array([-1.0, 1.0, 2.0])\n",
    "sigmoid(x)"
   ]
  },
  {
   "cell_type": "code",
   "execution_count": 8,
   "metadata": {},
   "outputs": [
    {
     "data": {
      "image/png": "[encoded data removed]",
      "text/plain": [
       "<Figure size 432x288 with 1 Axes>"
      ]
     },
     "metadata": {
      "needs_background": "light"
     },
     "output_type": "display_data"
    }
   ],
   "source": [
    "# sigmoid 함수 시각화\n",
    "\n",
    "x = np.arange(-5.0, 5.0, 0.1)\n",
    "y = sigmoid(x)\n",
    "plt.plot(x, y)\n",
    "plt.ylim(-0.1, 1.1)\n",
    "plt.show()"
   ]
  },
  {
   "cell_type": "markdown",
   "metadata": {},
   "source": [
    "### 1.3 ReLU(Rectified Linear Unit) function\n",
    "\n",
    "$h(x) = 0$ if $(x \\le 0)$  \n",
    "$h(x) = x$ if $(x > 0)$ "
   ]
  },
  {
   "cell_type": "code",
   "execution_count": 9,
   "metadata": {},
   "outputs": [],
   "source": [
    "def relu(x):\n",
    "    np.maximum(0, x)"
   ]
  },
  {
   "cell_type": "markdown",
   "metadata": {},
   "source": [
    "## 2. 신경망 구현하기\n",
    "\n",
    "#### $x_{q}$   \n",
    "- q : input index  \n",
    "\n",
    "#### $w_{q w}^{(r)}$\n",
    "- q : 다음 층 뉴런의 index  \n",
    "- w : 이 전 층 뉴런의 index\n",
    "- r : layer index\n",
    "\n",
    "#### $a_q^{(r)}$\n",
    "- $q$ : index\n",
    "- $r$ : layer index\n",
    "\n",
    "$a_1^{(1)} = w_11^{(1)}x_1 + w_12^{(1)}x_2 + b_1^{(1)}$"
   ]
  },
  {
   "cell_type": "code",
   "execution_count": 12,
   "metadata": {},
   "outputs": [
    {
     "name": "stdout",
     "output_type": "stream",
     "text": [
      "(2,)\n",
      "(2, 3)\n",
      "(3,)\n"
     ]
    }
   ],
   "source": [
    "# input layer\n",
    "X = np.array([1.0, 0.5]) \n",
    "W1 = np.array([[0.1, 0.3, 0.5], [0.2, 0.4, 0.6]]) # hidden layer의 뉴런 수가 3이므로\n",
    "B1 = np.array([0.1, 0.2, 0.3])\n",
    "\n",
    "print(X.shape)\n",
    "print(W1.shape)\n",
    "print(B1.shape)\n",
    "\n",
    "A1 = np.dot(X, W1) + B1"
   ]
  },
  {
   "cell_type": "code",
   "execution_count": 14,
   "metadata": {},
   "outputs": [
    {
     "name": "stdout",
     "output_type": "stream",
     "text": [
      "[0.3 0.7 1.1]\n",
      "[0.57444252 0.66818777 0.75026011]\n"
     ]
    }
   ],
   "source": [
    "Z1 = sigmoid(A1)\n",
    "\n",
    "print(A1)\n",
    "print(Z1)"
   ]
  },
  {
   "cell_type": "code",
   "execution_count": 15,
   "metadata": {},
   "outputs": [],
   "source": [
    "# hidden layer\n",
    "W2 = np.array([[0.1, 0.4], [0.2,0.5], [0.3, 0.6]])\n",
    "B2 = np.array([0.1, 0.2])\n",
    "\n",
    "A2 = np.dot(Z1, W2) + B2\n",
    "Z2 = sigmoid(A2)"
   ]
  },
  {
   "cell_type": "code",
   "execution_count": 17,
   "metadata": {},
   "outputs": [],
   "source": [
    "# 출력 함수 구현\n",
    "def identity_function(x):\n",
    "    return x\n",
    "\n",
    "# output layer\n",
    "W3 = np.array([[0.1, 0.3], [0.2, 0.4]])\n",
    "B3 = np.array([0.1, 0.2])\n",
    "\n",
    "A3 = np.dot(Z2, W3) + B3\n",
    "Y = identity_function(A3)"
   ]
  },
  {
   "cell_type": "code",
   "execution_count": 18,
   "metadata": {},
   "outputs": [
    {
     "name": "stdout",
     "output_type": "stream",
     "text": [
      "[0.31682708 0.69627909]\n"
     ]
    }
   ],
   "source": [
    "# 구현 정리\n",
    "\n",
    "def init_network():\n",
    "    network = {}\n",
    "    network['W1'] = np.array([[0.1, 0.3, 0.5], [0.2, 0.4, 0.6]]) \n",
    "    network['b1'] = np.array([0.1, 0.2, 0.3])\n",
    "    network['W2'] = np.array([[0.1, 0.4], [0.2,0.5], [0.3, 0.6]])\n",
    "    network['b2'] = np.array([0.1, 0.2])\n",
    "    network['W3'] = np.array([[0.1, 0.3], [0.2, 0.4]])\n",
    "    network['b3'] = np.array([0.1, 0.2])\n",
    "    \n",
    "    return network\n",
    "\n",
    "def forward(network, x):\n",
    "    W1, W2, W3 = network['W1'], network['W2'], network['W3']\n",
    "    b1, b2, b3 = network['b1'], network['b2'], network['b3']\n",
    "    \n",
    "    a1 = np.dot(x, W1) + b1\n",
    "    z1 = sigmoid(a1)\n",
    "    a2 = np.dot(z1, W2) + b2\n",
    "    z2 = sigmoid(a2)\n",
    "    a3 = np.dot(z2, W3) + b3\n",
    "    y = identity_function(a3)\n",
    "    \n",
    "    return y\n",
    "\n",
    "network = init_network()\n",
    "x = np.array([1.0, 0.5])\n",
    "y = forward(network, x)\n",
    "print(y)"
   ]
  },
  {
   "cell_type": "markdown",
   "metadata": {},
   "source": [
    "## 3. 출력층 설계하기\n"
   ]
  },
  {
   "cell_type": "markdown",
   "metadata": {},
   "source": [
    "### 3.1 Softmax 함수 \n",
    "\n",
    "$y_k = \\frac {exp(a_k)} {\\sum_{i=1}^n exp(a_i)}$"
   ]
  },
  {
   "cell_type": "code",
   "execution_count": 19,
   "metadata": {},
   "outputs": [],
   "source": [
    "def softmax(a):\n",
    "    exp_a = np.exp(a)\n",
    "    sum_exp_a = np.sum(exp_a)\n",
    "    y = exp_a / sum_exp_a\n",
    "    \n",
    "    return y"
   ]
  },
  {
   "cell_type": "markdown",
   "metadata": {},
   "source": [
    "### 3.2 Softmax 함수 구현 시 주의사항\n",
    "\n",
    "- 큰 값을 나누면 결과 수치가 불안정해짐\n",
    "- 분자, 분모에 배열에서 가장 큰 값을 더해줌\n",
    "- 개선 수식\n",
    "$y_k = \\frac {exp(a_k + logC)} {\\sum_{i=1}^n exp(a_i + logC)}$"
   ]
  },
  {
   "cell_type": "code",
   "execution_count": 20,
   "metadata": {},
   "outputs": [],
   "source": [
    "def softmax(a):\n",
    "    c = np.max(a)\n",
    "    exp_a = np.exp(a-c)\n",
    "    sum_exp_a = np.sum(exp_a)\n",
    "    y = exp_a / sum_exp_a\n",
    "    \n",
    "    return y"
   ]
  },
  {
   "cell_type": "markdown",
   "metadata": {},
   "source": [
    "## 4. 손글씨 숫자 인식\n"
   ]
  },
  {
   "cell_type": "markdown",
   "metadata": {},
   "source": [
    "### 4.1 신경망 구현"
   ]
  },
  {
   "cell_type": "code",
   "execution_count": 26,
   "metadata": {},
   "outputs": [
    {
     "name": "stdout",
     "output_type": "stream",
     "text": [
      "(60000, 28, 28)\n",
      "(60000,)\n",
      "(10000, 28, 28)\n",
      "(10000,)\n"
     ]
    }
   ],
   "source": [
    "# load data\n",
    "from keras.datasets.mnist import load_data\n",
    "\n",
    "(x_train, y_train), (x_test, y_test) = load_data()\n",
    "\n",
    "print(x_train.shape)\n",
    "print(y_train.shape)\n",
    "print(x_test.shape)\n",
    "print(y_test.shape)"
   ]
  },
  {
   "cell_type": "code",
   "execution_count": 41,
   "metadata": {},
   "outputs": [],
   "source": [
    "import pickle\n",
    "\n",
    "def get_data():\n",
    "    (x_train, y_train), (x_test, y_test) = load_data()\n",
    "    x_train = x_train.reshape((60000, 784))\n",
    "    x_test = x_test.reshape((10000, 784))\n",
    "    return x_test, y_test\n",
    "\n",
    "def init_network():\n",
    "    with open('sample_weight.pkl', 'rb') as f:\n",
    "        network = pickle.load(f)\n",
    "        \n",
    "    return network\n",
    "        \n",
    "def predict(network, x):\n",
    "    W1, W2, W3 = network['W1'], network['W2'], network['W3']\n",
    "    b1, b2, b3 = network['b1'], network['b2'], network['b3']\n",
    "    \n",
    "    a1 = np.dot(x, W1) + b1\n",
    "    z1 = sigmoid(a1)\n",
    "    a2 = np.dot(z1, W2) + b2\n",
    "    z2 = sigmoid(a2)\n",
    "    a3 = np.dot(z2, W3) + b3\n",
    "    y = identity_function(a3)\n",
    "    \n",
    "    return y"
   ]
  },
  {
   "cell_type": "code",
   "execution_count": 42,
   "metadata": {},
   "outputs": [
    {
     "name": "stderr",
     "output_type": "stream",
     "text": [
      "C:\\Users\\default.DESKTOP-S5Q9GAA\\Anaconda3\\lib\\site-packages\\ipykernel_launcher.py:2: RuntimeWarning: overflow encountered in exp\n",
      "  \n"
     ]
    },
    {
     "name": "stdout",
     "output_type": "stream",
     "text": [
      "Accuracy : 0.9207\n"
     ]
    }
   ],
   "source": [
    "x, t = get_data()\n",
    "network = init_network()\n",
    "\n",
    "accuracy_cnt = 0\n",
    "for i in range(len(x)):\n",
    "    y = predict(network, x[i]) # i번째 데이터에 대한 예측\n",
    "    p = np.argmax(y)  # softmax를 구현하지 않음! 가장 큰 값의 index를 반환함\n",
    "    if p == t[i]:  # 가장 큰 값의 index가 실제 숫자와 같으면 accuracy를 더해줌\n",
    "        accuracy_cnt += 1\n",
    "        \n",
    "print('Accuracy : ' + str(float(accuracy_cnt) / len(x)))"
   ]
  },
  {
   "cell_type": "code",
   "execution_count": 45,
   "metadata": {},
   "outputs": [
    {
     "data": {
      "text/plain": [
       "array([-0.01471108, -0.07215131, -0.00155692,  0.12199665,  0.11603302,\n",
       "       -0.00754946,  0.04085451, -0.08496164,  0.02898045,  0.0199724 ,\n",
       "        0.19770803,  0.04365116, -0.06518728, -0.05226324,  0.0113163 ,\n",
       "        0.03049979,  0.04060355,  0.0695399 , -0.07778469,  0.0692313 ,\n",
       "       -0.09365533,  0.0548001 , -0.03843745,  0.02123107,  0.03793406,\n",
       "       -0.02806267, -0.01818407,  0.06870425,  0.0542943 ,  0.0674368 ,\n",
       "        0.06264312, -0.0233236 , -0.01589135,  0.01860516,  0.01839287,\n",
       "       -0.01568104, -0.07422207, -0.01606729, -0.02262172, -0.01007509,\n",
       "        0.0434415 , -0.12020151,  0.02802471, -0.07591944, -0.00533499,\n",
       "       -0.08935217, -0.0181419 ,  0.0330689 , -0.01812706, -0.07689384,\n",
       "       -0.02715412, -0.03847084, -0.05315471, -0.02153288,  0.06898243,\n",
       "        0.02431128, -0.00333816,  0.00817491,  0.03911701, -0.02924617,\n",
       "        0.07184725, -0.00356748,  0.02246175,  0.03987982, -0.04921926,\n",
       "        0.02454282,  0.05875788,  0.08505439, -0.00190306, -0.03044275,\n",
       "       -0.06383366,  0.0470311 , -0.12005549,  0.03573952, -0.04293387,\n",
       "        0.03283867, -0.03347731, -0.13659105, -0.00123189,  0.00096832,\n",
       "        0.04590394, -0.02517798, -0.02073979,  0.02005584,  0.010629  ,\n",
       "        0.01902938, -0.01046924,  0.05777885,  0.04737163, -0.04362756,\n",
       "        0.07450858,  0.05077952,  0.06648835,  0.04064002, -0.00265163,\n",
       "        0.00576806, -0.09652461, -0.05131314,  0.02199687, -0.04358608],\n",
       "      dtype=float32)"
      ]
     },
     "execution_count": 45,
     "metadata": {},
     "output_type": "execute_result"
    }
   ],
   "source": [
    "network = init_network()\n",
    "network['b2']"
   ]
  },
  {
   "cell_type": "markdown",
   "metadata": {},
   "source": [
    "### 4.2 배치 처리"
   ]
  },
  {
   "cell_type": "code",
   "execution_count": 43,
   "metadata": {},
   "outputs": [
    {
     "name": "stderr",
     "output_type": "stream",
     "text": [
      "C:\\Users\\default.DESKTOP-S5Q9GAA\\Anaconda3\\lib\\site-packages\\ipykernel_launcher.py:2: RuntimeWarning: overflow encountered in exp\n",
      "  \n"
     ]
    },
    {
     "name": "stdout",
     "output_type": "stream",
     "text": [
      "Accuracy : 0.9207\n"
     ]
    }
   ],
   "source": [
    "x, t = get_data()\n",
    "network = init_network()\n",
    "\n",
    "batch_size = 100 # 배치 크기\n",
    "accuracy_cnt = 0\n",
    "\n",
    "for i in range(0, len(x), batch_size):\n",
    "    x_batch = x[i:i+batch_size] # 배치 사이즈만큼 불러들이기\n",
    "    y_batch = predict(network, x_batch)  # 각 샘플별로 10개의 확률값을 출력함\n",
    "    p = np.argmax(y_batch, axis=1)\n",
    "    accuracy_cnt += np.sum(p == t[i:i+batch_size])\n",
    "    \n",
    "print('Accuracy : ' + str(float(accuracy_cnt) / len(x)))   "
   ]
  },
  {
   "cell_type": "code",
   "execution_count": 46,
   "metadata": {},
   "outputs": [
    {
     "name": "stdout",
     "output_type": "stream",
     "text": [
      "[1 2 1 0]\n"
     ]
    }
   ],
   "source": [
    "x = np.array([[0.1, 0.8, 0.1], \n",
    "              [0.3, 0.1, 0.6], \n",
    "              [0.2, 0.5, 0.3], \n",
    "              [0.8, 0.1, 0.1]])\n",
    "y = np.argmax(x, axis=1) #  축을 기준으로 최댓값을 반환\n",
    "print(y)"
   ]
  },
  {
   "cell_type": "code",
   "execution_count": 47,
   "metadata": {},
   "outputs": [
    {
     "name": "stdout",
     "output_type": "stream",
     "text": [
      "[ True  True False  True]\n",
      "3\n"
     ]
    }
   ],
   "source": [
    "y = np.array([1, 2, 1, 0])\n",
    "t = np.array([1, 2, 0, 0])\n",
    "print(y==t)\n",
    "print(np.sum(y==t))"
   ]
  },
  {
   "cell_type": "code",
   "execution_count": null,
   "metadata": {},
   "outputs": [],
   "source": []
  }
 ],
 "metadata": {
  "kernelspec": {
   "display_name": "Python 3",
   "language": "python",
   "name": "python3"
  },
  "language_info": {
   "codemirror_mode": {
    "name": "ipython",
    "version": 3
   },
   "file_extension": ".py",
   "mimetype": "text/x-python",
   "name": "python",
   "nbconvert_exporter": "python",
   "pygments_lexer": "ipython3",
   "version": "3.6.8"
  }
 },
 "nbformat": 4,
 "nbformat_minor": 4
}
