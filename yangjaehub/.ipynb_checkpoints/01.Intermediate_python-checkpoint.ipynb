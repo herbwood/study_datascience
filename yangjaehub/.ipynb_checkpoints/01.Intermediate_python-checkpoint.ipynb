{
 "cells": [
  {
   "cell_type": "markdown",
   "metadata": {},
   "source": [
    "중급 파이썬 \n",
    "======================"
   ]
  },
  {
   "cell_type": "markdown",
   "metadata": {},
   "source": [
    "파이썬 자료형 및 연산 익히기\n",
    "------------"
   ]
  },
  {
   "cell_type": "code",
   "execution_count": 1,
   "metadata": {},
   "outputs": [
    {
     "name": "stdout",
     "output_type": "stream",
     "text": [
      "3 11 9 177147 [1.23, 2.21, 3.66, 4.25, 5.21, 31.25, 18.87] [1.23, 2.21, 3.66, 4.25, 5.21, 31.25, 18.87, 1.23, 2.21, 3.66, 4.25, 5.21, 31.25, 18.87, 1.23, 2.21, 3.66, 4.25, 5.21, 31.25, 18.87, 1.23, 2.21, 3.66, 4.25, 5.21, 31.25, 18.87, 1.23, 2.21, 3.66, 4.25, 5.21, 31.25, 18.87] [15.23, 16.21, 17.66, 18.25, 19.21, 45.25, 32.870000000000005] 2 0 ['1등 - 유진', '2등 - 민철', '3등 - 가영', '4등 - 민희', '5등 - 영진', '6등 - 미희', '7등 - 진수', '8등 - 영철', '9등 - 민지', '10등 - 영호', '11등 - 호준', '12등 - 지혜', '13등 - 철수'] [['YJ', '유진'], ['MC', '민철'], ['GY', '가영'], ['MH', '민희'], ['YJ', '영진'], ['MH', '미희'], ['JS', '진수'], ['YC', '영철'], ['MJ', '민지'], ['YH', '영호'], ['HJ', '호준'], ['JH', '지혜'], ['CS', '철수']]\n"
     ]
    }
   ],
   "source": [
    "def main():\n",
    "    \n",
    "    a = 3\n",
    "    b = 11\n",
    "    \n",
    "    a_square = a ** 2\n",
    "    a_power_b = pow(a, b)\n",
    "    \n",
    "    c = [1.23, 2.21, 3.66, 4.25, 5.21, 31.25, 18.87]\n",
    "    \n",
    "    five_c = 5 * c\n",
    "    c_ac_b= [a + c_n + b for c_n in c]\n",
    "    \n",
    "    d = [1,2,3,5,3,7,8,8,4,5,6,2,5,7,9,4,4,9,5,6,3,2,1,2,2,2,3,3,3,3,4,4,8]\n",
    "    \n",
    "    num_one = d.count(1)\n",
    "    num_two = d.count(0)\n",
    "    \n",
    "    e = [\"유진\", \"민철\", \"가영\", \"민희\", \"영진\", \"미희\", \"진수\", \"영철\", \"민지\", \"영호\", \"호준\", \"지혜\", \"철수\"]\n",
    "    \n",
    "    e_with_rank=[ str(idx+1)+\"등 - \"+name for idx,name in enumerate(e)]\n",
    "    \n",
    "    f = [\"YJ\", \"MC\", \"GY\", \"MH\", \"YJ\", \"MH\", \"JS\", \"YC\", \"MJ\", \"YH\", \"HJ\", \"JH\", \"CS\"]\n",
    "    \n",
    "    correspond_e_f = [[a, b] for a, b in zip(f, e)]\n",
    "    \n",
    "    print(a, b, a_square, a_power_b, c, five_c, c_ac_b, num_one, num_two, e_with_rank, correspond_e_f)\n",
    "\n",
    "main()"
   ]
  },
  {
   "cell_type": "markdown",
   "metadata": {},
   "source": [
    "파이썬 조건문/ 반복문 활용하기\n",
    "------------"
   ]
  },
  {
   "cell_type": "code",
   "execution_count": 2,
   "metadata": {},
   "outputs": [
    {
     "name": "stdout",
     "output_type": "stream",
     "text": [
      "[1, 0, 1, 0, 1, 0, 1, 1, 0, 0, 1] [1, 0, 1, 0, 0, 0, 0, 1, 0, 0, 1] [True, True, False, False] [False, False, True, True]\n"
     ]
    }
   ],
   "source": [
    "def main():\n",
    "\n",
    "    a = [1.23, -2.21, 3.66, -4.25, 5.21, -31.25, 18.87, 1.43, -2.00, -55.21, 25.02]\n",
    "    \n",
    "    # 리스트 내의 각각의 원소에 대해서 0보다 크면 1을, 0보다 작거나 같으면 0을 값으로 갖는 리스트를 만들어 봅시다.\n",
    "    sign_a = [1 if i >0 else 0 for i in a]\n",
    "    \n",
    "    b = [1, 0, 3, -4, 1, 26, 25, 1, 5, 47, 25]\n",
    "    \n",
    "    # 리스트 a와 b의 원소들을 대응시켜 'a[i] - b[i]' 연산을 했을 때, 그 결과가 0보다 크고 1보다 작은 경우 1을, 아닐 경우 0을 값으로 갖는 리스트를 만들어 봅시다.\n",
    "    \n",
    "    c = [ 1 if (((_a - _b)<1) and ((_a - _b)>0)) else 0 for _a, _b in zip(a,b)] \n",
    "    \n",
    "    b = [1.43, 3.66, -2.14, -55.20]\n",
    "    \n",
    "    # 리스트 a 안에 b의 i번째 원소 b[i]가 있으면 True, 없으면 False를 i번째 원소로 갖는 리스트(1행 4열)를 생성해 봅시다. \n",
    "    b_in_a = [True if _b in a else False for _b in b]\n",
    "    \n",
    "    # 리스트 a 안에 b의 i번째 원소 b[i]가 없으면 True, 있으면 False를 i번째 원소로 갖는 리스트(1행 4열)를 생성해 봅시다.\n",
    "    b_not_in_a = [True if _b not in a else False for _b in b]\n",
    "    \n",
    "    print(sign_a, c, b_in_a, b_not_in_a)\n",
    "    \n",
    "main()"
   ]
  },
  {
   "cell_type": "markdown",
   "metadata": {},
   "source": [
    "파이썬 람다 / 내장함수 활용하기\n",
    "----------"
   ]
  },
  {
   "cell_type": "code",
   "execution_count": 5,
   "metadata": {},
   "outputs": [
    {
     "name": "stdout",
     "output_type": "stream",
     "text": [
      "result1 : [13, 30]\n",
      "result2 : [1519, 323328]\n",
      "result3 : 771903\n",
      "result4 : 2\n",
      "result5 : ['가', '각', '갂', '갃', '간', '갅', '갆', '갇']\n",
      "result6 : [1, 3, 5, 9, 8, 4, 12]\n"
     ]
    }
   ],
   "source": [
    "def main():\n",
    "    # 두 수 x,y를 받아 [x와 y의 합, x와 y의 곱]의 리스트를 반환하는 함수를 만들어 봅니다.\n",
    "    add_multi = lambda x, y : [x+y, x*y]\n",
    "    \n",
    "    ##add_multi 실행\n",
    "    result1 = add_multi(10,3)\n",
    "    result2 = add_multi(256,1263)\n",
    "    \n",
    "    #1부터 1242 까지의 합을 구하기\n",
    "    result3 = sum([i for i in range(1, 1243)])\n",
    "    \n",
    "    a = [123.334,533,245.3,74,2,57.77,4,3,333,432,622,2298,3934,532]\n",
    "    result4 = min(a)\n",
    "    result5 = max(a)\n",
    "    \n",
    "    #'한글의 모든 가능한 자모음 조합을 차례로 원소로 가지는 리스트를 구해봅시다.(첫번째 원소는'가'이고  마지막 원소는 \"힣\"입니다. 한글을 숫자로 바꾸면 '가'가 가장 작은 값을 가지고 '힣'이 가장 큰 값을 가집니다.)\n",
    "    result5 = [chr(i) for i in range(ord('가'), ord('갈'))]\n",
    "    \n",
    "    c = [\"a\", \"abc\",\"abbbd\", \"asdgsaggd\", \"aghhdgss\", \"sssf\", \"sssffdgdghdg\"]\n",
    "    # 리스트 c의 각 원소의 길이를 원소로 갖는 리스트를 생성합니다.(참고로 x의 길이를 출력하는 함수는 \"len(x)\"입니다. )\n",
    "    result6 = list(map(len, c))\n",
    "    \n",
    "    return result1, result2, result3, result4, result5, result6\n",
    "\n",
    "def print_answer(**kwargs):\n",
    "    for key in kwargs.keys():\n",
    "        print(key,\":\", kwargs[key])\n",
    "\n",
    "result1, result2, result3, result4, result5, result6 = main()\n",
    "\n",
    "print_answer(result1=result1, result2=result2, result3=result3, result4=result4, result5=result5, result6=result6)"
   ]
  },
  {
   "cell_type": "markdown",
   "metadata": {},
   "source": [
    "파이썬 함수 인자를 여러 개 받아 처리하기\n",
    "---------------"
   ]
  },
  {
   "cell_type": "code",
   "execution_count": 6,
   "metadata": {
    "scrolled": true
   },
   "outputs": [
    {
     "name": "stdout",
     "output_type": "stream",
     "text": [
      "15\n",
      "175\n",
      "17.4\n",
      "english : 85\n",
      "math : 98\n",
      "korean : 100\n",
      "history : 85\n",
      "english : 21.25\n",
      "math : 24.5\n",
      "korean : 25.0\n",
      "history : 21.25\n"
     ]
    }
   ],
   "source": [
    "# \"*args\"를 사용하여 파라미터로 입력되는 모든 변수를 더하는 함수를 만들어 봅니다.\n",
    "def adder(*args):\n",
    "    return sum(args)\n",
    "    \n",
    "# \"*args\"를 사용하여 파라미터로 입력되는 모든 변수들의 평균을 구하는 함수를 만들어 봅니다.\n",
    "def mean_value(*args):\n",
    "    return sum(args)/len(args)\n",
    "# \"**kargs\"를 사용하여 파라미터로 입력되는 모든 변수들을 print 함수를 통해서 '변수이름 : 변수값'의 형태로 출력하는 함수를 만들어 봅니다.\n",
    "def print_func(**kargs):\n",
    "    for key, value in kargs.items():\n",
    "        print(key, ':', value)\n",
    "\n",
    "# \"*args\", \"**kargs\"를 사용하여 파라미터로 파라미터로 받은 'arg 변수'를 '**kargs'를 통해 받은 값들과 곱한 다음 '변수이름 : 변수값'의 형태로 출력하는 함수를 만들어 봅니다.\n",
    "def print_func2(*args, **kargs):\n",
    "    for key, value in kargs.items():\n",
    "        for arg in args:\n",
    "            print(key, ':', value * arg)\n",
    "\n",
    "print(adder(1,2,3,4,5))\n",
    "print(adder(1,2,3,4,5,10,22,112,2,3,5,6))\n",
    "\n",
    "print(mean_value(2,3,33,3,34,5,29,21,1,43))\n",
    "\n",
    "print_func(english = 85, math = 98, korean = 100, history = 85)\n",
    "\n",
    "print_func2(0.25, english = 85, math = 98, korean = 100, history = 85)"
   ]
  },
  {
   "cell_type": "markdown",
   "metadata": {},
   "source": [
    "PIL(Pillow)을 활용하여 웹 이미지 불러오기\n",
    "----------------"
   ]
  },
  {
   "cell_type": "code",
   "execution_count": 8,
   "metadata": {},
   "outputs": [],
   "source": [
    "import requests as req\n",
    "from io import BytesIO\n",
    "from PIL import Image\n",
    "\n",
    "def url_image(url):\n",
    "    response = req.get(url)\n",
    "    image = Image.open(BytesIO(response.content))\n",
    "    return image\n",
    "\n",
    "def url_image_resize(url, size):\n",
    "    image = url_image(url).resize(size)\n",
    "    return image\n",
    "\n",
    "def url_image_transpose(url, transpose=False):\n",
    "    image = url_image(url)\n",
    "    if transpose:\n",
    "        image = image.transpose(Image.TRANSPOSE)\n",
    "    return image\n",
    "\n",
    "def url_image_rotate(url, angle):\n",
    "    image = url_image(url).rotate(angle)\n",
    "    return image\n",
    "\n",
    "def main():\n",
    "\n",
    "    image = url_image(url)\n",
    "    image = url_image_resize(url, (300, 300))\n",
    "    image = url_image_transpose(url, transpose=True)\n",
    "    image = url_image_rotate(url, 90)\n",
    "    image.save(\"result.jpg\")\n",
    "    \n",
    "main()"
   ]
  },
  {
   "cell_type": "markdown",
   "metadata": {},
   "source": [
    "[미션] 가위!바위!보! 머신 만들기\n",
    "--------------"
   ]
  },
  {
   "cell_type": "code",
   "execution_count": null,
   "metadata": {},
   "outputs": [],
   "source": [
    "import random as rd\n",
    "\n",
    "## 전체 시행을 리스트로 받아서 'defeat'번 지는 함수를 만들어 봅시다.(비기는 경우는 없음)  \n",
    "def machine(**kwargs):\n",
    "    ## KEY 값과 그에 대응되어 이기는 VALUE값을 가진 딕셔너리 생성\n",
    "    answer = {\"가위\":\"바위\", \"바위\":\"보\", \"보\":\"가위\"}\n",
    "    \n",
    "    # kwargs값 중에 'defeat'변수와 그 값이 주어졌는지 확인하고 있다면 해당 값을 없으면 0을 져야하는 횟수로 설정하도록 해봅시다.\n",
    "    try:\n",
    "        num_defeat = kwargs['defeat']\n",
    "        del kwargs['defeat']\n",
    "    except:    \n",
    "        num_defeat = 0\n",
    "    \n",
    "    \n",
    "    results=[[tri] for tri in kargs.values()] ##전체 trial에 대한 결과값들을 trial 별로 저장하는 리스트\n",
    "    len_trial=[len(tri) for tri in kargs.values()] ##각 trial의 길이\n",
    "\n",
    "    for key in kwargs.keys():\n",
    "        # 전체 trial에 대해서 모두 이기는 결과를 results에 저장하는 기능을 구현해 봅시다.\n",
    "        \n",
    "        \n",
    "    for i in range(num_defeat):\n",
    "        #  전체 results 중에서 랜덤하게 num_lose만큼 (이긴)결과를 지는 결과로 바꾸어 저장하는 기능을 구현해 봅시다.\n",
    "    return results    "
   ]
  }
 ],
 "metadata": {
  "kernelspec": {
   "display_name": "Python 3",
   "language": "python",
   "name": "python3"
  },
  "language_info": {
   "codemirror_mode": {
    "name": "ipython",
    "version": 3
   },
   "file_extension": ".py",
   "mimetype": "text/x-python",
   "name": "python",
   "nbconvert_exporter": "python",
   "pygments_lexer": "ipython3",
   "version": "3.6.5"
  }
 },
 "nbformat": 4,
 "nbformat_minor": 2
}
