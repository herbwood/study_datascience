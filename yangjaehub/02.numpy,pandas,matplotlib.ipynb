{
 "cells": [
  {
   "cell_type": "markdown",
   "metadata": {},
   "source": [
    "Numpy, Pandas, Matplotlib\n",
    "======================"
   ]
  },
  {
   "cell_type": "markdown",
   "metadata": {},
   "source": [
    "Numpy 배열 선언하기\n",
    "-------"
   ]
  },
  {
   "cell_type": "code",
   "execution_count": 1,
   "metadata": {},
   "outputs": [
    {
     "name": "stdout",
     "output_type": "stream",
     "text": [
      "array1 : [[1 2 3]\n",
      " [4 5 6]\n",
      " [7 8 9]]\n",
      "array2 : [[0. 0. 0.]\n",
      " [0. 0. 0.]\n",
      " [0. 0. 0.]]\n",
      "array3 : [[1. 1. 1. 1. 1.]\n",
      " [1. 1. 1. 1. 1.]]\n",
      "array4 : [[1.10638555e+200 1.74903868e+156 6.09215634e+247]\n",
      " [4.26137297e+257 1.27734658e-152 1.94623525e+227]\n",
      " [1.06509905e-258 2.35566767e+251 1.37300378e+214]\n",
      " [1.28036948e-152 1.67765711e+243 9.10434163e+276]\n",
      " [1.20007747e+156 4.14835605e+156 2.46463778e+179]]\n",
      "array5 : [0 1 2 3 4 5 6 7 8 9]\n"
     ]
    }
   ],
   "source": [
    "import numpy as np\n",
    "\n",
    "x=[[1,2,3], [4,5,6], [7,8,9]]\n",
    "def solution(data):\n",
    "    #리스트 x를 Numpy 배열로 출력합니다.\n",
    "    array1 = np.array(x)\n",
    "\n",
    "    #모든 원소가 0인 3×3의 배열을 출력합니다.\n",
    "    array2 = array2 = np.zeros((3, 3))\n",
    "\n",
    "    #모든 원소가 1인 2×5의 배열을 출력합니다.\n",
    "    array3 = np.ones((2, 5))\n",
    "\n",
    "    #모든 원소가 초기화되지 않은 임의의 값을 가진 5×3의 배열을 출력합니다.\n",
    "    array4 = np.empty((5, 3)) \n",
    "\n",
    "    # 0부터 9까지의 값을 원소로 하는 1×10 배열을 출력합니다.\n",
    "    array5 = np.arange(0,10)\n",
    "    \n",
    "    return array1, array2, array3, array4, array5\n",
    "\n",
    "def print_answer(**kwargs):\n",
    "    for key in kwargs.keys():\n",
    "        print(key,\":\", kwargs[key])\n",
    "\n",
    "array1, array2, array3, array4, array5 = solution(x)\n",
    "\n",
    "print_answer(array1=array1, array2=array2, array3=array3, array4=array4, array5=array5)"
   ]
  },
  {
   "cell_type": "markdown",
   "metadata": {},
   "source": [
    "Numpy 함수로 행렬연산 다루기\n",
    "---------------"
   ]
  },
  {
   "cell_type": "code",
   "execution_count": 2,
   "metadata": {},
   "outputs": [
    {
     "name": "stdout",
     "output_type": "stream",
     "text": [
      "[[1 2 3]\n",
      " [4 5 6]\n",
      " [7 8 9]]\n",
      "[[1 4 7]\n",
      " [2 5 8]\n",
      " [3 6 9]] 는 array1을 전치한 행렬입니다.\n",
      "[[ 14  32  50]\n",
      " [ 32  77 122]\n",
      " [ 50 122 194]] 는 array1과 array1의 전치 행렬을 행렬곱한 것입니다.\n",
      "[[ 1  8 21]\n",
      " [ 8 25 48]\n",
      " [21 48 81]] 는 array1과 array1의 전치행렬을 요소별로 곱한 행렬입니다.\n",
      "[[ 0.63636364 -0.27272727]\n",
      " [-0.09090909  0.18181818]] 는 array2의 역행렬입니다.\n",
      "[2 7] 는 array2의 대각 성분입니다.\n",
      "[[1. 0.]\n",
      " [0. 1.]] 는 array2와 array2의 역행렬을 곱한 행렬입니다.\n"
     ]
    }
   ],
   "source": [
    "import numpy as np\n",
    "\n",
    "array1 = np.array([[1,2,3], [4,5,6], [7,8,9]])\n",
    "print(array1)\n",
    "\n",
    "# array1을 전치한 배열을 구해봅시다.\n",
    "transposed = array1.T\n",
    "print(transposed, '는 array1을 전치한 행렬입니다.')    \n",
    "\n",
    "# array1과 array1의 전치 행렬의 행렬곱을 구해봅시다\n",
    "power = np.dot(array1, transposed)\n",
    "print(power,'는 array1과 array1의 전치 행렬을 행렬곱한 것입니다.')\n",
    "\n",
    "# array1과 array1의 전치 행렬의 요소별 곱을 구해봅시다.\n",
    "elementwise_prod = array1 * transposed\n",
    "print(elementwise_prod, '는 array1과 array1의 전치행렬을 요소별로 곱한 행렬입니다.')\n",
    "\n",
    "array2 = np.array([[2,3],[1,7]])\n",
    "\n",
    "# array2의 역행렬을 만들어 봅시다.\n",
    "inverse_array2 = np.linalg.inv(array2)\n",
    "print(inverse_array2,'는 array2의 역행렬입니다.')\n",
    "\n",
    "# array2의 대각 성분을 추출해 봅시다.\n",
    "diagonal = np.diagonal(array2)\n",
    "print(diagonal,'는 array2의 대각 성분입니다.')\n",
    "\n",
    "# array2와 array2의 역행렬을 곱한 행렬을 만들어 봅시다.\n",
    "producted = np.dot(array2, inverse_array2)\n",
    "print(producted,'는 array2와 array2의 역행렬을 곱한 행렬입니다.')"
   ]
  },
  {
   "cell_type": "markdown",
   "metadata": {},
   "source": [
    "Numpy로 통계적 정보 나타내기\n",
    "-----------------"
   ]
  },
  {
   "cell_type": "code",
   "execution_count": 3,
   "metadata": {},
   "outputs": [
    {
     "name": "stdout",
     "output_type": "stream",
     "text": [
      "배열 x의 최솟값: 1\n",
      "배열 x의 최댓값: 9\n",
      "배열 x의 평균값: 5.0\n",
      "배열 x의 중앙값: 5.0\n",
      "배열 x의 분산값: 6.666666666666667\n",
      "배열 x의 표준편차값: 2.581988897471611\n"
     ]
    }
   ],
   "source": [
    "import numpy as np\n",
    "\n",
    "x = np.array([1,2,3,4,5,6,7,8,9], dtype=np.int32)\n",
    "\n",
    "# 배열 x의 최솟값을 구해봅시다.\n",
    "array1 = np.min(x)\n",
    "print(\"배열 x의 최솟값:\", array1)\n",
    "\n",
    "# 배열 x의 최댓값을 구해봅시다.\n",
    "array2 = np.max(x)\n",
    "print(\"배열 x의 최댓값:\", array2)\n",
    "\n",
    "#배열 x의 평균값을 구해봅시다.\n",
    "array3 = np.mean(x)\n",
    "print(\"배열 x의 평균값:\", array3)\n",
    "\n",
    "# 배열 x의 중앙값을 구해봅시다.\n",
    "array4 = np.median(x)\n",
    "print(\"배열 x의 중앙값:\", array4)\n",
    "\n",
    "# 배열 x의 분산값을 구해봅시다.\n",
    "array5 = np.var(x)\n",
    "print(\"배열 x의 분산값:\", array5)\n",
    "\n",
    "# 배열 x의 표준편차값을 구해봅시다.\n",
    "array6 = np.std(x)\n",
    "print(\"배열 x의 표준편차값:\", array6)"
   ]
  },
  {
   "cell_type": "markdown",
   "metadata": {},
   "source": [
    "Pandas로 Series, DataFrame 생성하기\n",
    "-------------"
   ]
  },
  {
   "cell_type": "code",
   "execution_count": 6,
   "metadata": {},
   "outputs": [
    {
     "name": "stdout",
     "output_type": "stream",
     "text": [
      "국어     90\n",
      "영어     70\n",
      "수학    100\n",
      "과학     80\n",
      "Name: class_name, dtype: int64 \n",
      "\n",
      "    class_name\n",
      "국어          90\n",
      "영어          70\n",
      "수학         100\n",
      "과학          80 \n",
      "\n"
     ]
    }
   ],
   "source": [
    "import pandas as pd\n",
    "\n",
    "def main():\n",
    "    ### 1. Series()를 사용하여 1차원 데이터를 만들어보세요.\n",
    "    # 5개의 age 데이터와 이름을 age로 선언해보세요.\n",
    "    age = pd.Series( [21,22,23,24,25], name= 'age')\n",
    "    \n",
    "    \n",
    "    ### 2. Python Dictionary 형태의 데이터가 있습니다.\n",
    "    # class_name 데이터를 Series로 만들어보세요.\n",
    "    class_name = {'국어' : 90,'영어' : 70,'수학' : 100,'과학' : 80}\n",
    "    class_name = pd.Series(list(class_name.values()), name = 'class_name', index = class_name.keys())\n",
    "    print(class_name,'\\n')\n",
    "\n",
    "    \n",
    "    ### 3. DataFrame()을 사용하여 2차원 데이터를 생성해보세요.\n",
    "    # index와 columns 값을 설정해보세요.\n",
    "    data = pd.DataFrame(class_name, index =list(class_name.keys()), columns = None)\n",
    "    print(data,'\\n')\n",
    "    \n",
    "if __name__ == \"__main__\":\n",
    "    main()"
   ]
  },
  {
   "cell_type": "markdown",
   "metadata": {},
   "source": [
    "Pandas 데이터 다루기 (1)\n",
    "------"
   ]
  },
  {
   "cell_type": "code",
   "execution_count": 8,
   "metadata": {
    "scrolled": true
   },
   "outputs": [
    {
     "name": "stdout",
     "output_type": "stream",
     "text": [
      "            0      1      2      3      4\n",
      "age      20.0   15.0   30.0   25.0   35.0\n",
      "weight   68.5   60.3   53.4   74.1   80.7\n",
      "height  180.0  165.0  155.0  178.0  185.0\n",
      "0    20.0\n",
      "1    15.0\n",
      "2    30.0\n",
      "3    25.0\n",
      "4    35.0\n",
      "Name: age, dtype: float64 \n",
      "\n",
      "0    20.0\n",
      "1    15.0\n",
      "2    30.0\n",
      "3    25.0\n",
      "4    35.0\n",
      "Name: age, dtype: float64 \n",
      "\n",
      "0    68.5\n",
      "1    60.3\n",
      "2    53.4\n",
      "3    74.1\n",
      "4    80.7\n",
      "Name: weight, dtype: float64 \n",
      "\n",
      "0    180.0\n",
      "1    165.0\n",
      "2    155.0\n",
      "3    178.0\n",
      "4    185.0\n",
      "Name: height, dtype: float64 \n",
      "\n",
      "           0     1     2     3     4\n",
      "age       20    15    30    25    35\n",
      "weight  68.5  60.3  53.4  74.1  80.7\n",
      "height   180   165   155   178   185\n",
      "sex        F     M     F     M     F \n",
      "\n",
      "           0     1     2     3     4\n",
      "age       20    15    30    25    35\n",
      "weight  68.5  60.3  53.4  74.1  80.7\n",
      "sex        F     M     F     M     F \n",
      "\n"
     ]
    }
   ],
   "source": [
    "import pandas as pd\n",
    "\n",
    "a = pd.Series([20, 15, 30, 25, 35], name='age')\n",
    "b = pd.Series([68.5, 60.3, 53.4, 74.1, 80.7], name='weight')\n",
    "c = pd.Series([180, 165, 155, 178, 185], name ='height')\n",
    "\n",
    "## 1. human DataFrame 만들기\n",
    "human = pd.DataFrame([a,b,c])\n",
    "\n",
    "def main():\n",
    "    print(human)\n",
    "    ### 2. loc(), iloc() 함수를 이용하여 `age`를 추출\n",
    "    print(human.loc['age'],'\\n')\n",
    "    print(human.iloc[0],'\\n')\n",
    "    \n",
    "    ### 3. loc(), iloc() 함수를 이용하여 `weight`와 `height`만 추출\n",
    "    print(human.loc['weight'],'\\n')\n",
    "    print(human.iloc[2],'\\n')\n",
    "     \n",
    "    sex = ['F','M','F','M','F']\n",
    "    ### 4.새로운 데이터 `sex`를 `human`에 추가\n",
    "    human.loc['sex'] = sex\n",
    "    print(human,'\\n')\n",
    "    \n",
    "    ### 5. `human`에서 `height`를 삭제\n",
    "    tmp = human.drop('height')\n",
    "    print(tmp,'\\n')\n",
    "\n",
    "\n",
    "if __name__ == \"__main__\":\n",
    "    main()"
   ]
  },
  {
   "cell_type": "markdown",
   "metadata": {},
   "source": [
    "DataFrame 다루기 (2)\n",
    "------------"
   ]
  },
  {
   "cell_type": "code",
   "execution_count": 9,
   "metadata": {},
   "outputs": [
    {
     "name": "stdout",
     "output_type": "stream",
     "text": [
      "      0     1    2\n",
      "0   6.0   8.0  7.0\n",
      "1  13.0  16.0  8.0\n",
      "2   7.0   2.0  8.0 \n",
      "\n",
      "     0    1    2\n",
      "0 -2.0  0.0 -7.0\n",
      "1  1.0  0.0 -8.0\n",
      "2 -7.0 -2.0 -8.0 \n",
      "\n",
      "      0     1    2\n",
      "0   8.0  16.0  0.0\n",
      "1  42.0  64.0  0.0\n",
      "2   0.0   0.0  0.0 \n",
      "\n",
      "          0    1    2\n",
      "0  0.500000  1.0  0.0\n",
      "1  1.166667  1.0  0.0\n",
      "2  0.000000  0.0  0.0 \n",
      "\n",
      "    d  f   e\n",
      "a   1  5   3\n",
      "b  15  5  10\n",
      "c   2  5   8 \n",
      "\n",
      "    d   e  f\n",
      "b  15  10  5\n",
      "c   2   8  5\n",
      "a   1   3  5 \n",
      "\n",
      "    d   e  f\n",
      "0   1   3  5\n",
      "1  15  10  5\n",
      "2   2   8  5\n"
     ]
    }
   ],
   "source": [
    "import numpy as np\n",
    "import pandas as pd\n",
    "\n",
    "def main():\n",
    "    A = pd.DataFrame(np.random.randint(0, 10, (2, 2)))\n",
    "    B = pd.DataFrame(np.random.randint(0, 10, (3, 3)))\n",
    "    \n",
    "    # 함수를 이용해서 연산을 해보세요.\n",
    "    # NaN 값이 생기지 않도록 fill_value에 값을 넣어보세요\n",
    "    # A + B\n",
    "    add = A.add(B, fill_value = 0)\n",
    "    print(add,'\\n')\n",
    "    # A - B\n",
    "    sub = A.sub(B, fill_value = 0)\n",
    "    print(sub,'\\n')\n",
    "    # A * B\n",
    "    mul = A.mul(B, fill_value = 0)\n",
    "    print(mul,'\\n')\n",
    "    # A / B\n",
    "    div = A.div(B, fill_value = 0)\n",
    "    print(div,'\\n')\n",
    "    \n",
    "    \n",
    "    # 3 x 3 데이터프레임을 정렬해보세요.\n",
    "    C = pd.DataFrame([[1,3,5],[15,10,5],[2,8,5]], index = ['a','b','c'], columns = ['d','e','f'])\n",
    "    \n",
    "    # c 행에 대해 오름차순 정렬\n",
    "    row_C = C.sort_values('c', axis = 1, ascending = True)\n",
    "    \n",
    "    # e 열에 대해 내림차순 정렬\n",
    "    column_C = C.sort_values('e', axis = 0, ascending = False)\n",
    "\n",
    "    print(row_C,'\\n')\n",
    "    print(column_C,'\\n')\n",
    "    \n",
    "    # 데이터 csv로 저장 및 불러오기\n",
    "    # index를 False로 설정하면 저장할 때 추가 인덱스를 달지 않습니다.\n",
    "    row_C = C.to_csv('C.csv', index = False)\n",
    "    load_C = pd.read_csv('C.csv')\n",
    "    \n",
    "    print(load_C)\n",
    "    \n",
    "if __name__ == \"__main__\":\n",
    "    main()"
   ]
  },
  {
   "cell_type": "markdown",
   "metadata": {},
   "source": [
    "Matplotlib 그리기\n",
    "----------"
   ]
  },
  {
   "cell_type": "code",
   "execution_count": 13,
   "metadata": {},
   "outputs": [
    {
     "data": {
      "image/png": "[encoded data removed]",
      "text/plain": [
       "<Figure size 432x288 with 1 Axes>"
      ]
     },
     "metadata": {},
     "output_type": "display_data"
    }
   ],
   "source": [
    "import numpy as np\n",
    "import pandas as pd\n",
    "import matplotlib.pyplot as plt\n",
    "\n",
    "def main():\n",
    "#이미 입력되어 있는 코드의 다양한 속성값들을 변경해 봅시다.\n",
    "    x = np.arange(10)\n",
    "    fig, ax = plt.subplots()\n",
    "    \n",
    "    ax.plot(\n",
    "        x, x, label='y=x',\n",
    "        marker='o',\n",
    "        color='blue',\n",
    "        linestyle=':'\n",
    "    )\n",
    "    ax.plot(\n",
    "        x, x**2, label='y=x^2',\n",
    "        marker='^',\n",
    "        color='red',\n",
    "        linestyle='--'\n",
    "    )\n",
    "    ax.set_xlabel(\"x\")\n",
    "    ax.set_ylabel(\"y\")\n",
    "    \n",
    "    ax.set_xlim(0,10)\n",
    "    ax.set_ylim(0,100)\n",
    "    \n",
    "    ax.legend(\n",
    "        loc='upper left',\n",
    "        shadow=True,\n",
    "        fancybox=True,\n",
    "        borderpad=2\n",
    "    )\n",
    "    \n",
    "    \n",
    "    fig.savefig(\"plot.png\")\n",
    "\n",
    "if __name__ == \"__main__\":\n",
    "    main()"
   ]
  },
  {
   "cell_type": "markdown",
   "metadata": {},
   "source": [
    "Matplotlib에서 다양한 그래프 나타내기\n",
    "------------"
   ]
  },
  {
   "cell_type": "code",
   "execution_count": 18,
   "metadata": {},
   "outputs": [
    {
     "data": {
      "image/png": "[encoded data removed]",
      "text/plain": [
       "<Figure size 432x288 with 4 Axes>"
      ]
     },
     "metadata": {},
     "output_type": "display_data"
    }
   ],
   "source": [
    "import numpy as np\n",
    "import matplotlib.pyplot as plt\n",
    "\n",
    "\n",
    "def main():\n",
    "    fig, axes = plt.subplots(2,2)\n",
    "    \n",
    "    # Scatter 그래프 그리기\n",
    "    x = np.random.randn(50)\n",
    "    y = np.random.randn(50)\n",
    "    colors = np.random.randint(0,100, 50)\n",
    "    sizes = 500*np.pi*np.random.rand(50)**2 # random.randn : 가우시안 표준 정규분포에 따르는 난수 생성\n",
    "    axes[0,0].scatter(x, y, c=colors, s=sizes, alpha=0.3)\n",
    "    \n",
    "    \n",
    "    # Bar 그래프 그리기\n",
    "    x = np.arange(10)\n",
    "    axes[0,1].bar(x, x**2)\n",
    "    \n",
    "    \n",
    "    # Multi-Bar 그래프 그리기\n",
    "    x = np.random.rand(3)\n",
    "    y = np.random.rand(3)\n",
    "    z = np.random.rand(3)\n",
    "    data =  [x, y, z]\n",
    "\n",
    "    x_ax =  np.arange(3)\n",
    "    for i in x_ax:\n",
    "        axes[1,0].bar(x_ax, data[i], bottom=np.sum(data[:i], axis=0))\n",
    "    axes[1,0].set_xticks(x_ax)\n",
    "    axes[1,0].set_xticklabels(['A', 'B', 'C'])\n",
    "    \n",
    "    \n",
    "    # Histogram 그래프 그리기\n",
    "    data = np.random.randn(1000)\n",
    "    axes[1,1].hist(data, bins=50)\n",
    "    \n",
    "    fig.savefig(\"plot.png\")\n",
    "    \n",
    "if __name__ == \"__main__\":\n",
    "    main()"
   ]
  },
  {
   "cell_type": "markdown",
   "metadata": {},
   "source": [
    "Numpy 배열 다루기(1)\n",
    "--------------"
   ]
  },
  {
   "cell_type": "code",
   "execution_count": 19,
   "metadata": {},
   "outputs": [
    {
     "name": "stdout",
     "output_type": "stream",
     "text": [
      "firstcol_x : [  1  12 623  63  48 333  52  33  29  94]\n",
      "lastrow_x : [94 23 32 24 54 63  1  3 92  7]\n",
      "mean_firstcol : 128.8\n",
      "mean_lastrow : 39.3\n",
      "dia_x : [  1 222   3   4  57   6  32   8   2   7]\n",
      "var_dia : 4203.960000000001\n"
     ]
    }
   ],
   "source": [
    "import numpy as np\n",
    "\n",
    "def solution():\n",
    "    x = np.array([[1, 572, 2, 219, 31, 6, 7, 8, 24, 10],\n",
    "                      [12, 222, 33, 1, 2, 3, 99, 24, 1, 42],\n",
    "                      [623, 2, 3, 56, 5, 2, 7, 85, 22, 110],\n",
    "                      [63, 24, 3, 4, 5, 64, 7, 82, 93, 210],\n",
    "                      [48, 28, 3, 24, 57, 63, 7, 8, 9, 102],\n",
    "                      [333, 64, 3, 44, 5, 6, 72, 82, 3, 10],\n",
    "                      [52, 242, 2, 41, 52, 6, 32, 8, 96, 2],\n",
    "                      [33, 223, 52, 4, 35, 62, 7, 8, 9, 10],\n",
    "                      [29, 2, 3, 149, 15, 6, 172, 2, 2, 11],\n",
    "                      [94, 23, 32, 24, 54, 63, 1, 3, 92, 7]])\n",
    "    # x의 첫 열\n",
    "    firstcol_x = x[:, 0]\n",
    "\n",
    "    # x의 마지막 행\n",
    "    lastrow_x = x[-1]\n",
    "\n",
    "    # x의 첫 열의 평균\n",
    "    mean_firstcol = firstcol_x.mean()\n",
    "\n",
    "    # x의 마지막 행의 평균\n",
    "    mean_lastrow = lastrow_x.mean()\n",
    "\n",
    "    # x의 대각 성분\n",
    "    dia_x = np.diagonal(x)\n",
    "\n",
    "\n",
    "    # x의 대각 성분의 분산\n",
    "    var_dia = np.var(dia_x)\n",
    "\n",
    "    return  firstcol_x, lastrow_x, mean_firstcol, mean_lastrow, dia_x, var_dia\n",
    "\n",
    "#출력을 위한 함수입니다. 건드리지 말아주세요:)\n",
    "def print_answer(**kwargs):\n",
    "    for key in kwargs.keys():\n",
    "        print(key,\":\", kwargs[key])\n",
    "\n",
    "firstcol_x, lastrow_x, mean_firstcol, mean_lastrow, dia_x, var_dia = solution()\n",
    "\n",
    "print_answer(firstcol_x=firstcol_x, lastrow_x=lastrow_x, mean_firstcol=mean_firstcol, mean_lastrow=mean_lastrow, dia_x=dia_x, var_dia=var_dia)"
   ]
  },
  {
   "cell_type": "markdown",
   "metadata": {},
   "source": [
    "Numpy 배열 다루기(2)\n",
    "----------------"
   ]
  },
  {
   "cell_type": "code",
   "execution_count": 20,
   "metadata": {},
   "outputs": [
    {
     "name": "stdout",
     "output_type": "stream",
     "text": [
      "matrix : [[ 2  4  6  8 10]\n",
      " [ 3  6  9 12 15]\n",
      " [ 5 10 15 20 25]\n",
      " [ 7 14 21 28 35]\n",
      " [11 22 33 44 55]]\n",
      "dia_sum : 106\n",
      "dia_mean : 21.2\n"
     ]
    }
   ],
   "source": [
    "import numpy as np\n",
    "\n",
    "\n",
    "def solution():\n",
    "    prime = [2, 3, 5, 7, 11]\n",
    "    \n",
    "    # 소수(prime number)를 기반으로 2차원 배열을 생성해보세요.\n",
    "    matrix = np.array([i * p for p in prime for i in range(1, 6)]).reshape((5,5))\n",
    "    # matrix = np.transpose(np.array([[i*p for p in prime] for i in range(1,6)]))\n",
    "    # matrix = np.array(prime).reshape(5,1) * np.arange(1,6)\n",
    "    \n",
    "    # 배열 matrix의 대각(diagonal) 성분을 추출해보세요.\n",
    "    matrix_dia = np.diag(matrix)\n",
    "\n",
    "    # 대각 성분의 합과 평균을 구해보세요.\n",
    "    dia_sum = np.sum(matrix_dia)\n",
    "    dia_mean = np.mean(matrix_dia)\n",
    "\n",
    "    return matrix, dia_sum, dia_mean\n",
    "\n",
    "#출력을 위한 함수입니다. 건드리지 말아주세요:)\n",
    "def print_answer(**kwargs):\n",
    "    for key in kwargs.keys():\n",
    "        print(key,\":\", kwargs[key])\n",
    "\n",
    "matrix, dia_sum, dia_mean = solution()\n",
    "\n",
    "print_answer(matrix=matrix, dia_sum=dia_sum, dia_mean=dia_mean)"
   ]
  },
  {
   "cell_type": "markdown",
   "metadata": {},
   "source": [
    "등수 매기기\n",
    "---------"
   ]
  },
  {
   "cell_type": "code",
   "execution_count": 21,
   "metadata": {},
   "outputs": [
    {
     "data": {
      "text/html": [
       "<div>\n",
       "<style scoped>\n",
       "    .dataframe tbody tr th:only-of-type {\n",
       "        vertical-align: middle;\n",
       "    }\n",
       "\n",
       "    .dataframe tbody tr th {\n",
       "        vertical-align: top;\n",
       "    }\n",
       "\n",
       "    .dataframe thead th {\n",
       "        text-align: right;\n",
       "    }\n",
       "</style>\n",
       "<table border=\"1\" class=\"dataframe\">\n",
       "  <thead>\n",
       "    <tr style=\"text-align: right;\">\n",
       "      <th></th>\n",
       "      <th>1</th>\n",
       "      <th>5</th>\n",
       "      <th>4</th>\n",
       "    </tr>\n",
       "  </thead>\n",
       "  <tbody>\n",
       "    <tr>\n",
       "      <th>N</th>\n",
       "      <td>다현</td>\n",
       "      <td>정국</td>\n",
       "      <td>뷔</td>\n",
       "    </tr>\n",
       "    <tr>\n",
       "      <th>G</th>\n",
       "      <td>TWICE</td>\n",
       "      <td>BTS</td>\n",
       "      <td>BTS</td>\n",
       "    </tr>\n",
       "    <tr>\n",
       "      <th>M</th>\n",
       "      <td>100</td>\n",
       "      <td>90</td>\n",
       "      <td>80</td>\n",
       "    </tr>\n",
       "    <tr>\n",
       "      <th>S</th>\n",
       "      <td>95</td>\n",
       "      <td>65</td>\n",
       "      <td>75</td>\n",
       "    </tr>\n",
       "    <tr>\n",
       "      <th>L</th>\n",
       "      <td>98.4</td>\n",
       "      <td>95.3</td>\n",
       "      <td>82.5</td>\n",
       "    </tr>\n",
       "  </tbody>\n",
       "</table>\n",
       "</div>"
      ],
      "text/plain": [
       "       1     5     4\n",
       "N     다현    정국     뷔\n",
       "G  TWICE   BTS   BTS\n",
       "M    100    90    80\n",
       "S     95    65    75\n",
       "L   98.4  95.3  82.5"
      ]
     },
     "execution_count": 21,
     "metadata": {},
     "output_type": "execute_result"
    }
   ],
   "source": [
    "# Pandas 라이브러리를 선언해보세요.\n",
    "import pandas as pd\n",
    "\n",
    "# Dataset\n",
    "name = [\"다현\", \"쯔위\", \"사나\", \"뷔\", \"정국\", \"지민\",]\n",
    "group = [\"TWICE\", \"TWICE\", \"TWICE\", \"BTS\",  \"BTS\",  \"BTS\"]\n",
    "math = [100, 70, 60, 80, 90, 50]\n",
    "science = [95, 85, 55, 75, 65, 100]\n",
    "\n",
    "# name, group, math, science 데이터 순으로 DataFrame으로 만들어보세요.\n",
    "# index는 각 데이터의 첫 알파벳을 대문자로 넣어주세요.\n",
    "# columns는 정수 1~6까지 넣어주세요.\n",
    "df = pd.DataFrame([name, group, math, science], index = ['N', 'G', 'M', 'S'], columns = [i for i in range(1,7)])\n",
    "\n",
    "\n",
    "# 새로운 language 데이터가 있습니다.\n",
    "# df_add Dataframe에 language 데이터를 제일 마지막 행에 추가해보세요.\n",
    "language = [98.4, 88.2, 72.1, 82.5, 95.3, 80.8]\n",
    "df_add = df.copy()\n",
    "df_add.loc['L'] = language\n",
    "\n",
    "\n",
    "# Math를 기준으로 누가 가장 잘했는지 알기 위해 내림차순으로 정렬해주세요.\n",
    "sorted_df = df_add.sort_values('M', axis = 1, ascending = False)\n",
    "\n",
    "\n",
    "# 정렬된 데이터 중 1,2,3등이 누구인지 iloc 함수를 이용해 이름을 추출해보세요\n",
    "sorted_df.iloc[:,0:3]"
   ]
  },
  {
   "cell_type": "markdown",
   "metadata": {},
   "source": [
    "Seaborn 사용해보기\n",
    "-----------"
   ]
  },
  {
   "cell_type": "code",
   "execution_count": 23,
   "metadata": {},
   "outputs": [
    {
     "data": {
      "text/html": [
       "<div>\n",
       "<style scoped>\n",
       "    .dataframe tbody tr th:only-of-type {\n",
       "        vertical-align: middle;\n",
       "    }\n",
       "\n",
       "    .dataframe tbody tr th {\n",
       "        vertical-align: top;\n",
       "    }\n",
       "\n",
       "    .dataframe thead th {\n",
       "        text-align: right;\n",
       "    }\n",
       "</style>\n",
       "<table border=\"1\" class=\"dataframe\">\n",
       "  <thead>\n",
       "    <tr style=\"text-align: right;\">\n",
       "      <th></th>\n",
       "      <th>sepal_length</th>\n",
       "      <th>sepal_width</th>\n",
       "      <th>petal_length</th>\n",
       "      <th>petal_width</th>\n",
       "      <th>species</th>\n",
       "    </tr>\n",
       "  </thead>\n",
       "  <tbody>\n",
       "    <tr>\n",
       "      <th>0</th>\n",
       "      <td>5.1</td>\n",
       "      <td>3.5</td>\n",
       "      <td>1.4</td>\n",
       "      <td>0.2</td>\n",
       "      <td>setosa</td>\n",
       "    </tr>\n",
       "    <tr>\n",
       "      <th>1</th>\n",
       "      <td>4.9</td>\n",
       "      <td>3.0</td>\n",
       "      <td>1.4</td>\n",
       "      <td>0.2</td>\n",
       "      <td>setosa</td>\n",
       "    </tr>\n",
       "    <tr>\n",
       "      <th>2</th>\n",
       "      <td>4.7</td>\n",
       "      <td>3.2</td>\n",
       "      <td>1.3</td>\n",
       "      <td>0.2</td>\n",
       "      <td>setosa</td>\n",
       "    </tr>\n",
       "    <tr>\n",
       "      <th>3</th>\n",
       "      <td>4.6</td>\n",
       "      <td>3.1</td>\n",
       "      <td>1.5</td>\n",
       "      <td>0.2</td>\n",
       "      <td>setosa</td>\n",
       "    </tr>\n",
       "    <tr>\n",
       "      <th>4</th>\n",
       "      <td>5.0</td>\n",
       "      <td>3.6</td>\n",
       "      <td>1.4</td>\n",
       "      <td>0.2</td>\n",
       "      <td>setosa</td>\n",
       "    </tr>\n",
       "  </tbody>\n",
       "</table>\n",
       "</div>"
      ],
      "text/plain": [
       "   sepal_length  sepal_width  petal_length  petal_width species\n",
       "0           5.1          3.5           1.4          0.2  setosa\n",
       "1           4.9          3.0           1.4          0.2  setosa\n",
       "2           4.7          3.2           1.3          0.2  setosa\n",
       "3           4.6          3.1           1.5          0.2  setosa\n",
       "4           5.0          3.6           1.4          0.2  setosa"
      ]
     },
     "execution_count": 23,
     "metadata": {},
     "output_type": "execute_result"
    }
   ],
   "source": [
    "import seaborn as sns\n",
    "from matplotlib import pyplot as plt\n",
    "\n",
    "df = sns.load_dataset('iris')\n",
    "df.head()"
   ]
  },
  {
   "cell_type": "code",
   "execution_count": 25,
   "metadata": {},
   "outputs": [
    {
     "data": {
      "text/plain": [
       "<matplotlib.axes._subplots.AxesSubplot at 0x1cc54728cf8>"
      ]
     },
     "execution_count": 25,
     "metadata": {},
     "output_type": "execute_result"
    },
    {
     "data": {
      "image/png": "[encoded data removed]",
      "text/plain": [
       "<Figure size 432x288 with 1 Axes>"
      ]
     },
     "metadata": {},
     "output_type": "display_data"
    }
   ],
   "source": [
    "sns.regplot(x=df['sepal_length'], y = df['petal_length'], color = 'red', line_kws={'color' : 'red'}, scatter_kws={'color' : 'blue'})"
   ]
  },
  {
   "cell_type": "code",
   "execution_count": 27,
   "metadata": {},
   "outputs": [
    {
     "data": {
      "text/html": [
       "<div>\n",
       "<style scoped>\n",
       "    .dataframe tbody tr th:only-of-type {\n",
       "        vertical-align: middle;\n",
       "    }\n",
       "\n",
       "    .dataframe tbody tr th {\n",
       "        vertical-align: top;\n",
       "    }\n",
       "\n",
       "    .dataframe thead th {\n",
       "        text-align: right;\n",
       "    }\n",
       "</style>\n",
       "<table border=\"1\" class=\"dataframe\">\n",
       "  <thead>\n",
       "    <tr style=\"text-align: right;\">\n",
       "      <th></th>\n",
       "      <th>survived</th>\n",
       "      <th>pclass</th>\n",
       "      <th>sex</th>\n",
       "      <th>age</th>\n",
       "      <th>sibsp</th>\n",
       "      <th>parch</th>\n",
       "      <th>fare</th>\n",
       "      <th>embarked</th>\n",
       "      <th>class</th>\n",
       "      <th>who</th>\n",
       "      <th>adult_male</th>\n",
       "      <th>deck</th>\n",
       "      <th>embark_town</th>\n",
       "      <th>alive</th>\n",
       "      <th>alone</th>\n",
       "    </tr>\n",
       "  </thead>\n",
       "  <tbody>\n",
       "    <tr>\n",
       "      <th>0</th>\n",
       "      <td>0</td>\n",
       "      <td>3</td>\n",
       "      <td>male</td>\n",
       "      <td>22.0</td>\n",
       "      <td>1</td>\n",
       "      <td>0</td>\n",
       "      <td>7.2500</td>\n",
       "      <td>S</td>\n",
       "      <td>Third</td>\n",
       "      <td>man</td>\n",
       "      <td>True</td>\n",
       "      <td>NaN</td>\n",
       "      <td>Southampton</td>\n",
       "      <td>no</td>\n",
       "      <td>False</td>\n",
       "    </tr>\n",
       "    <tr>\n",
       "      <th>1</th>\n",
       "      <td>1</td>\n",
       "      <td>1</td>\n",
       "      <td>female</td>\n",
       "      <td>38.0</td>\n",
       "      <td>1</td>\n",
       "      <td>0</td>\n",
       "      <td>71.2833</td>\n",
       "      <td>C</td>\n",
       "      <td>First</td>\n",
       "      <td>woman</td>\n",
       "      <td>False</td>\n",
       "      <td>C</td>\n",
       "      <td>Cherbourg</td>\n",
       "      <td>yes</td>\n",
       "      <td>False</td>\n",
       "    </tr>\n",
       "    <tr>\n",
       "      <th>2</th>\n",
       "      <td>1</td>\n",
       "      <td>3</td>\n",
       "      <td>female</td>\n",
       "      <td>26.0</td>\n",
       "      <td>0</td>\n",
       "      <td>0</td>\n",
       "      <td>7.9250</td>\n",
       "      <td>S</td>\n",
       "      <td>Third</td>\n",
       "      <td>woman</td>\n",
       "      <td>False</td>\n",
       "      <td>NaN</td>\n",
       "      <td>Southampton</td>\n",
       "      <td>yes</td>\n",
       "      <td>True</td>\n",
       "    </tr>\n",
       "    <tr>\n",
       "      <th>3</th>\n",
       "      <td>1</td>\n",
       "      <td>1</td>\n",
       "      <td>female</td>\n",
       "      <td>35.0</td>\n",
       "      <td>1</td>\n",
       "      <td>0</td>\n",
       "      <td>53.1000</td>\n",
       "      <td>S</td>\n",
       "      <td>First</td>\n",
       "      <td>woman</td>\n",
       "      <td>False</td>\n",
       "      <td>C</td>\n",
       "      <td>Southampton</td>\n",
       "      <td>yes</td>\n",
       "      <td>False</td>\n",
       "    </tr>\n",
       "    <tr>\n",
       "      <th>4</th>\n",
       "      <td>0</td>\n",
       "      <td>3</td>\n",
       "      <td>male</td>\n",
       "      <td>35.0</td>\n",
       "      <td>0</td>\n",
       "      <td>0</td>\n",
       "      <td>8.0500</td>\n",
       "      <td>S</td>\n",
       "      <td>Third</td>\n",
       "      <td>man</td>\n",
       "      <td>True</td>\n",
       "      <td>NaN</td>\n",
       "      <td>Southampton</td>\n",
       "      <td>no</td>\n",
       "      <td>True</td>\n",
       "    </tr>\n",
       "  </tbody>\n",
       "</table>\n",
       "</div>"
      ],
      "text/plain": [
       "   survived  pclass     sex   age  sibsp  parch     fare embarked  class  \\\n",
       "0         0       3    male  22.0      1      0   7.2500        S  Third   \n",
       "1         1       1  female  38.0      1      0  71.2833        C  First   \n",
       "2         1       3  female  26.0      0      0   7.9250        S  Third   \n",
       "3         1       1  female  35.0      1      0  53.1000        S  First   \n",
       "4         0       3    male  35.0      0      0   8.0500        S  Third   \n",
       "\n",
       "     who  adult_male deck  embark_town alive  alone  \n",
       "0    man        True  NaN  Southampton    no  False  \n",
       "1  woman       False    C    Cherbourg   yes  False  \n",
       "2  woman       False  NaN  Southampton   yes   True  \n",
       "3  woman       False    C  Southampton   yes  False  \n",
       "4    man        True  NaN  Southampton    no   True  "
      ]
     },
     "execution_count": 27,
     "metadata": {},
     "output_type": "execute_result"
    }
   ],
   "source": [
    "sns.set(style = 'darkgrid')\n",
    "titanic = sns.load_dataset('titanic')\n",
    "titanic.head()"
   ]
  },
  {
   "cell_type": "code",
   "execution_count": 29,
   "metadata": {},
   "outputs": [
    {
     "data": {
      "image/png": "[encoded data removed]",
      "text/plain": [
       "<Figure size 432x288 with 1 Axes>"
      ]
     },
     "metadata": {},
     "output_type": "display_data"
    }
   ],
   "source": [
    "ax = sns.countplot(x='class', data=titanic)"
   ]
  },
  {
   "cell_type": "code",
   "execution_count": 30,
   "metadata": {},
   "outputs": [
    {
     "data": {
      "image/png": "[encoded data removed]",
      "text/plain": [
       "<Figure size 432x288 with 1 Axes>"
      ]
     },
     "metadata": {},
     "output_type": "display_data"
    }
   ],
   "source": [
    "ax = sns.countplot(y='class', data=titanic)"
   ]
  },
  {
   "cell_type": "code",
   "execution_count": 31,
   "metadata": {},
   "outputs": [
    {
     "data": {
      "text/html": [
       "<div>\n",
       "<style scoped>\n",
       "    .dataframe tbody tr th:only-of-type {\n",
       "        vertical-align: middle;\n",
       "    }\n",
       "\n",
       "    .dataframe tbody tr th {\n",
       "        vertical-align: top;\n",
       "    }\n",
       "\n",
       "    .dataframe thead th {\n",
       "        text-align: right;\n",
       "    }\n",
       "</style>\n",
       "<table border=\"1\" class=\"dataframe\">\n",
       "  <thead>\n",
       "    <tr style=\"text-align: right;\">\n",
       "      <th></th>\n",
       "      <th>total_bill</th>\n",
       "      <th>tip</th>\n",
       "      <th>sex</th>\n",
       "      <th>smoker</th>\n",
       "      <th>day</th>\n",
       "      <th>time</th>\n",
       "      <th>size</th>\n",
       "    </tr>\n",
       "  </thead>\n",
       "  <tbody>\n",
       "    <tr>\n",
       "      <th>0</th>\n",
       "      <td>16.99</td>\n",
       "      <td>1.01</td>\n",
       "      <td>Female</td>\n",
       "      <td>No</td>\n",
       "      <td>Sun</td>\n",
       "      <td>Dinner</td>\n",
       "      <td>2</td>\n",
       "    </tr>\n",
       "    <tr>\n",
       "      <th>1</th>\n",
       "      <td>10.34</td>\n",
       "      <td>1.66</td>\n",
       "      <td>Male</td>\n",
       "      <td>No</td>\n",
       "      <td>Sun</td>\n",
       "      <td>Dinner</td>\n",
       "      <td>3</td>\n",
       "    </tr>\n",
       "    <tr>\n",
       "      <th>2</th>\n",
       "      <td>21.01</td>\n",
       "      <td>3.50</td>\n",
       "      <td>Male</td>\n",
       "      <td>No</td>\n",
       "      <td>Sun</td>\n",
       "      <td>Dinner</td>\n",
       "      <td>3</td>\n",
       "    </tr>\n",
       "    <tr>\n",
       "      <th>3</th>\n",
       "      <td>23.68</td>\n",
       "      <td>3.31</td>\n",
       "      <td>Male</td>\n",
       "      <td>No</td>\n",
       "      <td>Sun</td>\n",
       "      <td>Dinner</td>\n",
       "      <td>2</td>\n",
       "    </tr>\n",
       "    <tr>\n",
       "      <th>4</th>\n",
       "      <td>24.59</td>\n",
       "      <td>3.61</td>\n",
       "      <td>Female</td>\n",
       "      <td>No</td>\n",
       "      <td>Sun</td>\n",
       "      <td>Dinner</td>\n",
       "      <td>4</td>\n",
       "    </tr>\n",
       "  </tbody>\n",
       "</table>\n",
       "</div>"
      ],
      "text/plain": [
       "   total_bill   tip     sex smoker  day    time  size\n",
       "0       16.99  1.01  Female     No  Sun  Dinner     2\n",
       "1       10.34  1.66    Male     No  Sun  Dinner     3\n",
       "2       21.01  3.50    Male     No  Sun  Dinner     3\n",
       "3       23.68  3.31    Male     No  Sun  Dinner     2\n",
       "4       24.59  3.61  Female     No  Sun  Dinner     4"
      ]
     },
     "execution_count": 31,
     "metadata": {},
     "output_type": "execute_result"
    }
   ],
   "source": [
    "sns.set(style = 'white')\n",
    "tips = sns.load_dataset('tips')\n",
    "tips.head()"
   ]
  },
  {
   "cell_type": "code",
   "execution_count": 33,
   "metadata": {},
   "outputs": [
    {
     "name": "stderr",
     "output_type": "stream",
     "text": [
      "C:\\Users\\default.DESKTOP-S5Q9GAA\\Anaconda3\\lib\\site-packages\\matplotlib\\axes\\_axes.py:6462: UserWarning: The 'normed' kwarg is deprecated, and has been replaced by the 'density' kwarg.\n",
      "  warnings.warn(\"The 'normed' kwarg is deprecated, and has been \"\n",
      "C:\\Users\\default.DESKTOP-S5Q9GAA\\Anaconda3\\lib\\site-packages\\matplotlib\\axes\\_axes.py:6462: UserWarning: The 'normed' kwarg is deprecated, and has been replaced by the 'density' kwarg.\n",
      "  warnings.warn(\"The 'normed' kwarg is deprecated, and has been \"\n"
     ]
    },
    {
     "data": {
      "image/png": "[encoded data removed]",
      "text/plain": [
       "<Figure size 432x432 with 3 Axes>"
      ]
     },
     "metadata": {},
     "output_type": "display_data"
    }
   ],
   "source": [
    "g = sns.jointplot('total_bill', 'tip', data=tips, kind='reg')"
   ]
  },
  {
   "cell_type": "code",
   "execution_count": 34,
   "metadata": {},
   "outputs": [
    {
     "data": {
      "image/png": "[encoded data removed]",
      "text/plain": [
       "<Figure size 432x288 with 1 Axes>"
      ]
     },
     "metadata": {},
     "output_type": "display_data"
    }
   ],
   "source": [
    "ax = sns.violinplot(x=\"day\", y=\"total_bill\", data=tips)"
   ]
  },
  {
   "cell_type": "code",
   "execution_count": null,
   "metadata": {},
   "outputs": [],
   "source": []
  }
 ],
 "metadata": {
  "kernelspec": {
   "display_name": "Python 3",
   "language": "python",
   "name": "python3"
  },
  "language_info": {
   "codemirror_mode": {
    "name": "ipython",
    "version": 3
   },
   "file_extension": ".py",
   "mimetype": "text/x-python",
   "name": "python",
   "nbconvert_exporter": "python",
   "pygments_lexer": "ipython3",
   "version": "3.6.5"
  }
 },
 "nbformat": 4,
 "nbformat_minor": 2
}
