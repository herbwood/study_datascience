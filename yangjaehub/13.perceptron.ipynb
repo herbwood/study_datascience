{
 "cells": [
  {
   "cell_type": "markdown",
   "metadata": {},
   "source": [
    "Perceptron\n",
    "====="
   ]
  },
  {
   "cell_type": "markdown",
   "metadata": {},
   "source": [
    "AND Gate\n",
    "-------"
   ]
  },
  {
   "cell_type": "code",
   "execution_count": 1,
   "metadata": {},
   "outputs": [
    {
     "name": "stdout",
     "output_type": "stream",
     "text": [
      "=====AND gate=====\n",
      "( 0 , 0 ) ==> 0\n",
      "( 1 , 0 ) ==> 0\n",
      "( 0 , 1 ) ==> 0\n",
      "( 1 , 1 ) ==> 1\n"
     ]
    }
   ],
   "source": [
    "import numpy as np\n",
    "\n",
    "def AND(x1, x2):\n",
    "    x = np.array([x1, x2])\n",
    "    w = np.array([0.5, 0.5])\n",
    "    theta = 0.7\n",
    "    if np.sum(w * x) <= theta:\n",
    "        return 0\n",
    "    else:\n",
    "        return 1\n",
    "    \n",
    "inputData = np.array([[0,0], [1,0], [0,1], [1,1]])\n",
    "print('=====AND gate=====')\n",
    "for x in inputData:\n",
    "    print('(', x[0], ',', x[1], ') ==>', AND(x[0], x[1]))"
   ]
  },
  {
   "cell_type": "markdown",
   "metadata": {},
   "source": [
    "OR Gate\n",
    "-----"
   ]
  },
  {
   "cell_type": "code",
   "execution_count": 2,
   "metadata": {},
   "outputs": [
    {
     "name": "stdout",
     "output_type": "stream",
     "text": [
      "====OR Gate====\n",
      "( 0 , 0 ) ==> 0\n",
      "( 1 , 0 ) ==> 1\n",
      "( 0 , 1 ) ==> 1\n",
      "( 1 , 1 ) ==> 1\n"
     ]
    }
   ],
   "source": [
    "def OR(x1, x2):\n",
    "    x = np.array([x1, x2])\n",
    "    w = np.array([0.5, 0.5])\n",
    "    theta = 0.2\n",
    "    if np.sum(w * x) <= theta:\n",
    "        return 0\n",
    "    else:\n",
    "        return 1\n",
    "    \n",
    "inputData = np.array([[0,0], [1,0], [0,1], [1,1]])\n",
    "print('====OR Gate====')\n",
    "for x in inputData:\n",
    "    print('(', x[0], ',', x[1], ') ==>', OR(x[0], x[1]))"
   ]
  },
  {
   "cell_type": "markdown",
   "metadata": {},
   "source": [
    "NAND Gate\n",
    "----"
   ]
  },
  {
   "cell_type": "code",
   "execution_count": 3,
   "metadata": {},
   "outputs": [
    {
     "name": "stdout",
     "output_type": "stream",
     "text": [
      "====NAND Gate====\n",
      "( 0 , 0 ) ==> 1\n",
      "( 1 , 0 ) ==> 1\n",
      "( 0 , 1 ) ==> 1\n",
      "( 1 , 1 ) ==> 0\n"
     ]
    }
   ],
   "source": [
    "def NAND(x1, x2):\n",
    "    x = np.array([x1, x2])\n",
    "    w = np.array([-0.5, -0.5])\n",
    "    theta = -1\n",
    "    if np.sum(x * w) <= theta:\n",
    "        return 0\n",
    "    else:\n",
    "        return 1\n",
    "    \n",
    "inputData = np.array([[0,0], [1,0], [0,1], [1,1]])\n",
    "print('====NAND Gate====')\n",
    "for x in inputData:\n",
    "    print('(', x[0], ',', x[1], ') ==>', NAND(x[0], x[1]))"
   ]
  },
  {
   "cell_type": "markdown",
   "metadata": {},
   "source": [
    "XOR Gate\n",
    "-----"
   ]
  },
  {
   "cell_type": "code",
   "execution_count": 4,
   "metadata": {},
   "outputs": [
    {
     "name": "stdout",
     "output_type": "stream",
     "text": [
      "====XOR Gate====\n",
      "( 0 , 0 ) ==> 0\n",
      "( 1 , 0 ) ==> 1\n",
      "( 0 , 1 ) ==> 1\n",
      "( 1 , 1 ) ==> 0\n"
     ]
    }
   ],
   "source": [
    "def XOR(x1, x2):\n",
    "    return AND(NAND(x1, x2), OR(x1, x2))\n",
    "\n",
    "inputData = np.array([[0,0],[1,0],[0,1],[1,1]])\n",
    "\n",
    "inputData = np.array([[0,0], [1,0], [0,1], [1,1]])\n",
    "print('====XOR Gate====')\n",
    "for x in inputData:\n",
    "    print('(', x[0], ',', x[1], ') ==>', XOR(x[0], x[1]))"
   ]
  },
  {
   "cell_type": "markdown",
   "metadata": {},
   "source": [
    "단층 퍼셉트론(Single-Layer Perceptron)\n",
    "----------------"
   ]
  },
  {
   "cell_type": "code",
   "execution_count": 5,
   "metadata": {},
   "outputs": [
    {
     "name": "stdout",
     "output_type": "stream",
     "text": [
      "====OR Gate====\n",
      "( 0 , 0 ) ==> 0\n",
      "( 1 , 0 ) ==> 1\n",
      "( 0 , 1 ) ==> 1\n",
      "( 1 , 1 ) ==> 1\n"
     ]
    }
   ],
   "source": [
    "import numpy as np\n",
    "\n",
    "def step_function(y):\n",
    "    if y <= 0:\n",
    "        return 0\n",
    "    else:\n",
    "        return 1\n",
    "\n",
    "def OR(x1, x2):\n",
    "    x = np.array([x1, x2])\n",
    "    w = np.array([0.5, 0.5])\n",
    "    b = -0.1\n",
    "    y = np.sum(x * w) + b\n",
    "    return step_function(y)\n",
    "    \n",
    "inputData = np.array([[0,0], [1,0], [0,1], [1,1]])\n",
    "print('====OR Gate====')\n",
    "for x in inputData:\n",
    "    print('(', x[0], ',', x[1], ') ==>', OR(x[0], x[1]))"
   ]
  },
  {
   "cell_type": "markdown",
   "metadata": {},
   "source": [
    "다층 퍼셉트론 (MLP: Multi-Layer Perceptron)\n",
    "-------------"
   ]
  },
  {
   "cell_type": "code",
   "execution_count": 7,
   "metadata": {},
   "outputs": [
    {
     "name": "stdout",
     "output_type": "stream",
     "text": [
      "====XOR Gate====\n",
      "( 0 , 0 ) ==> 0\n",
      "( 1 , 0 ) ==> 1\n",
      "( 0 , 1 ) ==> 1\n",
      "( 1 , 1 ) ==> 0\n"
     ]
    }
   ],
   "source": [
    "def XOR(x1, x2):\n",
    "    x = np.array([x1, x2])\n",
    "    s1 = NAND(x1, x2)\n",
    "    s2 = OR(x1, x2)\n",
    "    return AND(s1, s2)\n",
    "\n",
    "inputData = np.array([[0,0], [1,0], [0,1], [1,1]])\n",
    "print('====XOR Gate====')\n",
    "for x in inputData:\n",
    "    print('(', x[0], ',', x[1], ') ==>', XOR(x[0], x[1]))"
   ]
  },
  {
   "cell_type": "markdown",
   "metadata": {},
   "source": [
    "활성화 함수(Activation Function)\n",
    "-------------"
   ]
  },
  {
   "cell_type": "code",
   "execution_count": 9,
   "metadata": {},
   "outputs": [
    {
     "data": {
      "image/png": "[encoded data removed]",
      "text/plain": [
       "<Figure size 432x288 with 1 Axes>"
      ]
     },
     "metadata": {},
     "output_type": "display_data"
    }
   ],
   "source": [
    "import numpy as np\n",
    "import matplotlib.pyplot as plt\n",
    "\n",
    "# Sigmoid\n",
    "def sigmoid(x):\n",
    "    return 1/ (1 + np.exp(-x))\n",
    "\n",
    "# Tanh\n",
    "def tanh(x):\n",
    "    return (np.exp(x) - np.exp(-x)) / (np.exp(x) + np.exp(-x))\n",
    "\n",
    "# ReLU\n",
    "def ReLU(x):\n",
    "    return np.maximum(0, x)\n",
    "\n",
    "# Activation Function 출력\n",
    "x = np.arange(-5.0, 5.0, 0.1)\n",
    "plt.title('Activation Function')\n",
    "plt.plot(x,sigmoid(x))\n",
    "plt.plot(x,tanh(x))\n",
    "plt.plot(x,ReLU(x))\n",
    "plt.ylim(-1.5, 1.5)\n",
    "plt.legend(['y = sigmoid(x)', 'y = tanh(x)', 'y = ReLU(x)'])\n",
    "plt.grid()\n",
    "plt.savefig('pictures/plot.png')\n",
    "plt.show()"
   ]
  },
  {
   "cell_type": "markdown",
   "metadata": {},
   "source": [
    "Softmax 활성화 함수\n",
    "-----------"
   ]
  },
  {
   "cell_type": "code",
   "execution_count": 12,
   "metadata": {},
   "outputs": [
    {
     "name": "stdout",
     "output_type": "stream",
     "text": [
      "Softmax 분류 결과 :  [0.006 0.027 0.    0.007 0.    0.224 0.654 0.082 0.    0.   ]\n",
      "클래스 예측 결과 가장 높은 값은 0.654로, 6번 클래스입니다.\n"
     ]
    }
   ],
   "source": [
    "import numpy as np\n",
    "\n",
    "# TODO : softmax 함수를 구현해보세요.\n",
    "def softmax(z):\n",
    "    return np.exp(z)/ np.sum(np.exp(z))\n",
    "\n",
    "# x는 10개의 Class에 대한 점수를 의미합니다.\n",
    "x = np.array([11.31035972, 12.77845895, 1.21838455, 11.38083548, 0.70120341,\n",
    "            14.91212438, 15.98482228,  13.9086965,  5.28312333,  8.44710063])\n",
    "\n",
    "# TODO : Softmax Activation Function을 거친 결과를 저장해보세요.\n",
    "result = softmax(x)\n",
    "\n",
    "# TODO : Softmax를 거친 결과 중 가장 높은 값을 추출해보세요.\n",
    "max_idx = np.argmax(result)\n",
    "max_value = np.max(result)\n",
    "\n",
    "print('Softmax 분류 결과 : ', np.round(result,3))\n",
    "print('클래스 예측 결과 가장 높은 값은 {}로, {}번 클래스입니다.'.format(np.round(max_value,3), max_idx))"
   ]
  },
  {
   "cell_type": "code",
   "execution_count": null,
   "metadata": {},
   "outputs": [],
   "source": []
  }
 ],
 "metadata": {
  "kernelspec": {
   "display_name": "Python 3",
   "language": "python",
   "name": "python3"
  },
  "language_info": {
   "codemirror_mode": {
    "name": "ipython",
    "version": 3
   },
   "file_extension": ".py",
   "mimetype": "text/x-python",
   "name": "python",
   "nbconvert_exporter": "python",
   "pygments_lexer": "ipython3",
   "version": "3.6.5"
  }
 },
 "nbformat": 4,
 "nbformat_minor": 4
}
