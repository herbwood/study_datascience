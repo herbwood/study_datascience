{
 "cells": [
  {
   "cell_type": "markdown",
   "metadata": {},
   "source": [
    "Clustering : K-means Clustering, GMM\n",
    "    =================="
   ]
  },
  {
   "cell_type": "markdown",
   "metadata": {},
   "source": [
    "K-Means Clustering\n",
    "--------"
   ]
  },
  {
   "cell_type": "code",
   "execution_count": 1,
   "metadata": {},
   "outputs": [
    {
     "name": "stdout",
     "output_type": "stream",
     "text": [
      "target  cluster\n",
      "0       1          50\n",
      "1       0          48\n",
      "        2           2\n",
      "2       0          14\n",
      "        2          36\n",
      "Name: sepal length (cm), dtype: int64\n"
     ]
    }
   ],
   "source": [
    "import pandas as pd\n",
    "import numpy as np\n",
    "from sklearn.cluster import KMeans\n",
    "from sklearn.datasets import load_iris\n",
    "import matplotlib.pyplot as plt\n",
    "\n",
    "def main():\n",
    "    # Iris 데이터 불러오기\n",
    "    iris = load_iris()\n",
    "    \n",
    "    # Iris 데이터 프레임 만들기\n",
    "    irisDF = pd.DataFrame(data = iris.data, columns = iris.feature_names)\n",
    "    \n",
    "    # 1.KMeans 객체 불러오기\n",
    "    # Iris 데이터는 3개의 클래스를 가지고 있으므로 3개의 군집으로 나누어줍니다.\n",
    "    # irisDF를 넣어 군집화를 진행합니다.\n",
    "    kmeans =KMeans(n_clusters = 3, max_iter = 100, random_state = 0).fit(irisDF)\n",
    "    \n",
    "    # 2.군집화 결과를 데이터 프레임에 추가합니다.\n",
    "    irisDF['cluster'] = kmeans.predict(irisDF)\n",
    "    irisDF['target'] = iris.target\n",
    "    \n",
    "    # 군집화 결과를 보기 위해 groupby 함수를 사용해보겠습니다.\n",
    "    # target과 cluster의 개수에 대해 sepal_length 데이터를 표현합니다.\n",
    "    iris_result = irisDF.groupby(['target','cluster'])['sepal length (cm)'].count()\n",
    "    print(iris_result)\n",
    "    \n",
    "if __name__ == \"__main__\":\n",
    "    main()"
   ]
  },
  {
   "cell_type": "markdown",
   "metadata": {},
   "source": [
    "Clustering 시각화\n",
    "--------------"
   ]
  },
  {
   "cell_type": "code",
   "execution_count": 3,
   "metadata": {},
   "outputs": [
    {
     "data": {
      "image/png": "[encoded data removed]",
      "text/plain": [
       "<Figure size 432x288 with 1 Axes>"
      ]
     },
     "metadata": {},
     "output_type": "display_data"
    }
   ],
   "source": [
    "import matplotlib.pyplot as plt\n",
    "import pandas as pd\n",
    "import numpy as np\n",
    "from sklearn.cluster import KMeans\n",
    "from sklearn.datasets import load_iris\n",
    "\n",
    "iris = load_iris()\n",
    "irisDF = pd.DataFrame(data = iris.data, columns = iris.feature_names)\n",
    "\n",
    "def Visualize():\n",
    "    from sklearn.decomposition import PCA\n",
    "    \n",
    "    # 시각화를 위해 PCA로 feature dimension을 2차원으로 감소시켜줍니다.\n",
    "    # 1.PCA 객체를 불러오고 n_components를 설정합니다.\n",
    "    pca = PCA(n_components=2).fit(irisDF)\n",
    "    \n",
    "    # 2.iris.data를 PCA로 변환시켜줍니다.\n",
    "    pca_transformed = pca.transform(irisDF)\n",
    "\n",
    "    # 3.데이터프레임에 차원 축소된 값을 넣어줍니다.\n",
    "    irisDF['pca_x'] = pca_transformed[:, 0]\n",
    "    irisDF['pca_y'] = pca_transformed[:, 1]\n",
    "    \n",
    "    # 군집된 값이 0, 1, 2 인 경우, 인덱스를 추출합니다.\n",
    "    idx_0 = irisDF[irisDF['cluster'] == 0].index\n",
    "    idx_1 = irisDF[irisDF['cluster'] == 1].index\n",
    "    idx_2 = irisDF[irisDF['cluster'] == 2].index\n",
    "\n",
    "    # 각 군집 인덱스의 pca_x, pca_y 값 추출 및 시각화\n",
    "    fig, ax = plt.subplots()\n",
    "    \n",
    "    ax.scatter(x=irisDF.loc[idx_0, 'pca_x'], y= irisDF.loc[idx_0, 'pca_y'], marker = 'o')\n",
    "    ax.scatter(x=irisDF.loc[idx_1, 'pca_x'], y= irisDF.loc[idx_1, 'pca_y'], marker = 's')\n",
    "    ax.scatter(x=irisDF.loc[idx_2, 'pca_x'], y= irisDF.loc[idx_2, 'pca_y'], marker = '^')\n",
    "    ax.set_xlabel('PCA1')\n",
    "    ax.set_ylabel('PCA2')\n",
    "    \n",
    "    fig.savefig(\"pictures/k_means_plot.png\")\n",
    "    \n",
    "def main():\n",
    "    # 4.Kmeans 객체를 불러오고 fit()을 실행해주세요..\n",
    "    kmeans = KMeans(n_clusters = 3, max_iter = 100, random_state = 0).fit(irisDF)\n",
    "    irisDF['cluster'] = kmeans.predict(irisDF)\n",
    "    irisDF['target'] = iris.target\n",
    "    iris_result = irisDF.groupby(['target','cluster'])['sepal length (cm)'].count()\n",
    "    \n",
    "    Visualize()\n",
    "    \n",
    "if __name__ == \"__main__\":\n",
    "    main()"
   ]
  },
  {
   "cell_type": "markdown",
   "metadata": {},
   "source": [
    "Gaussian Mixture Model(GMM)\n",
    "---------------"
   ]
  },
  {
   "cell_type": "code",
   "execution_count": 5,
   "metadata": {},
   "outputs": [
    {
     "name": "stdout",
     "output_type": "stream",
     "text": [
      "target  gmm_cluster\n",
      "0       1              50\n",
      "1       2              50\n",
      "2       0              50\n",
      "Name: gmm_cluster, dtype: int64 \n",
      "\n",
      "target  Kmean_cluster\n",
      "0       0                50\n",
      "1       2                50\n",
      "2       1                50\n",
      "Name: Kmean_cluster, dtype: int64\n"
     ]
    },
    {
     "data": {
      "image/png": "[encoded data removed]",
      "text/plain": [
       "<Figure size 432x288 with 1 Axes>"
      ]
     },
     "metadata": {},
     "output_type": "display_data"
    }
   ],
   "source": [
    "import numpy as np\n",
    "import pandas as pd\n",
    "import matplotlib.pyplot as plt\n",
    "from sklearn.datasets import load_iris\n",
    "from sklearn.cluster import KMeans\n",
    "from sklearn.mixture import GaussianMixture\n",
    "\n",
    "iris = load_iris()\n",
    "feature_names = iris.feature_names\n",
    "iris_df = pd.DataFrame(data =iris.data, columns = feature_names)\n",
    "iris_df['target'] = iris.target\n",
    "\n",
    "def Visualize():\n",
    "    from sklearn.decomposition import PCA\n",
    "\n",
    "    pca = PCA(n_components=2)\n",
    "    pca_transformed = pca.fit_transform(iris_df)\n",
    "\n",
    "    iris_df['pca_x'] = pca_transformed[:,0]\n",
    "    iris_df['pca_y'] = pca_transformed[:,1]\n",
    "\n",
    "\n",
    "    # 군집된 값이 0, 1, 2 인 경우, 인덱스 추출\n",
    "    idx_0 = iris_df[iris_df['gmm_cluster'] == 0].index\n",
    "    idx_1 = iris_df[iris_df['gmm_cluster'] == 1].index\n",
    "    idx_2 = iris_df[iris_df['gmm_cluster'] == 2].index\n",
    "    \n",
    "    # 각 군집 인덱스의 pca_x, pca_y 값 추출 및 시각화\n",
    "    fig, ax = plt.subplots()\n",
    "    \n",
    "    ax.scatter(x=iris_df.loc[idx_0, 'pca_x'], y= iris_df.loc[idx_0, 'pca_y'], marker = 'o')\n",
    "    ax.scatter(x=iris_df.loc[idx_1, 'pca_x'], y= iris_df.loc[idx_1, 'pca_y'], marker = 's')\n",
    "    ax.scatter(x=iris_df.loc[idx_2, 'pca_x'], y= iris_df.loc[idx_2, 'pca_y'], marker = '^')\n",
    "    ax.set_title('Gaussian Mixture Model')\n",
    "    ax.set_xlabel('PCA1')\n",
    "    ax.set_ylabel('PCA2')\n",
    "    \n",
    "    fig.savefig(\"pictures/gmm_plot.png\")\n",
    "    \n",
    "def main():\n",
    "\t# 1.Gaussian Mixture Model 불러오기 및 학습\n",
    "    gmm = GaussianMixture(n_components=3).fit(iris_df)\n",
    "    # 2.predict 값 출력\n",
    "    gmm_cluster_labels = gmm.predict(iris_df)\n",
    "    \n",
    "    # 3.DataFrame에 예측 값 넣기\n",
    "    iris_df['gmm_cluster'] = gmm_cluster_labels\n",
    "    \n",
    "    # 결과 출력\n",
    "    iris_result = iris_df.groupby(['target'])['gmm_cluster'].value_counts()\n",
    "    print(iris_result,'\\n')\n",
    "    \n",
    "    # 4.Kmeans 불러오기 및 학습\n",
    "    kmeans = KMeans(n_clusters = 3, max_iter=100, random_state=100).fit(iris_df)\n",
    "    # 5.predict 값 출력\n",
    "    kmeans_cluster_labels = kmeans.predict(iris_df)\n",
    "    \n",
    "    # 6.DataFrame에 예측 값 넣기\n",
    "    iris_df['Kmean_cluster'] = kmeans_cluster_labels\n",
    "    iris_result = iris_df.groupby(['target'])['Kmean_cluster'].value_counts()\n",
    "    print(iris_result)\n",
    "    \n",
    "    Visualize()\n",
    "    \n",
    "if __name__ == \"__main__\":\n",
    "    main()"
   ]
  },
  {
   "cell_type": "markdown",
   "metadata": {},
   "source": [
    "K-means VS GMM\n",
    "----------------"
   ]
  },
  {
   "cell_type": "code",
   "execution_count": 7,
   "metadata": {},
   "outputs": [
    {
     "name": "stdout",
     "output_type": "stream",
     "text": [
      "K-means Clustering\n",
      "target  kmeans_label\n",
      "0       2               67\n",
      "        0               31\n",
      "        1                2\n",
      "1       1               97\n",
      "        2                3\n",
      "2       0               67\n",
      "        2               33\n",
      "Name: kmeans_label, dtype: int64\n",
      "Gaussian Mixture Model\n",
      "target  gmm_label\n",
      "0       2            100\n",
      "1       1             98\n",
      "        2              2\n",
      "2       0             92\n",
      "        2              8\n",
      "Name: gmm_label, dtype: int64\n"
     ]
    },
    {
     "data": {
      "image/png": "[encoded data removed]",
      "text/plain": [
       "<Figure size 432x288 with 1 Axes>"
      ]
     },
     "metadata": {},
     "output_type": "display_data"
    },
    {
     "data": {
      "image/png": "[encoded data removed]",
      "text/plain": [
       "<Figure size 432x288 with 1 Axes>"
      ]
     },
     "metadata": {},
     "output_type": "display_data"
    },
    {
     "data": {
      "image/png": "[encoded data removed]",
      "text/plain": [
       "<Figure size 432x288 with 1 Axes>"
      ]
     },
     "metadata": {},
     "output_type": "display_data"
    }
   ],
   "source": [
    "import numpy as np\n",
    "import pandas as pd\n",
    "import matplotlib.pyplot as plt\n",
    "from sklearn.datasets import load_iris\n",
    "from sklearn.cluster import KMeans\n",
    "from sklearn.mixture import GaussianMixture\n",
    "from sklearn.datasets import make_blobs\n",
    "\n",
    "# make_blobs()으로 데이터를 생성해보세요.\n",
    "X, y = make_blobs(n_samples = 300, n_features =2, centers =3, cluster_std = 0.8, random_state=0)\n",
    "\n",
    "# 데이터의 분포를 변형시키기 위해 transformation을 진행합니다.\n",
    "transformation = [[0.60834549, -0.63667341],[-0.40887718,0.85253229]]\n",
    "X_aniso = np.dot(X, transformation)\n",
    "\n",
    "# 데이터 프레임 만들기 \n",
    "clusterDF = pd.DataFrame(data = X_aniso, columns= ['ftr1','ftr2'])\n",
    "clusterDF['target'] = y\n",
    "target_list = np.unique(y)\n",
    "\n",
    "# 생성된 데이터 시각화\n",
    "def data_visualize():\n",
    "    fig, ax = plt.subplots()\n",
    "    for target in target_list:\n",
    "        target_cluster = clusterDF[clusterDF['target'] == target]\n",
    "        ax.scatter(x = target_cluster['ftr1'], y = target_cluster['ftr2'])\n",
    "    \n",
    "    fig.savefig(\"pictures/data_plot.png\")\n",
    "    \n",
    "# K-Means Clustering\n",
    "def K_means():\n",
    "    # K-means\n",
    "    k_means = KMeans(n_clusters = 3, random_state = 0) # KMeans clustering\n",
    "    kmeans_label = k_means.fit_predict(X_aniso)         # 학습 및 예측\n",
    "    clusterDF['kmeans_label']=kmeans_label             # 데이터프레임에 결과값 저장\n",
    "    \n",
    "    # Kmeans 군집의 중심값을 뽑아보세요.\n",
    "    center = k_means.cluster_centers_                   # 군집별 중심값 추출\n",
    "    \n",
    "    # KMeans 군집 결과 시각화\n",
    "    unique_labels = np.unique(kmeans_label)\n",
    "    fig, ax = plt.subplots()\n",
    "    \n",
    "    for label in unique_labels:\n",
    "        label_cluster = clusterDF[clusterDF['kmeans_label'] == label]\n",
    "        center_x_y = center[label]\n",
    "        ax.scatter(x = label_cluster['ftr1'], y = label_cluster['ftr2'])\n",
    "        ax.scatter(x = center_x_y[0], y = center_x_y[1], s = 70,color = 'k', marker = '$%d$' % label)\n",
    "    \n",
    "    fig.savefig(\"pictures/k_means2_plot.png\")\n",
    "\n",
    "    print(\"K-means Clustering\")\n",
    "    print(clusterDF.groupby('target')['kmeans_label'].value_counts())\n",
    "\n",
    "def GMM():\n",
    "    # GMM Clutering\n",
    "    gmm = GaussianMixture(n_components=3, random_state=0)   # GMM 불러오기\n",
    "    gmm_label = gmm.fit(X_aniso).predict(X_aniso)           # 학습과 결과 예측\n",
    "    clusterDF['gmm_label']=gmm_label                        # 예측 label 데이터프레임에 입력\n",
    "    unique_labels = np.unique(gmm_label)\n",
    "    \n",
    "    # GMM Clustering 시각화\n",
    "    fig, ax = plt.subplots()\n",
    "    for label in unique_labels:\n",
    "        label_cluster = clusterDF[clusterDF['gmm_label'] == label]\n",
    "        plt.scatter(x = label_cluster['ftr1'], y = label_cluster['ftr2'])\n",
    "    \n",
    "    fig.savefig(\"pictures/gmm2_plot.png\")\n",
    "    \n",
    "    print(\"Gaussian Mixture Model\")\n",
    "    print(clusterDF.groupby('target')['gmm_label'].value_counts())\n",
    "\n",
    "def main():\n",
    "    data_visualize()\n",
    "    K_means()\n",
    "    GMM()\n",
    "\n",
    "if __name__ == \"__main__\":\n",
    "    main()"
   ]
  },
  {
   "cell_type": "markdown",
   "metadata": {},
   "source": [
    "End to End Clustering\n",
    "-------------"
   ]
  },
  {
   "cell_type": "code",
   "execution_count": 8,
   "metadata": {},
   "outputs": [
    {
     "name": "stdout",
     "output_type": "stream",
     "text": [
      "       ftr1      ftr2      ftr3      ftr4      ftr5      pca_x      pca_y  \\\n",
      "0 -8.591595  7.406348 -2.984199 -3.996588  4.235865  -3.653929  -7.439308   \n",
      "1 -6.900332  8.692419 -2.531820 -2.685917  4.998194  -3.001309  -5.944653   \n",
      "2  8.462535  9.803245  2.561731  3.103243 -2.018894   5.989978  10.116474   \n",
      "3 -6.116245  0.667682  8.687246  1.017335  4.999412  10.422832  -8.529236   \n",
      "4 -6.072788  8.422612 -2.909074 -0.857638  5.410820  -2.569463  -5.371390   \n",
      "\n",
      "   target  Kmean_label  \n",
      "0       2            2  \n",
      "1       2            2  \n",
      "2       0            3  \n",
      "3       3            0  \n",
      "4       2            2  \n"
     ]
    },
    {
     "data": {
      "image/png": "[encoded data removed]",
      "text/plain": [
       "<Figure size 432x288 with 1 Axes>"
      ]
     },
     "metadata": {},
     "output_type": "display_data"
    },
    {
     "data": {
      "image/png": "[encoded data removed]",
      "text/plain": [
       "<Figure size 432x288 with 1 Axes>"
      ]
     },
     "metadata": {},
     "output_type": "display_data"
    }
   ],
   "source": [
    "import matplotlib.pyplot as plt\n",
    "import pandas as pd\n",
    "import numpy as np\n",
    "from sklearn.datasets import make_blobs\n",
    "from sklearn.cluster import KMeans\n",
    "from sklearn.decomposition import PCA\n",
    "\n",
    "# make_blob() 인자\n",
    "# 1.n_samples = 1000, n_features = 5, centers = 5, cluster_std = 0.8, random_state = np.random.seed()\n",
    "n_samples = 1000\n",
    "n_features = 5\n",
    "centers = 5\n",
    "cluster_std = 0.8\n",
    "\n",
    "# pca component\n",
    "# 2.차원을 2개로 축소해보세요.\n",
    "n_components = 2\n",
    "\n",
    "# 3.K-mean 인자 설정\n",
    "n_clusters = 5\n",
    "max_iter = 100\n",
    "\n",
    "# 4.make_blob() 함수를 이용해서 임의의 데이터를 생성해보세요.\n",
    "x, y = make_blobs(n_samples=n_samples, n_features=n_features, centers=centers, cluster_std=cluster_std)\n",
    "\n",
    "# 생성한 데이터로 데이터 프레임을 만들어보세요.\n",
    "# 5.Columns = ['ftr1','ftr2','ftr3','ftr4','ftr5']\n",
    "cluster_df = pd.DataFrame(data = x, columns = ['ftr1','ftr2','ftr3','ftr4','ftr5'])\n",
    "\n",
    "# PCA를 사용해서 5개의 Feature를 2개의 Feature로 Dimension Reduction하세요.\n",
    "# 축소된 PCA 값을 데이터 프레임에 추가해주세요 (column 명 : pca_x, pca_y)\n",
    "# 6.y 값을 'target' columns에 만들어 넣어주세요.\n",
    "pca = PCA(n_components=2).fit(cluster_df)\n",
    "x_reduction = pca.transform(cluster_df)\n",
    "\n",
    "# 7.데이터 프레임에 pca 데이터와 y 데이터를 추가해보세요.\n",
    "cluster_df['pca_x'] = x_reduction[:, 0]\n",
    "cluster_df['pca_y'] = x_reduction[:, 1]\n",
    "cluster_df['target'] = y\n",
    "\n",
    "\n",
    "# 8.Kmean 수행\n",
    "kmeans = KMeans(n_clusters=n_clusters, max_iter=max_iter, random_state=100).fit(cluster_df)\n",
    "cluster_labels = kmeans.predict(cluster_df)\n",
    "cluster_df['Kmean_label'] = cluster_labels\n",
    "\n",
    "print(cluster_df.head())\n",
    "\n",
    "\n",
    "# 인자는 DF, target, feature1, feature2, center 여부 입니다.\n",
    "def visualize(DF, target, feature1, feature2, center):\n",
    "    # Center는 bool 값으로 받습니다.\n",
    "    # Center를 찍을 경우\n",
    "    fig, ax = plt.subplots()\n",
    "    if center == True:\n",
    "        center_val = kmeans.cluster_centers_\n",
    "    label_list = np.unique(DF[target])\n",
    "    for label in label_list:\n",
    "        label_cluster = DF[DF[target] == label]\n",
    "        ax.scatter(x = label_cluster[feature1], y = label_cluster[feature2])\n",
    "\n",
    "        if center == True:\n",
    "            center_x_y = center_val[label]\n",
    "            ax.scatter(x = center_x_y[0], y = center_x_y[1], s = 70,color = 'k', marker = '$%d$' % label)\n",
    "    \n",
    "    fig.savefig(\"pictures/endtoend_clustering_plot.png\")\n",
    "\n",
    "visualize(cluster_df, 'target', 'pca_x','pca_y', False)\n",
    "visualize(cluster_df, 'Kmean_label', 'pca_x','pca_y', True)"
   ]
  },
  {
   "cell_type": "code",
   "execution_count": null,
   "metadata": {},
   "outputs": [],
   "source": []
  }
 ],
 "metadata": {
  "kernelspec": {
   "display_name": "Python 3",
   "language": "python",
   "name": "python3"
  },
  "language_info": {
   "codemirror_mode": {
    "name": "ipython",
    "version": 3
   },
   "file_extension": ".py",
   "mimetype": "text/x-python",
   "name": "python",
   "nbconvert_exporter": "python",
   "pygments_lexer": "ipython3",
   "version": "3.6.5"
  }
 },
 "nbformat": 4,
 "nbformat_minor": 4
}
