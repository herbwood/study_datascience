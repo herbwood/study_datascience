{
 "cells": [
  {
   "cell_type": "markdown",
   "metadata": {},
   "source": [
    "Tensorflow\n",
    "======"
   ]
  },
  {
   "cell_type": "code",
   "execution_count": 4,
   "metadata": {},
   "outputs": [
    {
     "name": "stdout",
     "output_type": "stream",
     "text": [
      "False\n",
      "Tensor(\"input_node1_2:0\", shape=(), dtype=int32)\n",
      "Tensor(\"input_node2_2:0\", shape=(), dtype=int32)\n",
      "Tensor(\"add_c_2:0\", shape=(), dtype=int32)\n",
      "Tensor(\"sub_d_2:0\", shape=(), dtype=int32)\n",
      "Tensor(\"add_e_2:0\", shape=(), dtype=int32)\n",
      "Tensor(\"Const_2:0\", shape=(), dtype=string)\n"
     ]
    }
   ],
   "source": [
    "import tensorflow as tf\n",
    "import numpy \n",
    "\n",
    "# 즉시 실행 모드가 설정되어 있다면 True를 반환해줍니다.\n",
    "print(tf.executing_eagerly())\n",
    "\n",
    "# Tensorflow 상수 선언\n",
    "a = tf.constant(5, name = 'input_node1')\n",
    "b = tf.constant(3, name = 'input_node2')\n",
    "\n",
    "# Tensorflow 연산 Node\n",
    "c = tf.add(a,b, name = 'add_c')\n",
    "d = tf.subtract(a,b, name = 'sub_d')\n",
    "e = tf.multiply(c,d, name = 'add_e')\n",
    "\n",
    "# Tensorflow 문자열 선언\n",
    "hello = tf.constant('hello Tensorflow!')\n",
    "\n",
    "# 선언한 변수들을 출력해보면 결과값이 아닌 데이터의 타입이나 형태가 출력됩니다.\n",
    "for i in [a,b,c,d,e, hello]:\n",
    "    print(i)\n",
    "    \n",
    "# 실제로 데이터의 값을 출력하기 위해서 numpy()를 사용합니다.\n",
    "# for i in [a,b,c,d,e, hello]:\n",
    "#     print(i.numpy())"
   ]
  },
  {
   "cell_type": "code",
   "execution_count": null,
   "metadata": {},
   "outputs": [],
   "source": []
  }
 ],
 "metadata": {
  "kernelspec": {
   "display_name": "Python 3",
   "language": "python",
   "name": "python3"
  },
  "language_info": {
   "codemirror_mode": {
    "name": "ipython",
    "version": 3
   },
   "file_extension": ".py",
   "mimetype": "text/x-python",
   "name": "python",
   "nbconvert_exporter": "python",
   "pygments_lexer": "ipython3",
   "version": "3.6.5"
  }
 },
 "nbformat": 4,
 "nbformat_minor": 4
}
