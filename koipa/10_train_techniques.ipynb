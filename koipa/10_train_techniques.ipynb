{
 "cells": [
  {
   "cell_type": "markdown",
   "metadata": {
    "colab_type": "text",
    "id": "II_NcSilVwM5"
   },
   "source": [
    "Weight Initialization\n",
    "======\n",
    "\n",
    "## 1. Problem occuring during training Neural Network\n",
    "\n",
    "####  Vanishing Gradient \n",
    "MLP 를 학습시키는 방법인 Backpropagation 중 Gradient 항이 사라지는 문제 입니다. 이 항이 0이나 0에 가까워져 학습이 불가능해지는 현상\n",
    "\n",
    "## 2. How to solve Vanishing Gradient?\n",
    "\n",
    "#### 1) Activation Function\n",
    "Vanishing Gradient 현상은 Activation Function 의 변경을 통해 어느정도 보완할 수 있게 되었습니다. \n",
    "\n",
    "### 2) Weight Initialization\n",
    "***아니면 처음부터 weight 값들이 최적의 값들이라면 gradient 가 작아지더라도 훌륭한 모델이 생성될 수 있겠지요.***  \n",
    "***또한 처음부터 weight 값들이 최적의 값들이라면 학습횟수가 많지 않아도 훌륭한 모델을 만들 수 있을 것입니다.***\n",
    "\n",
    "## 3. Various types of Activation functions and Weight Initialization Methods\n",
    "\n",
    "Weight Initialization | Activation functions\n",
    "----------------------|--------------------\n",
    "Xavier(Glorot)|tanh, sigmoid, softmax\n",
    "He| ReLU, Leacky ReLU, PReLU, ELU\n",
    "LeCun | SELU\n",
    "\n",
    "### Reference : https://gomguard.tistory.com/183\n"
   ]
  },
  {
   "cell_type": "code",
   "execution_count": null,
   "metadata": {
    "colab": {},
    "colab_type": "code",
    "id": "vclJIQzE0KBy"
   },
   "outputs": [],
   "source": [
    "from __future__ import print_function\n",
    "\n",
    "import numpy as np\n",
    "import matplotlib.pyplot as plt\n",
    "import keras\n",
    "from keras.datasets import reuters\n",
    "from keras.models import Sequential\n",
    "from keras.layers import Dense, Activation, Dropout\n",
    "from keras.layers.noise import AlphaDropout\n",
    "from keras.preprocessing.text import Tokenizer\n",
    "\n",
    "max_words = 1000\n",
    "batch_size = 16\n",
    "epochs = 40\n",
    "plot = True"
   ]
  },
  {
   "cell_type": "code",
   "execution_count": null,
   "metadata": {
    "colab": {},
    "colab_type": "code",
    "id": "Qeg0JIRB0KlY"
   },
   "outputs": [],
   "source": [
    "def create_network(n_dense=6,\n",
    "                   dense_units=16,\n",
    "                   activation='selu',\n",
    "                   dropout=AlphaDropout,\n",
    "                   dropout_rate=0.1,\n",
    "                   kernel_initializer='lecun_normal',\n",
    "                   optimizer='adam',\n",
    "                   num_classes=1,\n",
    "                   max_words=max_words):\n",
    "    model = Sequential()\n",
    "    model.add(Dense(dense_units, input_shape=(max_words,),\n",
    "                    kernel_initializer=kernel_initializer))\n",
    "    model.add(Activation(activation))\n",
    "    model.add(dropout(dropout_rate))\n",
    "\n",
    "    for i in range(n_dense - 1):\n",
    "        model.add(Dense(dense_units, kernel_initializer=kernel_initializer))\n",
    "        model.add(Activation(activation))\n",
    "        model.add(dropout(dropout_rate))\n",
    "\n",
    "    model.add(Dense(num_classes))\n",
    "    model.add(Activation('softmax'))\n",
    "    model.compile(loss='categorical_crossentropy',\n",
    "                  optimizer=optimizer,\n",
    "                  metrics=['accuracy'])\n",
    "    return model"
   ]
  },
  {
   "cell_type": "code",
   "execution_count": null,
   "metadata": {
    "colab": {},
    "colab_type": "code",
    "id": "GbNiVkiq0Ovo"
   },
   "outputs": [],
   "source": [
    "network1 = {\n",
    "    'n_dense': 6,\n",
    "    'dense_units': 16,\n",
    "    'activation': 'relu',\n",
    "    'dropout': Dropout,\n",
    "    'dropout_rate': 0.5,\n",
    "    'kernel_initializer': 'glorot_uniform',\n",
    "    'optimizer': 'sgd'\n",
    "}"
   ]
  },
  {
   "cell_type": "code",
   "execution_count": null,
   "metadata": {
    "colab": {},
    "colab_type": "code",
    "id": "MgeRwZ7m0Ru3"
   },
   "outputs": [],
   "source": [
    "network2 = {\n",
    "    'n_dense': 6,\n",
    "    'dense_units': 16,\n",
    "    'activation': 'selu',\n",
    "    'dropout': AlphaDropout,\n",
    "    'dropout_rate': 0.1,\n",
    "    'kernel_initializer': 'lecun_normal',\n",
    "    'optimizer': 'sgd'\n",
    "}"
   ]
  },
  {
   "cell_type": "code",
   "execution_count": 17,
   "metadata": {
    "colab": {
     "base_uri": "https://localhost:8080/",
     "height": 70
    },
    "colab_type": "code",
    "id": "CqHepCjI0TMH",
    "outputId": "ea55894e-cd4b-4a10-e308-ce575d3cf680"
   },
   "outputs": [
    {
     "name": "stdout",
     "output_type": "stream",
     "text": [
      "Loading data...\n",
      "8982 train sequences\n",
      "2246 test sequences\n"
     ]
    }
   ],
   "source": [
    "print('Loading data...')\n",
    "(x_train, y_train), (x_test, y_test) = reuters.load_data(num_words=max_words,\n",
    "                                                         test_split=0.2)\n",
    "print(len(x_train), 'train sequences')\n",
    "print(len(x_test), 'test sequences')"
   ]
  },
  {
   "cell_type": "code",
   "execution_count": 18,
   "metadata": {
    "colab": {
     "base_uri": "https://localhost:8080/",
     "height": 88
    },
    "colab_type": "code",
    "id": "c_NsafCQ0V34",
    "outputId": "3feb9dd4-030c-40f8-f373-514ec7205277"
   },
   "outputs": [
    {
     "name": "stdout",
     "output_type": "stream",
     "text": [
      "46 classes\n",
      "Vectorizing sequence data...\n",
      "x_train shape: (8982, 1000)\n",
      "x_test shape: (2246, 1000)\n"
     ]
    }
   ],
   "source": [
    "num_classes = np.max(y_train) + 1\n",
    "print(num_classes, 'classes')\n",
    "\n",
    "print('Vectorizing sequence data...')\n",
    "tokenizer = Tokenizer(num_words=max_words)\n",
    "x_train = tokenizer.sequences_to_matrix(x_train, mode='binary')\n",
    "x_test = tokenizer.sequences_to_matrix(x_test, mode='binary')\n",
    "print('x_train shape:', x_train.shape)\n",
    "print('x_test shape:', x_test.shape)"
   ]
  },
  {
   "cell_type": "code",
   "execution_count": 19,
   "metadata": {
    "colab": {
     "base_uri": "https://localhost:8080/",
     "height": 90
    },
    "colab_type": "code",
    "id": "a51I-Gm50f-I",
    "outputId": "2114434e-809d-4f9b-e381-867968fbcfde"
   },
   "outputs": [
    {
     "name": "stdout",
     "output_type": "stream",
     "text": [
      "Convert class vector to binary class matrix (for use with categorical_crossentropy)\n",
      "y_train shape: (8982, 46)\n",
      "y_test shape: (2246, 46)\n"
     ]
    }
   ],
   "source": [
    "print('Convert class vector to binary class matrix '\n",
    "      '(for use with categorical_crossentropy)')\n",
    "y_train = keras.utils.to_categorical(y_train, num_classes)\n",
    "y_test = keras.utils.to_categorical(y_test, num_classes)\n",
    "print('y_train shape:', y_train.shape)\n",
    "print('y_test shape:', y_test.shape)"
   ]
  },
  {
   "cell_type": "code",
   "execution_count": 20,
   "metadata": {
    "colab": {
     "base_uri": "https://localhost:8080/",
     "height": 1000
    },
    "colab_type": "code",
    "id": "m31eMlLX0iQw",
    "outputId": "d1ad1374-70c2-48f6-8898-643f699d6cfe"
   },
   "outputs": [
    {
     "name": "stdout",
     "output_type": "stream",
     "text": [
      "\n",
      "Building network 1...\n",
      "Train on 8083 samples, validate on 899 samples\n",
      "Epoch 1/40\n",
      "8083/8083 [==============================] - 3s 346us/step - loss: 3.3034 - acc: 0.3298 - val_loss: 2.7531 - val_acc: 0.3315\n",
      "Epoch 2/40\n",
      "8083/8083 [==============================] - 2s 287us/step - loss: 2.6839 - acc: 0.3501 - val_loss: 2.5462 - val_acc: 0.3315\n",
      "Epoch 3/40\n",
      "8083/8083 [==============================] - 2s 291us/step - loss: 2.5597 - acc: 0.3522 - val_loss: 2.4776 - val_acc: 0.3315\n",
      "Epoch 4/40\n",
      "8083/8083 [==============================] - 2s 286us/step - loss: 2.4695 - acc: 0.3495 - val_loss: 2.3577 - val_acc: 0.3315\n",
      "Epoch 5/40\n",
      "8083/8083 [==============================] - 2s 298us/step - loss: 2.3729 - acc: 0.3587 - val_loss: 2.2314 - val_acc: 0.3315\n",
      "Epoch 6/40\n",
      "8083/8083 [==============================] - 2s 298us/step - loss: 2.3016 - acc: 0.3927 - val_loss: 2.1690 - val_acc: 0.4894\n",
      "Epoch 7/40\n",
      "8083/8083 [==============================] - 2s 295us/step - loss: 2.2521 - acc: 0.4156 - val_loss: 2.1316 - val_acc: 0.4894\n",
      "Epoch 8/40\n",
      "8083/8083 [==============================] - 2s 292us/step - loss: 2.2166 - acc: 0.4467 - val_loss: 2.1036 - val_acc: 0.5061\n",
      "Epoch 9/40\n",
      "8083/8083 [==============================] - 2s 295us/step - loss: 2.2008 - acc: 0.4727 - val_loss: 2.0971 - val_acc: 0.5050\n",
      "Epoch 10/40\n",
      "8083/8083 [==============================] - 2s 281us/step - loss: 2.1759 - acc: 0.4848 - val_loss: 2.0749 - val_acc: 0.5117\n",
      "Epoch 11/40\n",
      "8083/8083 [==============================] - 2s 286us/step - loss: 2.1655 - acc: 0.4934 - val_loss: 2.0556 - val_acc: 0.5195\n",
      "Epoch 12/40\n",
      "8083/8083 [==============================] - 2s 293us/step - loss: 2.1456 - acc: 0.4961 - val_loss: 2.0785 - val_acc: 0.5083\n",
      "Epoch 13/40\n",
      "8083/8083 [==============================] - 2s 283us/step - loss: 2.1433 - acc: 0.4926 - val_loss: 2.0741 - val_acc: 0.5117\n",
      "Epoch 14/40\n",
      "8083/8083 [==============================] - 2s 287us/step - loss: 2.1140 - acc: 0.5045 - val_loss: 2.0636 - val_acc: 0.5172\n",
      "Epoch 15/40\n",
      "8083/8083 [==============================] - 2s 288us/step - loss: 2.1073 - acc: 0.5070 - val_loss: 2.0463 - val_acc: 0.5195\n",
      "Epoch 16/40\n",
      "8083/8083 [==============================] - 2s 284us/step - loss: 2.0857 - acc: 0.5123 - val_loss: 2.0620 - val_acc: 0.5195\n",
      "Epoch 17/40\n",
      "8083/8083 [==============================] - 2s 285us/step - loss: 2.0880 - acc: 0.5131 - val_loss: 2.0489 - val_acc: 0.5184\n",
      "Epoch 18/40\n",
      "8083/8083 [==============================] - 2s 288us/step - loss: 2.0920 - acc: 0.5084 - val_loss: 2.0545 - val_acc: 0.5128\n",
      "Epoch 19/40\n",
      "8083/8083 [==============================] - 2s 305us/step - loss: 2.0746 - acc: 0.5169 - val_loss: 2.0506 - val_acc: 0.5184\n",
      "Epoch 20/40\n",
      "8083/8083 [==============================] - 2s 289us/step - loss: 2.0881 - acc: 0.5127 - val_loss: 2.0542 - val_acc: 0.5172\n",
      "Epoch 21/40\n",
      "8083/8083 [==============================] - 2s 282us/step - loss: 2.0644 - acc: 0.5159 - val_loss: 2.0412 - val_acc: 0.5172\n",
      "Epoch 22/40\n",
      "8083/8083 [==============================] - 2s 294us/step - loss: 2.0640 - acc: 0.5171 - val_loss: 2.0593 - val_acc: 0.5195\n",
      "Epoch 23/40\n",
      "8083/8083 [==============================] - 2s 290us/step - loss: 2.0592 - acc: 0.5196 - val_loss: 2.0497 - val_acc: 0.5206\n",
      "Epoch 24/40\n",
      "8083/8083 [==============================] - 2s 288us/step - loss: 2.0472 - acc: 0.5205 - val_loss: 2.0581 - val_acc: 0.5217\n",
      "Epoch 25/40\n",
      "8083/8083 [==============================] - 2s 297us/step - loss: 2.0522 - acc: 0.5200 - val_loss: 2.0580 - val_acc: 0.5172\n",
      "Epoch 26/40\n",
      "8083/8083 [==============================] - 2s 294us/step - loss: 2.0535 - acc: 0.5252 - val_loss: 2.0590 - val_acc: 0.5206\n",
      "Epoch 27/40\n",
      "8083/8083 [==============================] - 2s 295us/step - loss: 2.0439 - acc: 0.5247 - val_loss: 2.0484 - val_acc: 0.5228\n",
      "Epoch 28/40\n",
      "8083/8083 [==============================] - 2s 289us/step - loss: 2.0621 - acc: 0.5191 - val_loss: 2.0390 - val_acc: 0.5228\n",
      "Epoch 29/40\n",
      "8083/8083 [==============================] - 2s 287us/step - loss: 2.0518 - acc: 0.5200 - val_loss: 2.0506 - val_acc: 0.5195\n",
      "Epoch 30/40\n",
      "8083/8083 [==============================] - 2s 286us/step - loss: 2.0465 - acc: 0.5208 - val_loss: 2.1049 - val_acc: 0.5206\n",
      "Epoch 31/40\n",
      "8083/8083 [==============================] - 2s 289us/step - loss: 2.0430 - acc: 0.5199 - val_loss: 2.0448 - val_acc: 0.5206\n",
      "Epoch 32/40\n",
      "8083/8083 [==============================] - 2s 294us/step - loss: 2.0418 - acc: 0.5212 - val_loss: 2.1072 - val_acc: 0.5217\n",
      "Epoch 33/40\n",
      "8083/8083 [==============================] - 2s 289us/step - loss: 2.0355 - acc: 0.5223 - val_loss: 2.0572 - val_acc: 0.5217\n",
      "Epoch 34/40\n",
      "8083/8083 [==============================] - 2s 304us/step - loss: 2.0361 - acc: 0.5227 - val_loss: 2.0435 - val_acc: 0.5206\n",
      "Epoch 35/40\n",
      "8083/8083 [==============================] - 2s 298us/step - loss: 2.0294 - acc: 0.5255 - val_loss: 2.0475 - val_acc: 0.5217\n",
      "Epoch 36/40\n",
      "8083/8083 [==============================] - 2s 287us/step - loss: 2.0276 - acc: 0.5270 - val_loss: 2.0339 - val_acc: 0.5228\n",
      "Epoch 37/40\n",
      "8083/8083 [==============================] - 2s 284us/step - loss: 2.0253 - acc: 0.5259 - val_loss: 2.0315 - val_acc: 0.5217\n",
      "Epoch 38/40\n",
      "8083/8083 [==============================] - 2s 295us/step - loss: 2.0247 - acc: 0.5249 - val_loss: 2.0545 - val_acc: 0.5217\n",
      "Epoch 39/40\n",
      "8083/8083 [==============================] - 2s 286us/step - loss: 2.0215 - acc: 0.5268 - val_loss: 2.0513 - val_acc: 0.5161\n",
      "Epoch 40/40\n",
      "8083/8083 [==============================] - 2s 290us/step - loss: 2.0031 - acc: 0.5281 - val_loss: 2.0428 - val_acc: 0.5206\n",
      "2246/2246 [==============================] - 0s 87us/step\n"
     ]
    }
   ],
   "source": [
    "print('\\nBuilding network 1...')\n",
    "\n",
    "model1 = create_network(num_classes=num_classes, **network1)\n",
    "history_model1 = model1.fit(x_train,\n",
    "                            y_train,\n",
    "                            batch_size=batch_size,\n",
    "                            epochs=epochs,\n",
    "                            verbose=1,\n",
    "                            validation_split=0.1)\n",
    "\n",
    "score_model1 = model1.evaluate(x_test,\n",
    "                               y_test,\n",
    "                               batch_size=batch_size,\n",
    "                               verbose=1)"
   ]
  },
  {
   "cell_type": "code",
   "execution_count": 21,
   "metadata": {
    "colab": {
     "base_uri": "https://localhost:8080/",
     "height": 1000
    },
    "colab_type": "code",
    "id": "rKASWpvg0lZY",
    "outputId": "47a44605-a2b1-4f3e-c6ed-b84b654b5235"
   },
   "outputs": [
    {
     "name": "stdout",
     "output_type": "stream",
     "text": [
      "\n",
      "Building network 2...\n",
      "Train on 8083 samples, validate on 899 samples\n",
      "Epoch 1/40\n",
      "8083/8083 [==============================] - 3s 416us/step - loss: 2.7966 - acc: 0.3024 - val_loss: 2.5832 - val_acc: 0.3315\n",
      "Epoch 2/40\n",
      "8083/8083 [==============================] - 3s 338us/step - loss: 2.3766 - acc: 0.3775 - val_loss: 2.1424 - val_acc: 0.4605\n",
      "Epoch 3/40\n",
      "8083/8083 [==============================] - 3s 336us/step - loss: 2.1653 - acc: 0.4436 - val_loss: 1.9621 - val_acc: 0.5083\n",
      "Epoch 4/40\n",
      "8083/8083 [==============================] - 3s 336us/step - loss: 2.0299 - acc: 0.4841 - val_loss: 1.9068 - val_acc: 0.5506\n",
      "Epoch 5/40\n",
      "8083/8083 [==============================] - 3s 337us/step - loss: 1.9504 - acc: 0.5079 - val_loss: 1.8446 - val_acc: 0.5628\n",
      "Epoch 6/40\n",
      "8083/8083 [==============================] - 3s 347us/step - loss: 1.8942 - acc: 0.5207 - val_loss: 1.8339 - val_acc: 0.5673\n",
      "Epoch 7/40\n",
      "8083/8083 [==============================] - 3s 344us/step - loss: 1.8528 - acc: 0.5260 - val_loss: 1.8314 - val_acc: 0.5729\n",
      "Epoch 8/40\n",
      "8083/8083 [==============================] - 3s 332us/step - loss: 1.8256 - acc: 0.5312 - val_loss: 1.7969 - val_acc: 0.5818\n",
      "Epoch 9/40\n",
      "8083/8083 [==============================] - 3s 342us/step - loss: 1.7776 - acc: 0.5498 - val_loss: 1.7827 - val_acc: 0.5740\n",
      "Epoch 10/40\n",
      "8083/8083 [==============================] - 3s 335us/step - loss: 1.7585 - acc: 0.5521 - val_loss: 1.7852 - val_acc: 0.5873\n",
      "Epoch 11/40\n",
      "8083/8083 [==============================] - 3s 337us/step - loss: 1.7315 - acc: 0.5576 - val_loss: 1.8034 - val_acc: 0.5784\n",
      "Epoch 12/40\n",
      "8083/8083 [==============================] - 3s 346us/step - loss: 1.7112 - acc: 0.5638 - val_loss: 1.7517 - val_acc: 0.5962\n",
      "Epoch 13/40\n",
      "8083/8083 [==============================] - 3s 341us/step - loss: 1.6972 - acc: 0.5638 - val_loss: 1.7795 - val_acc: 0.5918\n",
      "Epoch 14/40\n",
      "8083/8083 [==============================] - 3s 348us/step - loss: 1.6583 - acc: 0.5771 - val_loss: 1.7503 - val_acc: 0.5940\n",
      "Epoch 15/40\n",
      "8083/8083 [==============================] - 3s 357us/step - loss: 1.6545 - acc: 0.5822 - val_loss: 1.7557 - val_acc: 0.6085\n",
      "Epoch 16/40\n",
      "8083/8083 [==============================] - 3s 353us/step - loss: 1.6439 - acc: 0.5804 - val_loss: 1.7242 - val_acc: 0.6018\n",
      "Epoch 17/40\n",
      "8083/8083 [==============================] - 3s 356us/step - loss: 1.6250 - acc: 0.5899 - val_loss: 1.7349 - val_acc: 0.5996\n",
      "Epoch 18/40\n",
      "8083/8083 [==============================] - 3s 336us/step - loss: 1.6046 - acc: 0.5895 - val_loss: 1.7294 - val_acc: 0.6151\n",
      "Epoch 19/40\n",
      "8083/8083 [==============================] - 3s 342us/step - loss: 1.5931 - acc: 0.5946 - val_loss: 1.6863 - val_acc: 0.6196\n",
      "Epoch 20/40\n",
      "8083/8083 [==============================] - 3s 333us/step - loss: 1.5758 - acc: 0.5979 - val_loss: 1.7119 - val_acc: 0.6151\n",
      "Epoch 21/40\n",
      "8083/8083 [==============================] - 3s 345us/step - loss: 1.5771 - acc: 0.6025 - val_loss: 1.6767 - val_acc: 0.6174\n",
      "Epoch 22/40\n",
      "8083/8083 [==============================] - 3s 339us/step - loss: 1.5735 - acc: 0.6036 - val_loss: 1.7091 - val_acc: 0.6118\n",
      "Epoch 23/40\n",
      "8083/8083 [==============================] - 3s 342us/step - loss: 1.5538 - acc: 0.6058 - val_loss: 1.6908 - val_acc: 0.6085\n",
      "Epoch 24/40\n",
      "8083/8083 [==============================] - 3s 335us/step - loss: 1.5295 - acc: 0.6108 - val_loss: 1.6538 - val_acc: 0.6429\n",
      "Epoch 25/40\n",
      "8083/8083 [==============================] - 3s 349us/step - loss: 1.5343 - acc: 0.6097 - val_loss: 1.6810 - val_acc: 0.6263\n",
      "Epoch 26/40\n",
      "8083/8083 [==============================] - 3s 333us/step - loss: 1.5072 - acc: 0.6178 - val_loss: 1.6452 - val_acc: 0.6307\n",
      "Epoch 27/40\n",
      "8083/8083 [==============================] - 3s 343us/step - loss: 1.5077 - acc: 0.6188 - val_loss: 1.6965 - val_acc: 0.6274\n",
      "Epoch 28/40\n",
      "8083/8083 [==============================] - 3s 348us/step - loss: 1.5053 - acc: 0.6173 - val_loss: 1.6620 - val_acc: 0.6229\n",
      "Epoch 29/40\n",
      "8083/8083 [==============================] - 3s 349us/step - loss: 1.4868 - acc: 0.6245 - val_loss: 1.6438 - val_acc: 0.6418\n",
      "Epoch 30/40\n",
      "8083/8083 [==============================] - 3s 340us/step - loss: 1.4849 - acc: 0.6202 - val_loss: 1.6797 - val_acc: 0.6329\n",
      "Epoch 31/40\n",
      "8083/8083 [==============================] - 3s 331us/step - loss: 1.4731 - acc: 0.6250 - val_loss: 1.6521 - val_acc: 0.6418\n",
      "Epoch 32/40\n",
      "8083/8083 [==============================] - 3s 336us/step - loss: 1.4505 - acc: 0.6340 - val_loss: 1.6395 - val_acc: 0.6418\n",
      "Epoch 33/40\n",
      "8083/8083 [==============================] - 3s 334us/step - loss: 1.4480 - acc: 0.6339 - val_loss: 1.6063 - val_acc: 0.6440\n",
      "Epoch 34/40\n",
      "8083/8083 [==============================] - 3s 334us/step - loss: 1.4442 - acc: 0.6374 - val_loss: 1.7089 - val_acc: 0.6429\n",
      "Epoch 35/40\n",
      "8083/8083 [==============================] - 3s 332us/step - loss: 1.4349 - acc: 0.6426 - val_loss: 1.6579 - val_acc: 0.6363\n",
      "Epoch 36/40\n",
      "8083/8083 [==============================] - 3s 333us/step - loss: 1.4292 - acc: 0.6369 - val_loss: 1.6466 - val_acc: 0.6485\n",
      "Epoch 37/40\n",
      "8083/8083 [==============================] - 3s 330us/step - loss: 1.4103 - acc: 0.6453 - val_loss: 1.6253 - val_acc: 0.6440\n",
      "Epoch 38/40\n",
      "8083/8083 [==============================] - 3s 340us/step - loss: 1.4111 - acc: 0.6409 - val_loss: 1.6366 - val_acc: 0.6485\n",
      "Epoch 39/40\n",
      "8083/8083 [==============================] - 3s 335us/step - loss: 1.4020 - acc: 0.6458 - val_loss: 1.6392 - val_acc: 0.6496\n",
      "Epoch 40/40\n",
      "8083/8083 [==============================] - 3s 337us/step - loss: 1.3932 - acc: 0.6493 - val_loss: 1.6750 - val_acc: 0.6652\n",
      "2246/2246 [==============================] - 0s 99us/step\n"
     ]
    }
   ],
   "source": [
    "print('\\nBuilding network 2...')\n",
    "model2 = create_network(num_classes=num_classes, **network2)\n",
    "\n",
    "history_model2 = model2.fit(x_train,\n",
    "                            y_train,\n",
    "                            batch_size=batch_size,\n",
    "                            epochs=epochs,\n",
    "                            verbose=1,\n",
    "                            validation_split=0.1)\n",
    "\n",
    "score_model2 = model2.evaluate(x_test,\n",
    "                               y_test,\n",
    "                               batch_size=batch_size,\n",
    "                               verbose=1)"
   ]
  },
  {
   "cell_type": "code",
   "execution_count": 22,
   "metadata": {
    "colab": {
     "base_uri": "https://localhost:8080/",
     "height": 197
    },
    "colab_type": "code",
    "id": "X53AE4pC0zbQ",
    "outputId": "0354227f-ce68-47bc-9535-f712ce167296"
   },
   "outputs": [
    {
     "name": "stdout",
     "output_type": "stream",
     "text": [
      "\n",
      "Network 1 results\n",
      "Hyperparameters: {'n_dense': 6, 'dense_units': 16, 'activation': 'relu', 'dropout': <class 'keras.layers.core.Dropout'>, 'dropout_rate': 0.5, 'kernel_initializer': 'glorot_uniform', 'optimizer': 'sgd'}\n",
      "Test score: 2.059647047190611\n",
      "Test accuracy: 0.5329474621814803\n",
      "Network 2 results\n",
      "Hyperparameters: {'n_dense': 6, 'dense_units': 16, 'activation': 'selu', 'dropout': <class 'keras.layers.noise.AlphaDropout'>, 'dropout_rate': 0.1, 'kernel_initializer': 'lecun_normal', 'optimizer': 'sgd'}\n",
      "Test score: 1.6467193957428155\n",
      "Test accuracy: 0.650044523650583\n"
     ]
    }
   ],
   "source": [
    "print('\\nNetwork 1 results')\n",
    "print('Hyperparameters:', network1)\n",
    "print('Test score:', score_model1[0])\n",
    "print('Test accuracy:', score_model1[1])\n",
    "print('Network 2 results')\n",
    "print('Hyperparameters:', network2)\n",
    "print('Test score:', score_model2[0])\n",
    "print('Test accuracy:', score_model2[1])\n"
   ]
  },
  {
   "cell_type": "code",
   "execution_count": 23,
   "metadata": {
    "colab": {
     "base_uri": "https://localhost:8080/",
     "height": 283
    },
    "colab_type": "code",
    "id": "md8FHCIH0_PI",
    "outputId": "d9369f64-28fd-41c5-f73e-99bd9d50a808"
   },
   "outputs": [
    {
     "data": {
      "image/png": "[encoded data removed]",
      "text/plain": [
       "<Figure size 432x288 with 1 Axes>"
      ]
     },
     "metadata": {
      "tags": []
     },
     "output_type": "display_data"
    }
   ],
   "source": [
    "plt.plot(range(epochs),\n",
    "         history_model1.history['val_loss'],\n",
    "         'g-',\n",
    "         label='Network 1 Val Loss')\n",
    "plt.plot(range(epochs),\n",
    "         history_model2.history['val_loss'],\n",
    "         'r-',\n",
    "         label='Network 2 Val Loss')\n",
    "plt.plot(range(epochs),\n",
    "         history_model1.history['loss'],\n",
    "         'g--',\n",
    "         label='Network 1 Loss')\n",
    "plt.plot(range(epochs),\n",
    "         history_model2.history['loss'],\n",
    "         'r--',\n",
    "         label='Network 2 Loss')\n",
    "plt.xlabel('Epochs')\n",
    "plt.ylabel('Loss')\n",
    "plt.legend()\n",
    "plt.show()"
   ]
  },
  {
   "cell_type": "markdown",
   "metadata": {},
   "source": [
    "Activation functions\n",
    "====\n",
    "\n",
    "### Reference : https://m.blog.naver.com/wideeyed/221017173808"
   ]
  },
  {
   "cell_type": "code",
   "execution_count": 4,
   "metadata": {},
   "outputs": [
    {
     "data": {
      "image/png": "[encoded data removed]",
      "text/plain": [
       "<Figure size 864x864 with 1 Axes>"
      ]
     },
     "metadata": {
      "needs_background": "light"
     },
     "output_type": "display_data"
    }
   ],
   "source": [
    "import numpy as np\n",
    "import matplotlib.pylab as plt\n",
    " \n",
    "x = np.arange(-6, 6, 0.01)\n",
    "\n",
    "plt.figure(figsize=(12,12))\n",
    " \n",
    " \n",
    "#######################################################\n",
    "# 선형함수들\n",
    "#######################################################\n",
    "def identity_func(x): # 항등함수\n",
    "    return x\n",
    "\n",
    "plt.plot(x, identity_func(x), linestyle='--', label=\"identity\")\n",
    " \n",
    " \n",
    "def linear_func(x): # 1차함수\n",
    "    return 1.5 * x + 1 # a기울기(1.5), Y절편b(1) 조정가능\n",
    "\n",
    "plt.plot(x, linear_func(x), linestyle='--', label=\"linear\")\n",
    " \n",
    " \n",
    "#######################################################\n",
    "# 계단함수들\n",
    "#######################################################\n",
    "def binarystep_func(x): # 계단함수\n",
    "    return (x>=0)*1\n",
    " \n",
    "plt.plot(x, binarystep_func(x), linestyle='--', label=\"binary step\")\n",
    " \n",
    " \n",
    "def sgn_func(x): # 부호함수(sign function)\n",
    "    return (x>=0)*1 + (x<=0)*-1\n",
    " \n",
    "plt.plot(x, sgn_func(x), linestyle='--', label=\"sign function\")\n",
    " \n",
    " \n",
    "#######################################################\n",
    "# Sigmoid계열\n",
    "#######################################################\n",
    " \n",
    "def softstep_func(x): # Soft step (= Logistic), 시그모이드(Sigmoid, S자모양) 대표적인 함수\n",
    "    return 1 / (1 + np.exp(-x))\n",
    " \n",
    "plt.plot(x, softstep_func(x), linestyle='--', label=\"Soft step (= Logistic)\")\n",
    " \n",
    "    \n",
    "def tanh_func(x): # TanH 함수\n",
    "    return np.tanh(x)\n",
    "    # return 2 / (1 + np.exp(-2*x)) - 1 # same\n",
    " \n",
    "plt.plot(x, tanh_func(x), linestyle='--', label=\"TanH\")\n",
    " \n",
    " \n",
    "def arctan_func(x): # ArcTan 함수\n",
    "    return np.arctan(x)\n",
    " \n",
    "plt.plot(x, arctan_func(x), linestyle='--', label=\"ArcTan\")\n",
    " \n",
    " \n",
    "def softsign_func(x): # Softsign 함수\n",
    "    return x / ( 1+ np.abs(x) )\n",
    " \n",
    "plt.plot(x, softsign_func(x), linestyle='--', label=\"Softsign\")\n",
    " \n",
    " \n",
    " \n",
    "#######################################################\n",
    "# ReLU계열\n",
    "#######################################################\n",
    " \n",
    "def relu_func(x): # ReLU(Rectified Linear Unit, 정류된 선형 유닛) 함수\n",
    "    return (x>0)*x\n",
    "    # return np.maximum(0,x) # same\n",
    " \n",
    "plt.plot(x, relu_func(x), linestyle='--', label=\"ReLU\")\n",
    " \n",
    " \n",
    "def leakyrelu_func(x): # Leaky ReLU(Rectified Linear Unit, 정류된 선형 유닛) 함수\n",
    "    return (x>=0)*x + (x<0)*0.01*x # 알파값(보통 0.01) 조정가능\n",
    "    # return np.maximum(0.01*x,x) # same\n",
    " \n",
    "plt.plot(x, leakyrelu_func(x), linestyle='--', label=\"Leaky ReLU\")\n",
    " \n",
    " \n",
    "def elu_func(x): # ELU(Exponential linear unit)\n",
    "    return (x>=0)*x + (x<0)*0.01*(np.exp(x)-1)\n",
    " \n",
    "plt.plot(x, elu_func(x), linestyle='--', label=\"ELU(Exponential linear unit)\")\n",
    " \n",
    " \n",
    "def trelu_func(x): # Thresholded ReLU\n",
    "    return (x>1)*x # 임계값(1) 조정 가능\n",
    " \n",
    "plt.plot(x, trelu_func(x), linestyle='--', label=\"Thresholded ReLU\")\n",
    " \n",
    " \n",
    " \n",
    "#######################################################\n",
    "# 기타계열\n",
    "#######################################################\n",
    " \n",
    "def softplus_func(x): # SoftPlus 함수\n",
    "    return np.log( 1 + np.exp(x) )\n",
    " \n",
    "plt.plot(x, softplus_func(x), linestyle='--', label=\"SoftPlus\")\n",
    " \n",
    " \n",
    "def bentidentity_func(x): # Bent identity\n",
    "    return (np.sqrt(x*x+1)-1)/2+x\n",
    " \n",
    "plt.plot(x, bentidentity_func(x), linestyle='--', label=\"Bent identity\")\n",
    " \n",
    " \n",
    "def gaussian_func(x): # Gaussian\n",
    "    return np.exp(-x*x)\n",
    " \n",
    "plt.plot(x, gaussian_func(x), linestyle='--', label=\"Gaussian\")\n",
    " \n",
    "#plt.plot(x, y_identity, 'r--', x, relu_func(x), 'b--', x, softstep_func(x), 'g--')\n",
    "plt.ylim(-5, 5)\n",
    "plt.legend()\n",
    "plt.show()"
   ]
  },
  {
   "cell_type": "markdown",
   "metadata": {
    "colab_type": "text",
    "id": "bJ-CIrgxbDLe"
   },
   "source": [
    "Batch Normalization\n",
    "=====\n",
    "\n",
    "##1. Internal Covariance Shift  \n",
    "각 layer마다 distribution이 달라져 학습하는 데 어려움이 발생.  \n",
    "layer를 거칠 때마다 분포가 같으면 weight값만 조정해주면 되는데....\n",
    "이를 위해 layer의 distribution을 맞춰출 필요가 있음. \n",
    "\n",
    "\n",
    "##2. 배치 정규화는 각 층의 출력값들을 정규화하는 방법\n",
    "\n",
    "##3. Algorithm\n",
    "1. $\\mu$ = $\\frac 1 m$ $\\sum x_i$   \n",
    "  \n",
    "  \n",
    "2. $\\sigma_B^2$ = $\\frac 1 m$ $\\sum(x_i - \\mu_B)^2$   \n",
    "  \n",
    "  \n",
    "3. $\\hat{x_i}$ = $\\frac {x_i - \\mu_B} {\\sqrt{\\sigma_B^2 + \\epsilon}}$\n",
    "  \n",
    "    \n",
    "4. $y_i$ = $\\gamma\\hat{x_i}$ + $\\beta$\n",
    "\n",
    "## 4. 특징\n",
    "- weight initialization이 weight에 대한 processing이라면 batch normalization은 data에 대한 processing이다.    \n",
    "\n",
    "\n",
    "- batch normalization이 학습할 parameter는 2개! $\\gamma, \\beta$ \n",
    " \n",
    "- batch normalization을 쓰면 bias를 포함할 필요가 없음!! 첫 layer부터 이미지를 알아서 평균이랑 분산을 구해서 정규화시켜 넘어감. 이후에는 layer마다 batch normalization 적용해줘야 함!  \n",
    "\n",
    "- 학습 시에는 배치마다 평균과 분산을 구해줘야 한다. \n",
    "하지만 inference 시에는 mini-batch의 값들을 이용하는 대신 지금까지 본 전체 데이터를 다 사용한다는 느낌으로, training 할 때 현재까지 본 input들의 이동평균\n",
    "(moving average) 및 unbiased variance estimate의 이동평균을\n",
    "계산하여 저장해놓은 뒤 이 값으로 normalize를 한다. 마지막에 gamma와 beta를 이용하여 scale/shift 해주는 것은 동일하다.\n",
    "- batch normalization을 쓰면 학습이 잘 되있어 learning rate를 더 크게 줄 수 있다는 장점이 있다.  \n",
    "- batch - convolution - activation 반복 후 fully-connected - activation - dropout 순서로 진행한다. \n",
    "\n",
    "## 5. 장점\n",
    "1. 기존 Deep Network에서는 learning rate를 너무 높게 잡을 경우\n",
    "gradient가 explode/vanish 하거나, 나쁜 local minima에 빠지는 문제가\n",
    "있었다.\n",
    "2. 이는 parameter들의 scale 때문인데, Batch Normalization을 사용할\n",
    "경우 propagation 할 때 parameter의 scale에 영향을 받지 않게 된다.\n",
    "3. 따라서, learning rate를 크게 잡을 수 있게 되고 이는 빠른 학습을\n",
    "가능케 한다."
   ]
  },
  {
   "cell_type": "code",
   "execution_count": 25,
   "metadata": {
    "colab": {
     "base_uri": "https://localhost:8080/",
     "height": 408
    },
    "colab_type": "code",
    "id": "hmP31GT-1G7Y",
    "outputId": "0ab846a4-e353-4ee1-871e-238302986fd8"
   },
   "outputs": [
    {
     "name": "stdout",
     "output_type": "stream",
     "text": [
      "Model: \"sequential_5\"\n",
      "_________________________________________________________________\n",
      "Layer (type)                 Output Shape              Param #   \n",
      "=================================================================\n",
      "flatten_1 (Flatten)          (None, 784)               0         \n",
      "_________________________________________________________________\n",
      "batch_normalization_1 (Batch (None, 784)               3136      \n",
      "_________________________________________________________________\n",
      "dense_29 (Dense)             (None, 300)               235500    \n",
      "_________________________________________________________________\n",
      "batch_normalization_2 (Batch (None, 300)               1200      \n",
      "_________________________________________________________________\n",
      "dense_30 (Dense)             (None, 100)               30100     \n",
      "_________________________________________________________________\n",
      "batch_normalization_3 (Batch (None, 100)               400       \n",
      "_________________________________________________________________\n",
      "dense_31 (Dense)             (None, 10)                1010      \n",
      "=================================================================\n",
      "Total params: 271,346\n",
      "Trainable params: 268,978\n",
      "Non-trainable params: 2,368\n",
      "_________________________________________________________________\n"
     ]
    }
   ],
   "source": [
    "model = keras.models.Sequential([\n",
    "    keras.layers.Flatten(input_shape=[28,28]),\n",
    "    keras.layers.BatchNormalization(),\n",
    "    keras.layers.Dense(300, activation='elu', kernel_initializer='he_normal'),\n",
    "    keras.layers.BatchNormalization(),\n",
    "    keras.layers.Dense(100, activation='elu', kernel_initializer='he_normal'),\n",
    "    keras.layers.BatchNormalization(),\n",
    "    keras.layers.Dense(10, activation='softmax')\n",
    "])\n",
    "\n",
    "model.summary()"
   ]
  },
  {
   "cell_type": "markdown",
   "metadata": {
    "colab_type": "text",
    "id": "31UVS9jrrh2Q"
   },
   "source": [
    "Dropout\n",
    "====\n",
    "- overfitting을 방지할 수 있는 방법  \n",
    "- 일반적으로 마지막 3개의 layer에만 dropout 적용하며 출력 layer에는 dropout 적용하지 않음\n",
    "\n",
    "### Mote Carlo Dropout\n",
    "반복 훈련 후 나오는 값의 평균을 예측값으로 선택하는 방식으로 test의 성능을 높힐 수 있음"
   ]
  },
  {
   "cell_type": "code",
   "execution_count": 29,
   "metadata": {
    "colab": {
     "base_uri": "https://localhost:8080/",
     "height": 408
    },
    "colab_type": "code",
    "id": "UQE4N9gBsKVF",
    "outputId": "4bfe06d3-2c7d-42e7-951c-1c6d284e50f2"
   },
   "outputs": [
    {
     "name": "stdout",
     "output_type": "stream",
     "text": [
      "Model: \"sequential_6\"\n",
      "_________________________________________________________________\n",
      "Layer (type)                 Output Shape              Param #   \n",
      "=================================================================\n",
      "flatten_2 (Flatten)          (None, 784)               0         \n",
      "_________________________________________________________________\n",
      "dropout_13 (Dropout)         (None, 784)               0         \n",
      "_________________________________________________________________\n",
      "dense_32 (Dense)             (None, 300)               235500    \n",
      "_________________________________________________________________\n",
      "dropout_14 (Dropout)         (None, 300)               0         \n",
      "_________________________________________________________________\n",
      "dense_33 (Dense)             (None, 100)               30100     \n",
      "_________________________________________________________________\n",
      "dropout_15 (Dropout)         (None, 100)               0         \n",
      "_________________________________________________________________\n",
      "dense_34 (Dense)             (None, 10)                1010      \n",
      "=================================================================\n",
      "Total params: 266,610\n",
      "Trainable params: 266,610\n",
      "Non-trainable params: 0\n",
      "_________________________________________________________________\n"
     ]
    }
   ],
   "source": [
    "model = keras.models.Sequential([\n",
    "    keras.layers.Flatten(input_shape=[28,28]),\n",
    "    keras.layers.Dropout(rate=0.2),\n",
    "    keras.layers.Dense(300, activation='elu', kernel_initializer='he_normal'),\n",
    "    keras.layers.Dropout(rate=0.2),\n",
    "    keras.layers.Dense(100, activation='elu', kernel_initializer='he_normal'),\n",
    "    keras.layers.Dropout(rate=0.2),\n",
    "    keras.layers.Dense(10, activation='softmax')\n",
    "])\n",
    "\n",
    "model.summary()"
   ]
  },
  {
   "cell_type": "code",
   "execution_count": null,
   "metadata": {
    "colab": {},
    "colab_type": "code",
    "id": "71eCyrCjuaAu"
   },
   "outputs": [],
   "source": []
  }
 ],
 "metadata": {
  "accelerator": "GPU",
  "colab": {
   "collapsed_sections": [],
   "name": "10.train_techniques.ipynb",
   "provenance": []
  },
  "kernelspec": {
   "display_name": "Python 3",
   "language": "python",
   "name": "python3"
  },
  "language_info": {
   "codemirror_mode": {
    "name": "ipython",
    "version": 3
   },
   "file_extension": ".py",
   "mimetype": "text/x-python",
   "name": "python",
   "nbconvert_exporter": "python",
   "pygments_lexer": "ipython3",
   "version": "3.6.8"
  }
 },
 "nbformat": 4,
 "nbformat_minor": 4
}
