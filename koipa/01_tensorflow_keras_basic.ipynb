{
  "nbformat": 4,
  "nbformat_minor": 0,
  "metadata": {
    "colab": {
      "name": "01.tensorflow_keras_basic.ipynb",
      "version": "0.3.2",
      "provenance": [],
      "collapsed_sections": []
    },
    "kernelspec": {
      "name": "python3",
      "display_name": "Python 3"
    },
    "accelerator": "GPU"
  },
  "cells": [
    {
      "cell_type": "markdown",
      "metadata": {
        "id": "nvnze-kmsxtZ",
        "colab_type": "text"
      },
      "source": [
        "Tensorflow and Keras Basics\n",
        "=========="
      ]
    },
    {
      "cell_type": "markdown",
      "metadata": {
        "id": "jWEhIfeds82M",
        "colab_type": "text"
      },
      "source": [
        "Tensorflow Basic 1\n",
        "-------"
      ]
    },
    {
      "cell_type": "code",
      "metadata": {
        "id": "NlC8rupiuDYG",
        "colab_type": "code",
        "colab": {}
      },
      "source": [
        "import tensorflow as tf"
      ],
      "execution_count": 0,
      "outputs": []
    },
    {
      "cell_type": "code",
      "metadata": {
        "id": "b8tc_Cc6ucY1",
        "colab_type": "code",
        "outputId": "adc207c6-b04d-4f20-e435-c9cae36591d6",
        "colab": {
          "base_uri": "https://localhost:8080/",
          "height": 35
        }
      },
      "source": [
        "# 그래프를 그려주기만 함\n",
        "# 그래프 d에 대한 결괏값만 나옴\n",
        "# 그래프를 다 그려놓고 실행한다는 단점이 있음\n",
        "a = tf.constant(3.0)\n",
        "b = tf.constant(4.0)\n",
        "c = tf.constant(5.0)\n",
        "d = a * b + c\n",
        "print(d)"
      ],
      "execution_count": 4,
      "outputs": [
        {
          "output_type": "stream",
          "text": [
            "Tensor(\"add:0\", shape=(), dtype=float32)\n"
          ],
          "name": "stdout"
        }
      ]
    },
    {
      "cell_type": "code",
      "metadata": {
        "id": "BbUuiVBzvD9Q",
        "colab_type": "code",
        "outputId": "c5ee8619-8ec4-4d8c-9402-3e15fcacb1bf",
        "colab": {
          "base_uri": "https://localhost:8080/",
          "height": 35
        }
      },
      "source": [
        "# 그래프 실행\n",
        "sess = tf.Session()\n",
        "result = sess.run(d)\n",
        "print(result)"
      ],
      "execution_count": 5,
      "outputs": [
        {
          "output_type": "stream",
          "text": [
            "17.0\n"
          ],
          "name": "stdout"
        }
      ]
    },
    {
      "cell_type": "markdown",
      "metadata": {
        "id": "qwZj-365toC7",
        "colab_type": "text"
      },
      "source": [
        "Tensorflow Basic 2 \n",
        "-----------\n",
        "\n",
        "1. 데이터 수집\n",
        "2. 모델 선택\n",
        "3. loss function 정하기\n",
        "4. optimizer 정하기\n",
        "5. train 시키기\n",
        "6. test 해보기"
      ]
    },
    {
      "cell_type": "code",
      "metadata": {
        "id": "YmV0MiSPvKZR",
        "colab_type": "code",
        "colab": {}
      },
      "source": [
        "W = tf.Variable(tf.random_normal(shape=[1], name = 'w'))\n",
        "b = tf.Variable(tf.random_normal(shape=[1], name = 'b'))\n",
        "x = tf.placeholder(tf.float32)\n",
        "\n",
        "pred = W * x + b"
      ],
      "execution_count": 0,
      "outputs": []
    },
    {
      "cell_type": "code",
      "metadata": {
        "id": "44tZGNyryUU4",
        "colab_type": "code",
        "colab": {}
      },
      "source": [
        "y = tf.placeholder(tf.float32)\n",
        "\n",
        "loss = tf.reduce_mean(tf.square(pred - y)) # reduce_mean : 차원을 1차원으로 줄여 scalar로 만듦"
      ],
      "execution_count": 0,
      "outputs": []
    },
    {
      "cell_type": "code",
      "metadata": {
        "id": "ngPkLGoIy2vF",
        "colab_type": "code",
        "colab": {}
      },
      "source": [
        "optimizer = tf.train.GradientDescentOptimizer(0.01)\n",
        "\n",
        "train_step = optimizer.minimize(loss)"
      ],
      "execution_count": 0,
      "outputs": []
    },
    {
      "cell_type": "code",
      "metadata": {
        "id": "wIg9sfG51Bya",
        "colab_type": "code",
        "colab": {}
      },
      "source": [
        "x_train = [1,2,3,4]\n",
        "y_train = [3,5,7,9]"
      ],
      "execution_count": 0,
      "outputs": []
    },
    {
      "cell_type": "code",
      "metadata": {
        "id": "BS8satjS1ZFz",
        "colab_type": "code",
        "colab": {}
      },
      "source": [
        "sess = tf.Session()\n",
        "result = sess.run(tf.global_variables_initializer()) # W,b에 대해서 초기화, Variable만 초기화"
      ],
      "execution_count": 0,
      "outputs": []
    },
    {
      "cell_type": "code",
      "metadata": {
        "id": "sQW6QwfM1me_",
        "colab_type": "code",
        "colab": {}
      },
      "source": [
        "for i in range(1000):\n",
        "  sess.run(train_step, feed_dict={x:x_train, y:y_train}) # placeholder x에 x_train을 넣어주겠다"
      ],
      "execution_count": 0,
      "outputs": []
    },
    {
      "cell_type": "code",
      "metadata": {
        "id": "_qJDvZB616RP",
        "colab_type": "code",
        "outputId": "f575686d-cc4f-4dd4-85f6-9334e7002efa",
        "colab": {
          "base_uri": "https://localhost:8080/",
          "height": 35
        }
      },
      "source": [
        "x_test = [3,5,5,6]\n",
        "\n",
        "print(sess.run(pred, feed_dict={x:x_test}))"
      ],
      "execution_count": 12,
      "outputs": [
        {
          "output_type": "stream",
          "text": [
            "[ 7.000787 11.027032 11.027032 13.040155]\n"
          ],
          "name": "stdout"
        }
      ]
    },
    {
      "cell_type": "markdown",
      "metadata": {
        "id": "Kv62nl_XtMbw",
        "colab_type": "text"
      },
      "source": [
        "Keras Basic\n",
        "----"
      ]
    },
    {
      "cell_type": "markdown",
      "metadata": {
        "id": "Keum8GA0t6HS",
        "colab_type": "text"
      },
      "source": [
        "1. 데이터 수집 및 확인\n",
        "2. 모델 선택\n",
        "3. loss function, metrics, optimizer 정하기\n",
        "4. data preprocessing(normalization, category to vector)\n",
        "5. train 시키기\n",
        "6. test 해보기"
      ]
    },
    {
      "cell_type": "code",
      "metadata": {
        "id": "qvdZz2jr2Q5T",
        "colab_type": "code",
        "colab": {
          "base_uri": "https://localhost:8080/",
          "height": 35
        },
        "outputId": "c9b2169b-02d8-47e5-f247-b004c4a100bf"
      },
      "source": [
        "import keras"
      ],
      "execution_count": 13,
      "outputs": [
        {
          "output_type": "stream",
          "text": [
            "Using TensorFlow backend.\n"
          ],
          "name": "stderr"
        }
      ]
    },
    {
      "cell_type": "code",
      "metadata": {
        "id": "x31uvj_QtVd_",
        "colab_type": "code",
        "colab": {
          "base_uri": "https://localhost:8080/",
          "height": 70
        },
        "outputId": "022993b4-89a3-46a1-ceb4-6a48ce33d09f"
      },
      "source": [
        "from keras.datasets import mnist\n",
        "\n",
        "(train_images, train_labels), (test_images, test_labels) = mnist.load_data()\n",
        "print(train_images.shape, train_labels)"
      ],
      "execution_count": 14,
      "outputs": [
        {
          "output_type": "stream",
          "text": [
            "Downloading data from https://s3.amazonaws.com/img-datasets/mnist.npz\n",
            "11493376/11490434 [==============================] - 1s 0us/step\n",
            "(60000, 28, 28) [5 0 4 ... 5 6 8]\n"
          ],
          "name": "stdout"
        }
      ]
    },
    {
      "cell_type": "code",
      "metadata": {
        "id": "56XNCFMVtWfH",
        "colab_type": "code",
        "colab": {
          "base_uri": "https://localhost:8080/",
          "height": 287
        },
        "outputId": "e7c07a34-9c9d-4cdf-dac8-dbf34d656418"
      },
      "source": [
        "import matplotlib.pyplot as plt\n",
        "digit = train_images[100]\n",
        "print(train_labels[100])\n",
        "plt.imshow(digit, cmap = plt.cm.binary)\n",
        "plt.show()"
      ],
      "execution_count": 15,
      "outputs": [
        {
          "output_type": "stream",
          "text": [
            "5\n"
          ],
          "name": "stdout"
        },
        {
          "output_type": "display_data",
          "data": {
            "image/png": "[encoded data removed]",
            "text/plain": [
              "<Figure size 432x288 with 1 Axes>"
            ]
          },
          "metadata": {
            "tags": []
          }
        }
      ]
    },
    {
      "cell_type": "code",
      "metadata": {
        "id": "oQVa6HMvtXl7",
        "colab_type": "code",
        "colab": {
          "base_uri": "https://localhost:8080/",
          "height": 375
        },
        "outputId": "f2db3b20-d77e-412c-c224-52fcb9f2ec75"
      },
      "source": [
        "from keras import models\n",
        "from keras import layers\n",
        "\n",
        "network = models.Sequential()\n",
        "network.add(layers.Dense(128, activation = 'relu', input_shape = (28 * 28,)))\n",
        "network.add(layers.Dense(10, activation = 'softmax'))\n",
        "\n",
        "network.summary()"
      ],
      "execution_count": 16,
      "outputs": [
        {
          "output_type": "stream",
          "text": [
            "WARNING: Logging before flag parsing goes to stderr.\n",
            "W0904 05:18:21.446201 140271916771200 deprecation_wrapper.py:119] From /usr/local/lib/python3.6/dist-packages/keras/backend/tensorflow_backend.py:66: The name tf.get_default_graph is deprecated. Please use tf.compat.v1.get_default_graph instead.\n",
            "\n",
            "W0904 05:18:21.457021 140271916771200 deprecation_wrapper.py:119] From /usr/local/lib/python3.6/dist-packages/keras/backend/tensorflow_backend.py:541: The name tf.placeholder is deprecated. Please use tf.compat.v1.placeholder instead.\n",
            "\n",
            "W0904 05:18:21.464026 140271916771200 deprecation_wrapper.py:119] From /usr/local/lib/python3.6/dist-packages/keras/backend/tensorflow_backend.py:4432: The name tf.random_uniform is deprecated. Please use tf.random.uniform instead.\n",
            "\n"
          ],
          "name": "stderr"
        },
        {
          "output_type": "stream",
          "text": [
            "Model: \"sequential_1\"\n",
            "_________________________________________________________________\n",
            "Layer (type)                 Output Shape              Param #   \n",
            "=================================================================\n",
            "dense_1 (Dense)              (None, 128)               100480    \n",
            "_________________________________________________________________\n",
            "dense_2 (Dense)              (None, 10)                1290      \n",
            "=================================================================\n",
            "Total params: 101,770\n",
            "Trainable params: 101,770\n",
            "Non-trainable params: 0\n",
            "_________________________________________________________________\n"
          ],
          "name": "stdout"
        }
      ]
    },
    {
      "cell_type": "code",
      "metadata": {
        "id": "0cIb0o04taEd",
        "colab_type": "code",
        "colab": {
          "base_uri": "https://localhost:8080/",
          "height": 108
        },
        "outputId": "4a83ef55-da2c-4d24-863e-7a1e705fbeaf"
      },
      "source": [
        "# 어떻게 훈련할지 정해주기\n",
        "network.compile(optimizer = 'rmsprop', # weight를 어떤 식으로 update를 할 지 정해주기\n",
        "               loss = 'categorical_crossentropy', # 정답 label만 1 배정 ==> 정답의 확률을 높히고 오답의 확률을 떨어뜨리기 위해...\n",
        "                # 문제에 맞는 activation function과 loss function을 세울 줄 알아야한다.\n",
        "                # activation으로 softmax를 했는데 loss로 mean squared error를 하면 안 된다!!!!!\n",
        "               metrics = ['accuracy'])"
      ],
      "execution_count": 17,
      "outputs": [
        {
          "output_type": "stream",
          "text": [
            "W0904 05:18:28.232683 140271916771200 deprecation_wrapper.py:119] From /usr/local/lib/python3.6/dist-packages/keras/optimizers.py:793: The name tf.train.Optimizer is deprecated. Please use tf.compat.v1.train.Optimizer instead.\n",
            "\n",
            "W0904 05:18:28.265941 140271916771200 deprecation_wrapper.py:119] From /usr/local/lib/python3.6/dist-packages/keras/backend/tensorflow_backend.py:3576: The name tf.log is deprecated. Please use tf.math.log instead.\n",
            "\n"
          ],
          "name": "stderr"
        }
      ]
    },
    {
      "cell_type": "code",
      "metadata": {
        "id": "eJNJqSPstbux",
        "colab_type": "code",
        "colab": {}
      },
      "source": [
        "train_images = train_images.reshape((60000, 28 * 28))\n",
        "train_images = train_images.astype('float32') / 255 # 정규화 --> 값이 너무 커진다... 최댓값으로 나눠서 훈련하기 쉽게 만들어 줌(색상값)\n",
        "\n",
        "test_images = test_images.reshape((10000, 28 * 28))\n",
        "test_images = test_images.astype('float32') / 255"
      ],
      "execution_count": 0,
      "outputs": []
    },
    {
      "cell_type": "code",
      "metadata": {
        "id": "T3-YcWEUtc8f",
        "colab_type": "code",
        "colab": {}
      },
      "source": [
        "from keras.utils import to_categorical # 레이블을 벡터로 바꿔주는 방법\n",
        "\n",
        "train_labels = to_categorical(train_labels)\n",
        "test_labels = to_categorical(test_labels)"
      ],
      "execution_count": 0,
      "outputs": []
    },
    {
      "cell_type": "code",
      "metadata": {
        "id": "6QxbX8VVteAG",
        "colab_type": "code",
        "colab": {
          "base_uri": "https://localhost:8080/",
          "height": 321
        },
        "outputId": "f3f59b6f-e265-4681-a3b1-7189081d8da7"
      },
      "source": [
        "network.fit(train_images, train_labels, epochs = 5, batch_size = 128) # epoch : 60000만 장을 학습시키는 것이 한 번의 epoch\n",
        "                                                                      # batch_size : 한번에 128장을 학습시키겠다. --> 메모리의 한계 때문에...\n",
        "                                                                      # batch_size가 너무 크면 중간으로 수렴하게 됨 -> batch size도 잘 조정해줘야 함"
      ],
      "execution_count": 20,
      "outputs": [
        {
          "output_type": "stream",
          "text": [
            "W0904 05:18:41.940591 140271916771200 deprecation.py:323] From /usr/local/lib/python3.6/dist-packages/tensorflow/python/ops/math_grad.py:1250: add_dispatch_support.<locals>.wrapper (from tensorflow.python.ops.array_ops) is deprecated and will be removed in a future version.\n",
            "Instructions for updating:\n",
            "Use tf.where in 2.0, which has the same broadcast rule as np.where\n",
            "W0904 05:18:42.012301 140271916771200 deprecation_wrapper.py:119] From /usr/local/lib/python3.6/dist-packages/keras/backend/tensorflow_backend.py:1033: The name tf.assign_add is deprecated. Please use tf.compat.v1.assign_add instead.\n",
            "\n"
          ],
          "name": "stderr"
        },
        {
          "output_type": "stream",
          "text": [
            "Epoch 1/5\n",
            "60000/60000 [==============================] - 3s 49us/step - loss: 0.3352 - acc: 0.9081\n",
            "Epoch 2/5\n",
            "60000/60000 [==============================] - 2s 33us/step - loss: 0.1619 - acc: 0.9537\n",
            "Epoch 3/5\n",
            "60000/60000 [==============================] - 2s 34us/step - loss: 0.1156 - acc: 0.9662\n",
            "Epoch 4/5\n",
            "60000/60000 [==============================] - 2s 34us/step - loss: 0.0904 - acc: 0.9738\n",
            "Epoch 5/5\n",
            "60000/60000 [==============================] - 2s 34us/step - loss: 0.0737 - acc: 0.9786\n"
          ],
          "name": "stdout"
        },
        {
          "output_type": "execute_result",
          "data": {
            "text/plain": [
              "<keras.callbacks.History at 0x7f933012b7f0>"
            ]
          },
          "metadata": {
            "tags": []
          },
          "execution_count": 20
        }
      ]
    },
    {
      "cell_type": "code",
      "metadata": {
        "id": "wVZmh39utfDf",
        "colab_type": "code",
        "colab": {
          "base_uri": "https://localhost:8080/",
          "height": 35
        },
        "outputId": "1674a400-fe83-4fa4-cbf8-c68e83ddfa18"
      },
      "source": [
        "test_loss, test_acc = network.evaluate(test_images, test_labels)"
      ],
      "execution_count": 21,
      "outputs": [
        {
          "output_type": "stream",
          "text": [
            "10000/10000 [==============================] - 1s 52us/step\n"
          ],
          "name": "stdout"
        }
      ]
    },
    {
      "cell_type": "code",
      "metadata": {
        "id": "0EeIPr2PtgF0",
        "colab_type": "code",
        "colab": {
          "base_uri": "https://localhost:8080/",
          "height": 35
        },
        "outputId": "65e599a2-a1bb-49ee-c103-d3145c56a04d"
      },
      "source": [
        "print('test_acc :', test_acc)"
      ],
      "execution_count": 22,
      "outputs": [
        {
          "output_type": "stream",
          "text": [
            "test_acc : 0.9738\n"
          ],
          "name": "stdout"
        }
      ]
    },
    {
      "cell_type": "code",
      "metadata": {
        "id": "Wn1iOXcothGz",
        "colab_type": "code",
        "colab": {}
      },
      "source": [
        ""
      ],
      "execution_count": 0,
      "outputs": []
    }
  ]
}