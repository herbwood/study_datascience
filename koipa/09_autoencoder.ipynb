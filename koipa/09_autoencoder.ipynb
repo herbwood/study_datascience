{
  "nbformat": 4,
  "nbformat_minor": 0,
  "metadata": {
    "colab": {
      "name": "09.autoencoder.ipynb",
      "provenance": [],
      "collapsed_sections": []
    },
    "kernelspec": {
      "name": "python3",
      "display_name": "Python 3"
    },
    "accelerator": "GPU"
  },
  "cells": [
    {
      "cell_type": "markdown",
      "metadata": {
        "id": "XD2mT-An_v_A",
        "colab_type": "text"
      },
      "source": [
        "AutoEncoder\n",
        "=====\n",
        "\n",
        "### Autoencoing은 데이터 압축 알고리즘으로 압축 함수와 압축해제 함수가 있다.\n",
        "\n",
        "1) ***data-specific하다.***   \n",
        "같은 범주에 해당하는 데이터만을 학습시켜줘야 한다. 고양이 이미지를 복원하고 싶으면 고양이 사진만 학습시켜야 한다. 강아지 사진 추가X. 범주마다 고유의 특징을 추출해내기 때문이다.   \n",
        "\n",
        "2) ***손실이 있다.***  \n",
        "즉 압축 해제된 결과물은 원본 보다 좋지 않다.   \n",
        "\n",
        "3) ***예제 데이터로부터 자동적으로 학습한다.***   \n",
        "예를 들어 고양이 사진에서 귀, 눈, 입 등 각각의 부위에 대한 학습을 필요로 하지 않는다. \n"
      ]
    },
    {
      "cell_type": "markdown",
      "metadata": {
        "id": "-ZVjDSE8P1jR",
        "colab_type": "text"
      },
      "source": [
        "Autoencoder : single hidden layer\n",
        "-----"
      ]
    },
    {
      "cell_type": "code",
      "metadata": {
        "id": "X3shOv1g_FB7",
        "colab_type": "code",
        "colab": {
          "base_uri": "https://localhost:8080/",
          "height": 35
        },
        "outputId": "b1241d57-2fe9-4e8e-9599-c8e8fb30ecd3"
      },
      "source": [
        "from keras.layers import Input, Dense\n",
        "from keras.models import Model"
      ],
      "execution_count": 1,
      "outputs": [
        {
          "output_type": "stream",
          "text": [
            "Using TensorFlow backend.\n"
          ],
          "name": "stderr"
        }
      ]
    },
    {
      "cell_type": "code",
      "metadata": {
        "id": "B1aXqRUaCv6o",
        "colab_type": "code",
        "colab": {
          "base_uri": "https://localhost:8080/",
          "height": 144
        },
        "outputId": "54ef5439-6180-44c2-b7a4-a93aafd7bb13"
      },
      "source": [
        "# encoding dim은 축소된 represnetation vector의 크기임\n",
        "# sigmoid를 사용하는 이유 : scale 된 값이 필요하기 때문에.\n",
        "encoding_dim = 32\n",
        "\n",
        "input_img = Input(shape=(784,))\n",
        "encoded = Dense(encoding_dim, activation='relu')(input_img)\n",
        "decoded = Dense(784, activation='sigmoid')(encoded)\n",
        "\n",
        "autoencoder = Model(input_img, decoded)"
      ],
      "execution_count": 2,
      "outputs": [
        {
          "output_type": "stream",
          "text": [
            "WARNING:tensorflow:From /usr/local/lib/python3.6/dist-packages/keras/backend/tensorflow_backend.py:66: The name tf.get_default_graph is deprecated. Please use tf.compat.v1.get_default_graph instead.\n",
            "\n",
            "WARNING:tensorflow:From /usr/local/lib/python3.6/dist-packages/keras/backend/tensorflow_backend.py:541: The name tf.placeholder is deprecated. Please use tf.compat.v1.placeholder instead.\n",
            "\n",
            "WARNING:tensorflow:From /usr/local/lib/python3.6/dist-packages/keras/backend/tensorflow_backend.py:4432: The name tf.random_uniform is deprecated. Please use tf.random.uniform instead.\n",
            "\n"
          ],
          "name": "stdout"
        }
      ]
    },
    {
      "cell_type": "code",
      "metadata": {
        "id": "R4C2cXFqFpEt",
        "colab_type": "code",
        "colab": {
          "base_uri": "https://localhost:8080/",
          "height": 230
        },
        "outputId": "ca865874-bb3f-463a-ac79-07c5798ca5d4"
      },
      "source": [
        "# Encoder의 구조\n",
        "encoder = Model(input_img, encoded)\n",
        "encoder.summary()"
      ],
      "execution_count": 3,
      "outputs": [
        {
          "output_type": "stream",
          "text": [
            "Model: \"model_2\"\n",
            "_________________________________________________________________\n",
            "Layer (type)                 Output Shape              Param #   \n",
            "=================================================================\n",
            "input_1 (InputLayer)         (None, 784)               0         \n",
            "_________________________________________________________________\n",
            "dense_1 (Dense)              (None, 32)                25120     \n",
            "=================================================================\n",
            "Total params: 25,120\n",
            "Trainable params: 25,120\n",
            "Non-trainable params: 0\n",
            "_________________________________________________________________\n"
          ],
          "name": "stdout"
        }
      ]
    },
    {
      "cell_type": "code",
      "metadata": {
        "id": "uiGLsP6AFveX",
        "colab_type": "code",
        "colab": {
          "base_uri": "https://localhost:8080/",
          "height": 230
        },
        "outputId": "7183a4f7-c622-4c27-db96-82bb58acf3ba"
      },
      "source": [
        "# Decoder의 구조\n",
        "encoded_input = Input(shape=(encoding_dim,))\n",
        "decoder_layer = autoencoder.layers[-1]\n",
        "decoder = Model(encoded_input, decoder_layer(encoded_input))\n",
        "\n",
        "decoder.summary()"
      ],
      "execution_count": 4,
      "outputs": [
        {
          "output_type": "stream",
          "text": [
            "Model: \"model_3\"\n",
            "_________________________________________________________________\n",
            "Layer (type)                 Output Shape              Param #   \n",
            "=================================================================\n",
            "input_2 (InputLayer)         (None, 32)                0         \n",
            "_________________________________________________________________\n",
            "dense_2 (Dense)              (None, 784)               25872     \n",
            "=================================================================\n",
            "Total params: 25,872\n",
            "Trainable params: 25,872\n",
            "Non-trainable params: 0\n",
            "_________________________________________________________________\n"
          ],
          "name": "stdout"
        }
      ]
    },
    {
      "cell_type": "code",
      "metadata": {
        "id": "LDT1oUJtHD97",
        "colab_type": "code",
        "colab": {
          "base_uri": "https://localhost:8080/",
          "height": 197
        },
        "outputId": "2326dbb3-7355-4912-a565-5dc94b1cb3fb"
      },
      "source": [
        "autoencoder.compile(optimizer='adadelta', loss = 'binary_crossentropy')\n",
        "\n",
        "# Load Data\n",
        "from keras.datasets import mnist\n",
        "import numpy as np\n",
        "(x_train, _), (x_test, _) = mnist.load_data() # target 값을 받아오지 않음"
      ],
      "execution_count": 5,
      "outputs": [
        {
          "output_type": "stream",
          "text": [
            "WARNING:tensorflow:From /usr/local/lib/python3.6/dist-packages/keras/optimizers.py:793: The name tf.train.Optimizer is deprecated. Please use tf.compat.v1.train.Optimizer instead.\n",
            "\n",
            "WARNING:tensorflow:From /usr/local/lib/python3.6/dist-packages/keras/backend/tensorflow_backend.py:3657: The name tf.log is deprecated. Please use tf.math.log instead.\n",
            "\n",
            "WARNING:tensorflow:From /usr/local/lib/python3.6/dist-packages/tensorflow/python/ops/nn_impl.py:180: add_dispatch_support.<locals>.wrapper (from tensorflow.python.ops.array_ops) is deprecated and will be removed in a future version.\n",
            "Instructions for updating:\n",
            "Use tf.where in 2.0, which has the same broadcast rule as np.where\n",
            "Downloading data from https://s3.amazonaws.com/img-datasets/mnist.npz\n",
            "11493376/11490434 [==============================] - 1s 0us/step\n"
          ],
          "name": "stdout"
        }
      ]
    },
    {
      "cell_type": "code",
      "metadata": {
        "id": "_zbvn-quHV8x",
        "colab_type": "code",
        "colab": {
          "base_uri": "https://localhost:8080/",
          "height": 52
        },
        "outputId": "19705361-42c5-42b3-d90f-54e7f2a5a51d"
      },
      "source": [
        "x_train = x_train.astype('float32') / 255.\n",
        "x_test = x_test.astype('float32') / 255.\n",
        "\n",
        "# (60000, 28, 28) -> (60000, 784)로 바꿔줌\n",
        "x_train = x_train.reshape((len(x_train), np.prod(x_train.shape[1:])))\n",
        "x_test = x_test.reshape((len(x_test), np.prod(x_test.shape[1:])))\n",
        "print(x_train.shape)\n",
        "print(x_test.shape)"
      ],
      "execution_count": 6,
      "outputs": [
        {
          "output_type": "stream",
          "text": [
            "(60000, 784)\n",
            "(10000, 784)\n"
          ],
          "name": "stdout"
        }
      ]
    },
    {
      "cell_type": "code",
      "metadata": {
        "id": "TNXnj6oGH0bQ",
        "colab_type": "code",
        "colab": {
          "base_uri": "https://localhost:8080/",
          "height": 1000
        },
        "outputId": "0633cf2b-0a40-416e-af05-22f9c8b0d627"
      },
      "source": [
        "autoencoder.fit(x_train, x_train, # train, test 파트 모두 x_train이 들어감\n",
        "               epochs = 50,\n",
        "               batch_size = 256,\n",
        "               shuffle = True,\n",
        "               validation_data = (x_test, x_test))"
      ],
      "execution_count": 7,
      "outputs": [
        {
          "output_type": "stream",
          "text": [
            "WARNING:tensorflow:From /usr/local/lib/python3.6/dist-packages/keras/backend/tensorflow_backend.py:1033: The name tf.assign_add is deprecated. Please use tf.compat.v1.assign_add instead.\n",
            "\n",
            "Train on 60000 samples, validate on 10000 samples\n",
            "Epoch 1/50\n",
            "60000/60000 [==============================] - 6s 95us/step - loss: 0.3635 - val_loss: 0.2716\n",
            "Epoch 2/50\n",
            "60000/60000 [==============================] - 1s 23us/step - loss: 0.2648 - val_loss: 0.2544\n",
            "Epoch 3/50\n",
            "60000/60000 [==============================] - 1s 24us/step - loss: 0.2429 - val_loss: 0.2295\n",
            "Epoch 4/50\n",
            "60000/60000 [==============================] - 1s 23us/step - loss: 0.2212 - val_loss: 0.2113\n",
            "Epoch 5/50\n",
            "60000/60000 [==============================] - 1s 23us/step - loss: 0.2062 - val_loss: 0.1988\n",
            "Epoch 6/50\n",
            "60000/60000 [==============================] - 1s 23us/step - loss: 0.1954 - val_loss: 0.1893\n",
            "Epoch 7/50\n",
            "60000/60000 [==============================] - 1s 23us/step - loss: 0.1867 - val_loss: 0.1813\n",
            "Epoch 8/50\n",
            "60000/60000 [==============================] - 1s 23us/step - loss: 0.1794 - val_loss: 0.1747\n",
            "Epoch 9/50\n",
            "60000/60000 [==============================] - 1s 24us/step - loss: 0.1733 - val_loss: 0.1692\n",
            "Epoch 10/50\n",
            "60000/60000 [==============================] - 1s 23us/step - loss: 0.1680 - val_loss: 0.1642\n",
            "Epoch 11/50\n",
            "60000/60000 [==============================] - 1s 23us/step - loss: 0.1633 - val_loss: 0.1596\n",
            "Epoch 12/50\n",
            "60000/60000 [==============================] - 1s 23us/step - loss: 0.1592 - val_loss: 0.1557\n",
            "Epoch 13/50\n",
            "60000/60000 [==============================] - 1s 23us/step - loss: 0.1554 - val_loss: 0.1521\n",
            "Epoch 14/50\n",
            "60000/60000 [==============================] - 1s 23us/step - loss: 0.1519 - val_loss: 0.1488\n",
            "Epoch 15/50\n",
            "60000/60000 [==============================] - 1s 23us/step - loss: 0.1487 - val_loss: 0.1458\n",
            "Epoch 16/50\n",
            "60000/60000 [==============================] - 1s 23us/step - loss: 0.1458 - val_loss: 0.1428\n",
            "Epoch 17/50\n",
            "60000/60000 [==============================] - 1s 23us/step - loss: 0.1430 - val_loss: 0.1402\n",
            "Epoch 18/50\n",
            "60000/60000 [==============================] - 1s 23us/step - loss: 0.1404 - val_loss: 0.1376\n",
            "Epoch 19/50\n",
            "60000/60000 [==============================] - 1s 23us/step - loss: 0.1380 - val_loss: 0.1352\n",
            "Epoch 20/50\n",
            "60000/60000 [==============================] - 1s 23us/step - loss: 0.1357 - val_loss: 0.1330\n",
            "Epoch 21/50\n",
            "60000/60000 [==============================] - 1s 24us/step - loss: 0.1336 - val_loss: 0.1309\n",
            "Epoch 22/50\n",
            "60000/60000 [==============================] - 1s 23us/step - loss: 0.1315 - val_loss: 0.1289\n",
            "Epoch 23/50\n",
            "60000/60000 [==============================] - 1s 23us/step - loss: 0.1295 - val_loss: 0.1270\n",
            "Epoch 24/50\n",
            "60000/60000 [==============================] - 1s 23us/step - loss: 0.1276 - val_loss: 0.1251\n",
            "Epoch 25/50\n",
            "60000/60000 [==============================] - 1s 23us/step - loss: 0.1258 - val_loss: 0.1234\n",
            "Epoch 26/50\n",
            "60000/60000 [==============================] - 1s 24us/step - loss: 0.1241 - val_loss: 0.1217\n",
            "Epoch 27/50\n",
            "60000/60000 [==============================] - 1s 23us/step - loss: 0.1224 - val_loss: 0.1201\n",
            "Epoch 28/50\n",
            "60000/60000 [==============================] - 1s 23us/step - loss: 0.1209 - val_loss: 0.1186\n",
            "Epoch 29/50\n",
            "60000/60000 [==============================] - 1s 23us/step - loss: 0.1194 - val_loss: 0.1171\n",
            "Epoch 30/50\n",
            "60000/60000 [==============================] - 1s 23us/step - loss: 0.1180 - val_loss: 0.1158\n",
            "Epoch 31/50\n",
            "60000/60000 [==============================] - 1s 23us/step - loss: 0.1167 - val_loss: 0.1145\n",
            "Epoch 32/50\n",
            "60000/60000 [==============================] - 1s 23us/step - loss: 0.1155 - val_loss: 0.1134\n",
            "Epoch 33/50\n",
            "60000/60000 [==============================] - 1s 23us/step - loss: 0.1144 - val_loss: 0.1123\n",
            "Epoch 34/50\n",
            "60000/60000 [==============================] - 1s 24us/step - loss: 0.1133 - val_loss: 0.1112\n",
            "Epoch 35/50\n",
            "60000/60000 [==============================] - 1s 23us/step - loss: 0.1124 - val_loss: 0.1104\n",
            "Epoch 36/50\n",
            "60000/60000 [==============================] - 1s 23us/step - loss: 0.1115 - val_loss: 0.1094\n",
            "Epoch 37/50\n",
            "60000/60000 [==============================] - 1s 24us/step - loss: 0.1106 - val_loss: 0.1086\n",
            "Epoch 38/50\n",
            "60000/60000 [==============================] - 2s 27us/step - loss: 0.1098 - val_loss: 0.1079\n",
            "Epoch 39/50\n",
            "60000/60000 [==============================] - 1s 24us/step - loss: 0.1091 - val_loss: 0.1072\n",
            "Epoch 40/50\n",
            "60000/60000 [==============================] - 1s 24us/step - loss: 0.1085 - val_loss: 0.1065\n",
            "Epoch 41/50\n",
            "60000/60000 [==============================] - 1s 25us/step - loss: 0.1078 - val_loss: 0.1060\n",
            "Epoch 42/50\n",
            "60000/60000 [==============================] - 1s 24us/step - loss: 0.1073 - val_loss: 0.1054\n",
            "Epoch 43/50\n",
            "60000/60000 [==============================] - 1s 24us/step - loss: 0.1067 - val_loss: 0.1049\n",
            "Epoch 44/50\n",
            "60000/60000 [==============================] - 1s 24us/step - loss: 0.1062 - val_loss: 0.1044\n",
            "Epoch 45/50\n",
            "60000/60000 [==============================] - 1s 23us/step - loss: 0.1057 - val_loss: 0.1039\n",
            "Epoch 46/50\n",
            "60000/60000 [==============================] - 1s 22us/step - loss: 0.1053 - val_loss: 0.1035\n",
            "Epoch 47/50\n",
            "60000/60000 [==============================] - 1s 23us/step - loss: 0.1049 - val_loss: 0.1031\n",
            "Epoch 48/50\n",
            "60000/60000 [==============================] - 1s 23us/step - loss: 0.1045 - val_loss: 0.1027\n",
            "Epoch 49/50\n",
            "60000/60000 [==============================] - 1s 23us/step - loss: 0.1041 - val_loss: 0.1024\n",
            "Epoch 50/50\n",
            "60000/60000 [==============================] - 1s 23us/step - loss: 0.1038 - val_loss: 0.1020\n"
          ],
          "name": "stdout"
        },
        {
          "output_type": "execute_result",
          "data": {
            "text/plain": [
              "<keras.callbacks.History at 0x7fad5dc1eac8>"
            ]
          },
          "metadata": {
            "tags": []
          },
          "execution_count": 7
        }
      ]
    },
    {
      "cell_type": "code",
      "metadata": {
        "id": "qMxEywDHH-jA",
        "colab_type": "code",
        "colab": {}
      },
      "source": [
        "decoded_imgs = autoencoder.predict(x_test)"
      ],
      "execution_count": 0,
      "outputs": []
    },
    {
      "cell_type": "code",
      "metadata": {
        "id": "aZmiIl6dO7MH",
        "colab_type": "code",
        "colab": {
          "base_uri": "https://localhost:8080/",
          "height": 244
        },
        "outputId": "c0cc1afb-c685-4f0e-9eef-334a2ef9add5"
      },
      "source": [
        "# use Matplotlib (don't ask)\n",
        "import matplotlib.pyplot as plt\n",
        "\n",
        "n = 10  # how many digits we will display\n",
        "plt.figure(figsize=(20, 4))\n",
        "for i in range(n):\n",
        "    # display original\n",
        "    ax = plt.subplot(2, n, i + 1)\n",
        "    plt.imshow(x_test[i].reshape(28, 28))\n",
        "    plt.gray()\n",
        "    ax.get_xaxis().set_visible(False)\n",
        "    ax.get_yaxis().set_visible(False)\n",
        "\n",
        "    # display reconstruction\n",
        "    ax = plt.subplot(2, n, i + 1 + n)\n",
        "    plt.imshow(decoded_imgs[i].reshape(28, 28))\n",
        "    plt.gray()\n",
        "    ax.get_xaxis().set_visible(False)\n",
        "    ax.get_yaxis().set_visible(False)\n",
        "plt.show()"
      ],
      "execution_count": 11,
      "outputs": [
        {
          "output_type": "display_data",
          "data": {
            "image/png": "[encoded data removed]",
            "text/plain": [
              "<Figure size 1440x288 with 20 Axes>"
            ]
          },
          "metadata": {
            "tags": []
          }
        }
      ]
    },
    {
      "cell_type": "markdown",
      "metadata": {
        "id": "ERRYEQs9P6QQ",
        "colab_type": "text"
      },
      "source": [
        "Autoencoder : Deep Autoencoder\n",
        "----"
      ]
    },
    {
      "cell_type": "code",
      "metadata": {
        "id": "w7undREWQeTg",
        "colab_type": "code",
        "colab": {
          "base_uri": "https://localhost:8080/",
          "height": 1000
        },
        "outputId": "5316fb1f-fdea-4669-acf1-8707a86557ee"
      },
      "source": [
        "x_train = x_train.astype('float32') / 255.\n",
        "x_test = x_test.astype('float32') / 255.\n",
        "\n",
        "# (60000, 28, 28) -> (60000, 784)로 바꿔줌\n",
        "x_train = x_train.reshape((len(x_train), np.prod(x_train.shape[1:])))\n",
        "x_test = x_test.reshape((len(x_test), np.prod(x_test.shape[1:])))\n",
        "print(x_train.shape)\n",
        "print(x_test.shape)\n",
        "\n",
        "input_img = Input(shape=(784,))\n",
        "encoded = Dense(128, activation='relu')(input_img)\n",
        "encoded = Dense(64, activation='relu')(encoded)\n",
        "encoded = Dense(32, activation='relu')(encoded)\n",
        "\n",
        "decoded = Dense(64, activation='relu')(encoded)\n",
        "decoded = Dense(128, activation='relu')(decoded)\n",
        "decoded = Dense(784, activation='sigmoid')(decoded)\n",
        "\n",
        "autoencoder = Model(input_img, decoded)\n",
        "autoencoder.compile(optimizer='adadelta', loss='binary_crossentropy')\n",
        "\n",
        "autoencoder.fit(x_train, x_train,\n",
        "                epochs=100,\n",
        "                batch_size=256,\n",
        "                shuffle=True,\n",
        "                validation_data=(x_test, x_test))"
      ],
      "execution_count": 17,
      "outputs": [
        {
          "output_type": "stream",
          "text": [
            "(60000, 784)\n",
            "(10000, 784)\n",
            "Train on 60000 samples, validate on 10000 samples\n",
            "Epoch 1/100\n",
            "60000/60000 [==============================] - 3s 45us/step - loss: 0.3048 - val_loss: 0.0044\n",
            "Epoch 2/100\n",
            "60000/60000 [==============================] - 2s 35us/step - loss: 0.0042 - val_loss: 0.0042\n",
            "Epoch 3/100\n",
            "60000/60000 [==============================] - 2s 35us/step - loss: 0.0041 - val_loss: 0.0041\n",
            "Epoch 4/100\n",
            "60000/60000 [==============================] - 2s 34us/step - loss: 0.0040 - val_loss: 0.0041\n",
            "Epoch 5/100\n",
            "60000/60000 [==============================] - 2s 34us/step - loss: 0.0040 - val_loss: 0.0040\n",
            "Epoch 6/100\n",
            "60000/60000 [==============================] - 2s 35us/step - loss: 0.0040 - val_loss: 0.0040\n",
            "Epoch 7/100\n",
            "60000/60000 [==============================] - 2s 35us/step - loss: 0.0040 - val_loss: 0.0040\n",
            "Epoch 8/100\n",
            "60000/60000 [==============================] - 2s 35us/step - loss: 0.0040 - val_loss: 0.0040\n",
            "Epoch 9/100\n",
            "60000/60000 [==============================] - 2s 34us/step - loss: 0.0040 - val_loss: 0.0040\n",
            "Epoch 10/100\n",
            "60000/60000 [==============================] - 2s 34us/step - loss: 0.0040 - val_loss: 0.0040\n",
            "Epoch 11/100\n",
            "60000/60000 [==============================] - 2s 34us/step - loss: 0.0040 - val_loss: 0.0040\n",
            "Epoch 12/100\n",
            "60000/60000 [==============================] - 2s 35us/step - loss: 0.0040 - val_loss: 0.0040\n",
            "Epoch 13/100\n",
            "60000/60000 [==============================] - 2s 35us/step - loss: 0.0040 - val_loss: 0.0040\n",
            "Epoch 14/100\n",
            "60000/60000 [==============================] - 2s 35us/step - loss: 0.0040 - val_loss: 0.0040\n",
            "Epoch 15/100\n",
            "60000/60000 [==============================] - 2s 34us/step - loss: 0.0040 - val_loss: 0.0040\n",
            "Epoch 16/100\n",
            "60000/60000 [==============================] - 2s 34us/step - loss: 0.0040 - val_loss: 0.0040\n",
            "Epoch 17/100\n",
            "60000/60000 [==============================] - 2s 35us/step - loss: 0.0040 - val_loss: 0.0040\n",
            "Epoch 18/100\n",
            "60000/60000 [==============================] - 2s 35us/step - loss: 0.0040 - val_loss: 0.0040\n",
            "Epoch 19/100\n",
            "60000/60000 [==============================] - 2s 34us/step - loss: 0.0040 - val_loss: 0.0040\n",
            "Epoch 20/100\n",
            "60000/60000 [==============================] - 2s 35us/step - loss: 0.0040 - val_loss: 0.0040\n",
            "Epoch 21/100\n",
            "60000/60000 [==============================] - 2s 34us/step - loss: 0.0040 - val_loss: 0.0040\n",
            "Epoch 22/100\n",
            "60000/60000 [==============================] - 2s 35us/step - loss: 0.0040 - val_loss: 0.0040\n",
            "Epoch 23/100\n",
            "60000/60000 [==============================] - 2s 35us/step - loss: 0.0040 - val_loss: 0.0040\n",
            "Epoch 24/100\n",
            "60000/60000 [==============================] - 2s 34us/step - loss: 0.0040 - val_loss: 0.0040\n",
            "Epoch 25/100\n",
            "60000/60000 [==============================] - 2s 35us/step - loss: 0.0040 - val_loss: 0.0040\n",
            "Epoch 26/100\n",
            "60000/60000 [==============================] - 2s 35us/step - loss: 0.0040 - val_loss: 0.0040\n",
            "Epoch 27/100\n",
            "60000/60000 [==============================] - 2s 34us/step - loss: 0.0040 - val_loss: 0.0040\n",
            "Epoch 28/100\n",
            "60000/60000 [==============================] - 2s 35us/step - loss: 0.0040 - val_loss: 0.0040\n",
            "Epoch 29/100\n",
            "60000/60000 [==============================] - 2s 34us/step - loss: 0.0040 - val_loss: 0.0040\n",
            "Epoch 30/100\n",
            "60000/60000 [==============================] - 2s 34us/step - loss: 0.0040 - val_loss: 0.0040\n",
            "Epoch 31/100\n",
            "60000/60000 [==============================] - 2s 35us/step - loss: 0.0040 - val_loss: 0.0040\n",
            "Epoch 32/100\n",
            "60000/60000 [==============================] - 2s 34us/step - loss: 0.0040 - val_loss: 0.0040\n",
            "Epoch 33/100\n",
            "60000/60000 [==============================] - 2s 34us/step - loss: 0.0040 - val_loss: 0.0040\n",
            "Epoch 34/100\n",
            "60000/60000 [==============================] - 2s 34us/step - loss: 0.0040 - val_loss: 0.0040\n",
            "Epoch 35/100\n",
            "60000/60000 [==============================] - 2s 34us/step - loss: 0.0040 - val_loss: 0.0040\n",
            "Epoch 36/100\n",
            "60000/60000 [==============================] - 2s 34us/step - loss: 0.0040 - val_loss: 0.0040\n",
            "Epoch 37/100\n",
            "60000/60000 [==============================] - 2s 34us/step - loss: 0.0040 - val_loss: 0.0040\n",
            "Epoch 38/100\n",
            "60000/60000 [==============================] - 2s 34us/step - loss: 0.0040 - val_loss: 0.0040\n",
            "Epoch 39/100\n",
            "60000/60000 [==============================] - 2s 34us/step - loss: 0.0040 - val_loss: 0.0040\n",
            "Epoch 40/100\n",
            "60000/60000 [==============================] - 2s 34us/step - loss: 0.0040 - val_loss: 0.0040\n",
            "Epoch 41/100\n",
            "60000/60000 [==============================] - 2s 34us/step - loss: 0.0040 - val_loss: 0.0040\n",
            "Epoch 42/100\n",
            "60000/60000 [==============================] - 2s 34us/step - loss: 0.0040 - val_loss: 0.0040\n",
            "Epoch 43/100\n",
            "60000/60000 [==============================] - 2s 34us/step - loss: 0.0040 - val_loss: 0.0040\n",
            "Epoch 44/100\n",
            "60000/60000 [==============================] - 2s 34us/step - loss: 0.0040 - val_loss: 0.0040\n",
            "Epoch 45/100\n",
            "60000/60000 [==============================] - 2s 34us/step - loss: 0.0040 - val_loss: 0.0040\n",
            "Epoch 46/100\n",
            "60000/60000 [==============================] - 2s 35us/step - loss: 0.0040 - val_loss: 0.0040\n",
            "Epoch 47/100\n",
            "60000/60000 [==============================] - 2s 34us/step - loss: 0.0040 - val_loss: 0.0040\n",
            "Epoch 48/100\n",
            "60000/60000 [==============================] - 2s 34us/step - loss: 0.0040 - val_loss: 0.0040\n",
            "Epoch 49/100\n",
            "60000/60000 [==============================] - 2s 34us/step - loss: 0.0040 - val_loss: 0.0040\n",
            "Epoch 50/100\n",
            "60000/60000 [==============================] - 2s 34us/step - loss: 0.0040 - val_loss: 0.0040\n",
            "Epoch 51/100\n",
            "60000/60000 [==============================] - 2s 35us/step - loss: 0.0040 - val_loss: 0.0040\n",
            "Epoch 52/100\n",
            "60000/60000 [==============================] - 2s 34us/step - loss: 0.0040 - val_loss: 0.0040\n",
            "Epoch 53/100\n",
            "60000/60000 [==============================] - 2s 34us/step - loss: 0.0040 - val_loss: 0.0040\n",
            "Epoch 54/100\n",
            "60000/60000 [==============================] - 2s 34us/step - loss: 0.0040 - val_loss: 0.0040\n",
            "Epoch 55/100\n",
            "60000/60000 [==============================] - 2s 34us/step - loss: 0.0040 - val_loss: 0.0040\n",
            "Epoch 56/100\n",
            "60000/60000 [==============================] - 2s 34us/step - loss: 0.0040 - val_loss: 0.0040\n",
            "Epoch 57/100\n",
            "60000/60000 [==============================] - 2s 34us/step - loss: 0.0040 - val_loss: 0.0040\n",
            "Epoch 58/100\n",
            "60000/60000 [==============================] - 2s 34us/step - loss: 0.0040 - val_loss: 0.0040\n",
            "Epoch 59/100\n",
            "60000/60000 [==============================] - 2s 35us/step - loss: 0.0040 - val_loss: 0.0040\n",
            "Epoch 60/100\n",
            "60000/60000 [==============================] - 2s 35us/step - loss: 0.0040 - val_loss: 0.0040\n",
            "Epoch 61/100\n",
            "60000/60000 [==============================] - 2s 35us/step - loss: 0.0040 - val_loss: 0.0040\n",
            "Epoch 62/100\n",
            "60000/60000 [==============================] - 2s 34us/step - loss: 0.0040 - val_loss: 0.0040\n",
            "Epoch 63/100\n",
            "60000/60000 [==============================] - 2s 34us/step - loss: 0.0040 - val_loss: 0.0040\n",
            "Epoch 64/100\n",
            "60000/60000 [==============================] - 2s 34us/step - loss: 0.0040 - val_loss: 0.0040\n",
            "Epoch 65/100\n",
            "60000/60000 [==============================] - 2s 35us/step - loss: 0.0040 - val_loss: 0.0040\n",
            "Epoch 66/100\n",
            "60000/60000 [==============================] - 2s 34us/step - loss: 0.0040 - val_loss: 0.0040\n",
            "Epoch 67/100\n",
            "60000/60000 [==============================] - 2s 34us/step - loss: 0.0040 - val_loss: 0.0040\n",
            "Epoch 68/100\n",
            "60000/60000 [==============================] - 2s 34us/step - loss: 0.0040 - val_loss: 0.0040\n",
            "Epoch 69/100\n",
            "60000/60000 [==============================] - 2s 34us/step - loss: 0.0040 - val_loss: 0.0040\n",
            "Epoch 70/100\n",
            "60000/60000 [==============================] - 2s 34us/step - loss: 0.0040 - val_loss: 0.0040\n",
            "Epoch 71/100\n",
            "60000/60000 [==============================] - 2s 35us/step - loss: 0.0040 - val_loss: 0.0040\n",
            "Epoch 72/100\n",
            "60000/60000 [==============================] - 2s 34us/step - loss: 0.0040 - val_loss: 0.0040\n",
            "Epoch 73/100\n",
            "60000/60000 [==============================] - 2s 34us/step - loss: 0.0040 - val_loss: 0.0040\n",
            "Epoch 74/100\n",
            "60000/60000 [==============================] - 2s 34us/step - loss: 0.0040 - val_loss: 0.0040\n",
            "Epoch 75/100\n",
            "60000/60000 [==============================] - 2s 34us/step - loss: 0.0040 - val_loss: 0.0040\n",
            "Epoch 76/100\n",
            "60000/60000 [==============================] - 2s 34us/step - loss: 0.0040 - val_loss: 0.0040\n",
            "Epoch 77/100\n",
            "60000/60000 [==============================] - 2s 34us/step - loss: 0.0040 - val_loss: 0.0040\n",
            "Epoch 78/100\n",
            "60000/60000 [==============================] - 2s 34us/step - loss: 0.0040 - val_loss: 0.0040\n",
            "Epoch 79/100\n",
            "60000/60000 [==============================] - 2s 34us/step - loss: 0.0040 - val_loss: 0.0040\n",
            "Epoch 80/100\n",
            "60000/60000 [==============================] - 2s 34us/step - loss: 0.0040 - val_loss: 0.0040\n",
            "Epoch 81/100\n",
            "60000/60000 [==============================] - 2s 34us/step - loss: 0.0040 - val_loss: 0.0040\n",
            "Epoch 82/100\n",
            "60000/60000 [==============================] - 2s 34us/step - loss: 0.0040 - val_loss: 0.0040\n",
            "Epoch 83/100\n",
            "60000/60000 [==============================] - 2s 35us/step - loss: 0.0040 - val_loss: 0.0040\n",
            "Epoch 84/100\n",
            "60000/60000 [==============================] - 2s 35us/step - loss: 0.0040 - val_loss: 0.0040\n",
            "Epoch 85/100\n",
            "60000/60000 [==============================] - 2s 36us/step - loss: 0.0040 - val_loss: 0.0040\n",
            "Epoch 86/100\n",
            "60000/60000 [==============================] - 2s 35us/step - loss: 0.0040 - val_loss: 0.0040\n",
            "Epoch 87/100\n",
            "60000/60000 [==============================] - 2s 35us/step - loss: 0.0040 - val_loss: 0.0040\n",
            "Epoch 88/100\n",
            "60000/60000 [==============================] - 2s 33us/step - loss: 0.0040 - val_loss: 0.0040\n",
            "Epoch 89/100\n",
            "60000/60000 [==============================] - 2s 34us/step - loss: 0.0040 - val_loss: 0.0040\n",
            "Epoch 90/100\n",
            "60000/60000 [==============================] - 2s 33us/step - loss: 0.0040 - val_loss: 0.0040\n",
            "Epoch 91/100\n",
            "60000/60000 [==============================] - 2s 34us/step - loss: 0.0040 - val_loss: 0.0040\n",
            "Epoch 92/100\n",
            "60000/60000 [==============================] - 2s 35us/step - loss: 0.0040 - val_loss: 0.0040\n",
            "Epoch 93/100\n",
            "60000/60000 [==============================] - 2s 34us/step - loss: 0.0040 - val_loss: 0.0040\n",
            "Epoch 94/100\n",
            "60000/60000 [==============================] - 2s 34us/step - loss: 0.0040 - val_loss: 0.0040\n",
            "Epoch 95/100\n",
            "60000/60000 [==============================] - 2s 34us/step - loss: 0.0040 - val_loss: 0.0040\n",
            "Epoch 96/100\n",
            "60000/60000 [==============================] - 2s 34us/step - loss: 0.0040 - val_loss: 0.0040\n",
            "Epoch 97/100\n",
            "60000/60000 [==============================] - 2s 35us/step - loss: 0.0040 - val_loss: 0.0040\n",
            "Epoch 98/100\n",
            "60000/60000 [==============================] - 2s 34us/step - loss: 0.0040 - val_loss: 0.0040\n",
            "Epoch 99/100\n",
            "60000/60000 [==============================] - 2s 34us/step - loss: 0.0040 - val_loss: 0.0040\n",
            "Epoch 100/100\n",
            "60000/60000 [==============================] - 2s 34us/step - loss: 0.0040 - val_loss: 0.0040\n"
          ],
          "name": "stdout"
        },
        {
          "output_type": "execute_result",
          "data": {
            "text/plain": [
              "<keras.callbacks.History at 0x7fad1168bf98>"
            ]
          },
          "metadata": {
            "tags": []
          },
          "execution_count": 17
        }
      ]
    },
    {
      "cell_type": "markdown",
      "metadata": {
        "id": "y9xLtAkxPvxQ",
        "colab_type": "text"
      },
      "source": [
        "Convolutional Autoencoder\n",
        "----\n",
        "\n",
        "***Upsampling(사이를 평균값으로 채움)***  "
      ]
    },
    {
      "cell_type": "markdown",
      "metadata": {
        "id": "o5h6cdCUV2SJ",
        "colab_type": "text"
      },
      "source": [
        "\n",
        "|Before||    \n",
        "----|----\n",
        "| 3 | 5 | \n",
        "| 4 | 8 | \n",
        "\n",
        "\n",
        "|After| ||  \n",
        "--|--|--\n",
        "3|4|5  \n",
        "3.5|  5  | 6.5  \n",
        "4   | 6   | 8    "
      ]
    },
    {
      "cell_type": "code",
      "metadata": {
        "id": "yz1MShpRPh3B",
        "colab_type": "code",
        "colab": {
          "base_uri": "https://localhost:8080/",
          "height": 52
        },
        "outputId": "f459d5fa-c779-46d7-e789-1ba474b710db"
      },
      "source": [
        "from keras.datasets import mnist\n",
        "import numpy as np\n",
        "(x_train, _), (x_test, _) = mnist.load_data() # target 값을 받아오지 않음\n",
        "\n",
        "x_train = x_train.astype('float32') / 255.\n",
        "x_test = x_test.astype('float32') / 255.\n",
        "\n",
        "x_train = x_train.reshape((len(x_train), 28,28,1))\n",
        "x_test = x_test.reshape((len(x_test), 28,28,1))\n",
        "print(x_train.shape)\n",
        "print(x_test.shape)"
      ],
      "execution_count": 31,
      "outputs": [
        {
          "output_type": "stream",
          "text": [
            "(60000, 28, 28, 1)\n",
            "(10000, 28, 28, 1)\n"
          ],
          "name": "stdout"
        }
      ]
    },
    {
      "cell_type": "code",
      "metadata": {
        "id": "uyqadstqQYJU",
        "colab_type": "code",
        "colab": {
          "base_uri": "https://localhost:8080/",
          "height": 1000
        },
        "outputId": "a846d38e-ab5c-45a5-d267-92c3816b37c6"
      },
      "source": [
        "from keras.layers import Input, Dense, Conv2D, MaxPooling2D, UpSampling2D\n",
        "from keras.models import Model\n",
        "from keras import backend as K\n",
        "\n",
        "input_img = Input(shape=(28,28,1))\n",
        "\n",
        "x = Conv2D(16, (3,3), activation='relu', padding='same')(input_img)\n",
        "# shape : (None, 28, 28, 16)\n",
        "\n",
        "\n",
        "x = MaxPooling2D((2,2), padding='same')(x)\n",
        "# shape : (None, 14, 14, 16)\n",
        "\n",
        "x = Conv2D(8, (3,3), activation='relu', padding='same')(x)\n",
        "# shape : (None, 14, 14, 8)\n",
        "\n",
        "x = MaxPooling2D((2,2), padding='same')(x)\n",
        "# shape : (None, 7, 7, 8)\n",
        "\n",
        "x = Conv2D(8, (3,3), activation='relu', padding='same')(x)\n",
        "# shape : (None, 7, 7, 8)\n",
        "\n",
        "encoded = MaxPooling2D((2,2), padding='same')(x)\n",
        "# shape : (None, 4, 4, 8)\n",
        "# padding = same => 홀수로 떨어지는 것을 방지하기 위해 padding을 추가해줌\n",
        "# dimension을 맞춰주기 위해!!\n",
        "# padding을 추가하지 않으면 7 -> 3으로 filter 수가 바뀜\n",
        "# decode할 때 3 -> 6 -> 12..... 이런식으로 올라가서 원래대로 복원할 수 없음\n",
        "\n",
        "x = Conv2D(8, (3,3), activation='relu', padding='same')(encoded)\n",
        "# None, 4, 4, 8\n",
        "\n",
        "x = UpSampling2D((2,2))(x)\n",
        "# None 8, 8, 8\n",
        "\n",
        "x = Conv2D(8, (3,3), activation='relu', padding='same')(x)\n",
        "# None 8, 8, 8\n",
        "\n",
        "x = UpSampling2D((2,2))(x)\n",
        "# None 16, 16, 8\n",
        "\n",
        "x = Conv2D(16, (3,3), activation='relu')(x)\n",
        "# None, 14, 14, 16\n",
        "# padding이 없어서 14!!!\n",
        "\n",
        "x = UpSampling2D((2,2))(x)\n",
        "# None, 28, 28, 16\n",
        "\n",
        "decoded = Conv2D(1, (3,3), activation='sigmoid', padding='same')(x)\n",
        "# None, 28, 28, 1\n",
        "# feature map이 한 장 나와야 하기 때문에...\n",
        "# color image였다면 output filter의 수가 3장 나와야함!!\n",
        "# 이전 layer에서 같은 사이즈를 출력하기 위해 padding을 추가해줌!\n",
        "\n",
        "autoencoder = Model(input_img, decoded)\n",
        "autoencoder.compile(optimizer='adadelta', loss='binary_crossentropy')\n",
        "autoencoder.fit(x_train, x_train,\n",
        "               epochs=100,\n",
        "               batch_size=256,\n",
        "               shuffle=True,\n",
        "               validation_data=(x_test, x_test))"
      ],
      "execution_count": 32,
      "outputs": [
        {
          "output_type": "stream",
          "text": [
            "Train on 60000 samples, validate on 10000 samples\n",
            "Epoch 1/100\n",
            "60000/60000 [==============================] - 5s 89us/step - loss: 0.2517 - val_loss: 0.1937\n",
            "Epoch 2/100\n",
            "60000/60000 [==============================] - 4s 74us/step - loss: 0.1776 - val_loss: 0.1669\n",
            "Epoch 3/100\n",
            "60000/60000 [==============================] - 4s 74us/step - loss: 0.1613 - val_loss: 0.1635\n",
            "Epoch 4/100\n",
            "60000/60000 [==============================] - 4s 73us/step - loss: 0.1494 - val_loss: 0.1438\n",
            "Epoch 5/100\n",
            "60000/60000 [==============================] - 4s 72us/step - loss: 0.1411 - val_loss: 0.1386\n",
            "Epoch 6/100\n",
            "60000/60000 [==============================] - 4s 72us/step - loss: 0.1356 - val_loss: 0.1325\n",
            "Epoch 7/100\n",
            "60000/60000 [==============================] - 4s 72us/step - loss: 0.1316 - val_loss: 0.1306\n",
            "Epoch 8/100\n",
            "60000/60000 [==============================] - 4s 72us/step - loss: 0.1284 - val_loss: 0.1254\n",
            "Epoch 9/100\n",
            "60000/60000 [==============================] - 4s 72us/step - loss: 0.1262 - val_loss: 0.1245\n",
            "Epoch 10/100\n",
            "60000/60000 [==============================] - 4s 72us/step - loss: 0.1242 - val_loss: 0.1217\n",
            "Epoch 11/100\n",
            "60000/60000 [==============================] - 4s 73us/step - loss: 0.1225 - val_loss: 0.1178\n",
            "Epoch 12/100\n",
            "60000/60000 [==============================] - 4s 73us/step - loss: 0.1210 - val_loss: 0.1245\n",
            "Epoch 13/100\n",
            "60000/60000 [==============================] - 4s 72us/step - loss: 0.1200 - val_loss: 0.1178\n",
            "Epoch 14/100\n",
            "60000/60000 [==============================] - 4s 71us/step - loss: 0.1186 - val_loss: 0.1141\n",
            "Epoch 15/100\n",
            "60000/60000 [==============================] - 4s 72us/step - loss: 0.1179 - val_loss: 0.1156\n",
            "Epoch 16/100\n",
            "60000/60000 [==============================] - 4s 72us/step - loss: 0.1171 - val_loss: 0.1152\n",
            "Epoch 17/100\n",
            "60000/60000 [==============================] - 4s 72us/step - loss: 0.1167 - val_loss: 0.1146\n",
            "Epoch 18/100\n",
            "60000/60000 [==============================] - 4s 71us/step - loss: 0.1158 - val_loss: 0.1152\n",
            "Epoch 19/100\n",
            "60000/60000 [==============================] - 4s 71us/step - loss: 0.1150 - val_loss: 0.1137\n",
            "Epoch 20/100\n",
            "60000/60000 [==============================] - 4s 72us/step - loss: 0.1146 - val_loss: 0.1194\n",
            "Epoch 21/100\n",
            "60000/60000 [==============================] - 4s 72us/step - loss: 0.1138 - val_loss: 0.1175\n",
            "Epoch 22/100\n",
            "60000/60000 [==============================] - 4s 72us/step - loss: 0.1136 - val_loss: 0.1132\n",
            "Epoch 23/100\n",
            "60000/60000 [==============================] - 4s 72us/step - loss: 0.1129 - val_loss: 0.1118\n",
            "Epoch 24/100\n",
            "60000/60000 [==============================] - 4s 72us/step - loss: 0.1124 - val_loss: 0.1121\n",
            "Epoch 25/100\n",
            "60000/60000 [==============================] - 4s 72us/step - loss: 0.1120 - val_loss: 0.1111\n",
            "Epoch 26/100\n",
            "60000/60000 [==============================] - 4s 72us/step - loss: 0.1114 - val_loss: 0.1102\n",
            "Epoch 27/100\n",
            "60000/60000 [==============================] - 4s 71us/step - loss: 0.1111 - val_loss: 0.1100\n",
            "Epoch 28/100\n",
            "60000/60000 [==============================] - 4s 72us/step - loss: 0.1107 - val_loss: 0.1097\n",
            "Epoch 29/100\n",
            "60000/60000 [==============================] - 4s 72us/step - loss: 0.1103 - val_loss: 0.1064\n",
            "Epoch 30/100\n",
            "60000/60000 [==============================] - 4s 72us/step - loss: 0.1100 - val_loss: 0.1085\n",
            "Epoch 31/100\n",
            "60000/60000 [==============================] - 4s 72us/step - loss: 0.1096 - val_loss: 0.1080\n",
            "Epoch 32/100\n",
            "60000/60000 [==============================] - 4s 72us/step - loss: 0.1092 - val_loss: 0.1097\n",
            "Epoch 33/100\n",
            "60000/60000 [==============================] - 4s 72us/step - loss: 0.1092 - val_loss: 0.1068\n",
            "Epoch 34/100\n",
            "60000/60000 [==============================] - 4s 71us/step - loss: 0.1088 - val_loss: 0.1076\n",
            "Epoch 35/100\n",
            "60000/60000 [==============================] - 4s 72us/step - loss: 0.1083 - val_loss: 0.1067\n",
            "Epoch 36/100\n",
            "60000/60000 [==============================] - 4s 72us/step - loss: 0.1083 - val_loss: 0.1068\n",
            "Epoch 37/100\n",
            "60000/60000 [==============================] - 4s 72us/step - loss: 0.1078 - val_loss: 0.1078\n",
            "Epoch 38/100\n",
            "60000/60000 [==============================] - 4s 72us/step - loss: 0.1075 - val_loss: 0.1116\n",
            "Epoch 39/100\n",
            "60000/60000 [==============================] - 4s 72us/step - loss: 0.1072 - val_loss: 0.1044\n",
            "Epoch 40/100\n",
            "60000/60000 [==============================] - 4s 72us/step - loss: 0.1070 - val_loss: 0.1058\n",
            "Epoch 41/100\n",
            "60000/60000 [==============================] - 4s 72us/step - loss: 0.1069 - val_loss: 0.1058\n",
            "Epoch 42/100\n",
            "60000/60000 [==============================] - 4s 72us/step - loss: 0.1069 - val_loss: 0.1069\n",
            "Epoch 43/100\n",
            "60000/60000 [==============================] - 4s 72us/step - loss: 0.1065 - val_loss: 0.1048\n",
            "Epoch 44/100\n",
            "60000/60000 [==============================] - 4s 72us/step - loss: 0.1065 - val_loss: 0.1031\n",
            "Epoch 45/100\n",
            "60000/60000 [==============================] - 4s 72us/step - loss: 0.1059 - val_loss: 0.1043\n",
            "Epoch 46/100\n",
            "60000/60000 [==============================] - 4s 71us/step - loss: 0.1059 - val_loss: 0.1058\n",
            "Epoch 47/100\n",
            "60000/60000 [==============================] - 4s 72us/step - loss: 0.1056 - val_loss: 0.1033\n",
            "Epoch 48/100\n",
            "60000/60000 [==============================] - 4s 72us/step - loss: 0.1054 - val_loss: 0.1058\n",
            "Epoch 49/100\n",
            "60000/60000 [==============================] - 4s 71us/step - loss: 0.1050 - val_loss: 0.1032\n",
            "Epoch 50/100\n",
            "60000/60000 [==============================] - 4s 71us/step - loss: 0.1054 - val_loss: 0.1021\n",
            "Epoch 51/100\n",
            "60000/60000 [==============================] - 4s 72us/step - loss: 0.1048 - val_loss: 0.1042\n",
            "Epoch 52/100\n",
            "60000/60000 [==============================] - 4s 71us/step - loss: 0.1047 - val_loss: 0.1045\n",
            "Epoch 53/100\n",
            "60000/60000 [==============================] - 4s 71us/step - loss: 0.1044 - val_loss: 0.1025\n",
            "Epoch 54/100\n",
            "60000/60000 [==============================] - 4s 72us/step - loss: 0.1043 - val_loss: 0.1031\n",
            "Epoch 55/100\n",
            "60000/60000 [==============================] - 4s 72us/step - loss: 0.1042 - val_loss: 0.1027\n",
            "Epoch 56/100\n",
            "60000/60000 [==============================] - 4s 71us/step - loss: 0.1041 - val_loss: 0.1015\n",
            "Epoch 57/100\n",
            "60000/60000 [==============================] - 4s 72us/step - loss: 0.1038 - val_loss: 0.1006\n",
            "Epoch 58/100\n",
            "60000/60000 [==============================] - 4s 72us/step - loss: 0.1038 - val_loss: 0.1011\n",
            "Epoch 59/100\n",
            "60000/60000 [==============================] - 4s 72us/step - loss: 0.1034 - val_loss: 0.1028\n",
            "Epoch 60/100\n",
            "60000/60000 [==============================] - 4s 72us/step - loss: 0.1033 - val_loss: 0.1029\n",
            "Epoch 61/100\n",
            "60000/60000 [==============================] - 4s 72us/step - loss: 0.1033 - val_loss: 0.1014\n",
            "Epoch 62/100\n",
            "60000/60000 [==============================] - 4s 71us/step - loss: 0.1031 - val_loss: 0.1028\n",
            "Epoch 63/100\n",
            "60000/60000 [==============================] - 4s 71us/step - loss: 0.1029 - val_loss: 0.1016\n",
            "Epoch 64/100\n",
            "60000/60000 [==============================] - 4s 72us/step - loss: 0.1028 - val_loss: 0.1019\n",
            "Epoch 65/100\n",
            "60000/60000 [==============================] - 4s 72us/step - loss: 0.1028 - val_loss: 0.1029\n",
            "Epoch 66/100\n",
            "60000/60000 [==============================] - 4s 72us/step - loss: 0.1025 - val_loss: 0.0998\n",
            "Epoch 67/100\n",
            "60000/60000 [==============================] - 4s 72us/step - loss: 0.1024 - val_loss: 0.1012\n",
            "Epoch 68/100\n",
            "60000/60000 [==============================] - 4s 71us/step - loss: 0.1022 - val_loss: 0.1000\n",
            "Epoch 69/100\n",
            "60000/60000 [==============================] - 4s 72us/step - loss: 0.1019 - val_loss: 0.0991\n",
            "Epoch 70/100\n",
            "60000/60000 [==============================] - 4s 72us/step - loss: 0.1019 - val_loss: 0.1038\n",
            "Epoch 71/100\n",
            "60000/60000 [==============================] - 4s 72us/step - loss: 0.1019 - val_loss: 0.1010\n",
            "Epoch 72/100\n",
            "60000/60000 [==============================] - 4s 71us/step - loss: 0.1019 - val_loss: 0.1018\n",
            "Epoch 73/100\n",
            "60000/60000 [==============================] - 4s 72us/step - loss: 0.1017 - val_loss: 0.0987\n",
            "Epoch 74/100\n",
            "60000/60000 [==============================] - 4s 72us/step - loss: 0.1017 - val_loss: 0.1000\n",
            "Epoch 75/100\n",
            "60000/60000 [==============================] - 4s 74us/step - loss: 0.1015 - val_loss: 0.1002\n",
            "Epoch 76/100\n",
            "60000/60000 [==============================] - 4s 72us/step - loss: 0.1014 - val_loss: 0.0986\n",
            "Epoch 77/100\n",
            "60000/60000 [==============================] - 4s 71us/step - loss: 0.1010 - val_loss: 0.0994\n",
            "Epoch 78/100\n",
            "60000/60000 [==============================] - 4s 72us/step - loss: 0.1011 - val_loss: 0.0992\n",
            "Epoch 79/100\n",
            "60000/60000 [==============================] - 4s 72us/step - loss: 0.1009 - val_loss: 0.0980\n",
            "Epoch 80/100\n",
            "60000/60000 [==============================] - 4s 71us/step - loss: 0.1009 - val_loss: 0.0990\n",
            "Epoch 81/100\n",
            "60000/60000 [==============================] - 4s 72us/step - loss: 0.1008 - val_loss: 0.1015\n",
            "Epoch 82/100\n",
            "60000/60000 [==============================] - 4s 72us/step - loss: 0.1008 - val_loss: 0.0993\n",
            "Epoch 83/100\n",
            "60000/60000 [==============================] - 4s 73us/step - loss: 0.1005 - val_loss: 0.1013\n",
            "Epoch 84/100\n",
            "60000/60000 [==============================] - 4s 72us/step - loss: 0.1005 - val_loss: 0.1016\n",
            "Epoch 85/100\n",
            "60000/60000 [==============================] - 4s 72us/step - loss: 0.1004 - val_loss: 0.0986\n",
            "Epoch 86/100\n",
            "60000/60000 [==============================] - 4s 72us/step - loss: 0.1001 - val_loss: 0.0982\n",
            "Epoch 87/100\n",
            "60000/60000 [==============================] - 4s 71us/step - loss: 0.1002 - val_loss: 0.0991\n",
            "Epoch 88/100\n",
            "60000/60000 [==============================] - 4s 71us/step - loss: 0.1004 - val_loss: 0.0976\n",
            "Epoch 89/100\n",
            "60000/60000 [==============================] - 4s 72us/step - loss: 0.1002 - val_loss: 0.0971\n",
            "Epoch 90/100\n",
            "60000/60000 [==============================] - 4s 71us/step - loss: 0.0998 - val_loss: 0.0990\n",
            "Epoch 91/100\n",
            "60000/60000 [==============================] - 4s 71us/step - loss: 0.0999 - val_loss: 0.0992\n",
            "Epoch 92/100\n",
            "60000/60000 [==============================] - 4s 72us/step - loss: 0.0999 - val_loss: 0.1009\n",
            "Epoch 93/100\n",
            "60000/60000 [==============================] - 4s 71us/step - loss: 0.0997 - val_loss: 0.0992\n",
            "Epoch 94/100\n",
            "60000/60000 [==============================] - 4s 71us/step - loss: 0.0998 - val_loss: 0.1014\n",
            "Epoch 95/100\n",
            "60000/60000 [==============================] - 4s 71us/step - loss: 0.0995 - val_loss: 0.0976\n",
            "Epoch 96/100\n",
            "60000/60000 [==============================] - 4s 72us/step - loss: 0.0996 - val_loss: 0.0976\n",
            "Epoch 97/100\n",
            "60000/60000 [==============================] - 4s 72us/step - loss: 0.0997 - val_loss: 0.1022\n",
            "Epoch 98/100\n",
            "60000/60000 [==============================] - 4s 71us/step - loss: 0.0996 - val_loss: 0.0992\n",
            "Epoch 99/100\n",
            "60000/60000 [==============================] - 4s 71us/step - loss: 0.0996 - val_loss: 0.0991\n",
            "Epoch 100/100\n",
            "60000/60000 [==============================] - 4s 71us/step - loss: 0.0995 - val_loss: 0.0986\n"
          ],
          "name": "stdout"
        },
        {
          "output_type": "execute_result",
          "data": {
            "text/plain": [
              "<keras.callbacks.History at 0x7fad10a60e80>"
            ]
          },
          "metadata": {
            "tags": []
          },
          "execution_count": 32
        }
      ]
    },
    {
      "cell_type": "code",
      "metadata": {
        "id": "gTxlayIIUma0",
        "colab_type": "code",
        "colab": {
          "base_uri": "https://localhost:8080/",
          "height": 657
        },
        "outputId": "8f77b208-1661-44be-de35-57afc0811aa6"
      },
      "source": [
        "autoencoder.summary()"
      ],
      "execution_count": 26,
      "outputs": [
        {
          "output_type": "stream",
          "text": [
            "Model: \"model_8\"\n",
            "_________________________________________________________________\n",
            "Layer (type)                 Output Shape              Param #   \n",
            "=================================================================\n",
            "input_8 (InputLayer)         (None, 28, 28, 1)         0         \n",
            "_________________________________________________________________\n",
            "conv2d_4 (Conv2D)            (None, 28, 28, 16)        160       \n",
            "_________________________________________________________________\n",
            "max_pooling2d_4 (MaxPooling2 (None, 14, 14, 16)        0         \n",
            "_________________________________________________________________\n",
            "conv2d_5 (Conv2D)            (None, 14, 14, 8)         1160      \n",
            "_________________________________________________________________\n",
            "max_pooling2d_5 (MaxPooling2 (None, 7, 7, 8)           0         \n",
            "_________________________________________________________________\n",
            "conv2d_6 (Conv2D)            (None, 7, 7, 8)           584       \n",
            "_________________________________________________________________\n",
            "max_pooling2d_6 (MaxPooling2 (None, 4, 4, 8)           0         \n",
            "_________________________________________________________________\n",
            "conv2d_7 (Conv2D)            (None, 4, 4, 8)           584       \n",
            "_________________________________________________________________\n",
            "up_sampling2d_1 (UpSampling2 (None, 8, 8, 8)           0         \n",
            "_________________________________________________________________\n",
            "conv2d_8 (Conv2D)            (None, 8, 8, 8)           584       \n",
            "_________________________________________________________________\n",
            "up_sampling2d_2 (UpSampling2 (None, 16, 16, 8)         0         \n",
            "_________________________________________________________________\n",
            "conv2d_9 (Conv2D)            (None, 14, 14, 16)        1168      \n",
            "_________________________________________________________________\n",
            "up_sampling2d_3 (UpSampling2 (None, 28, 28, 16)        0         \n",
            "_________________________________________________________________\n",
            "conv2d_10 (Conv2D)           (None, 28, 28, 1)         145       \n",
            "=================================================================\n",
            "Total params: 4,385\n",
            "Trainable params: 4,385\n",
            "Non-trainable params: 0\n",
            "_________________________________________________________________\n"
          ],
          "name": "stdout"
        }
      ]
    },
    {
      "cell_type": "code",
      "metadata": {
        "id": "aHoTQ-HuaHwD",
        "colab_type": "code",
        "colab": {
          "base_uri": "https://localhost:8080/",
          "height": 244
        },
        "outputId": "1a15a32a-c71d-46ee-b8ae-d46a653261bc"
      },
      "source": [
        "decoded_imgs = autoencoder.predict(x_test)\n",
        "\n",
        "n = 10  # how many digits we will display\n",
        "plt.figure(figsize=(20, 4))\n",
        "for i in range(n):\n",
        "    # display original\n",
        "    ax = plt.subplot(2, n, i + 1)\n",
        "    plt.imshow(x_test[i].reshape(28, 28))\n",
        "    plt.gray()\n",
        "    ax.get_xaxis().set_visible(False)\n",
        "    ax.get_yaxis().set_visible(False)\n",
        "\n",
        "    # display reconstruction\n",
        "    ax = plt.subplot(2, n, i + 1 + n)\n",
        "    plt.imshow(decoded_imgs[i].reshape(28, 28))\n",
        "    plt.gray()\n",
        "    ax.get_xaxis().set_visible(False)\n",
        "    ax.get_yaxis().set_visible(False)\n",
        "plt.show()"
      ],
      "execution_count": 34,
      "outputs": [
        {
          "output_type": "display_data",
          "data": {
            "image/png": "[encoded data removed]",
            "text/plain": [
              "<Figure size 1440x288 with 20 Axes>"
            ]
          },
          "metadata": {
            "tags": []
          }
        }
      ]
    },
    {
      "cell_type": "markdown",
      "metadata": {
        "id": "JCnU1rKhexcU",
        "colab_type": "text"
      },
      "source": [
        "Variational Autoencoded\n",
        "----"
      ]
    },
    {
      "cell_type": "code",
      "metadata": {
        "id": "KIKvBQPiac0I",
        "colab_type": "code",
        "colab": {}
      },
      "source": [
        "from keras.datasets import mnist\n",
        "import numpy as np\n",
        "(x_train, _), (x_test, _) = mnist.load_data() # target 값을 받아오지 않음\n",
        "\n",
        "x_train = x_train.astype('float32') / 255.\n",
        "x_test = x_test.astype('float32') / 255.\n",
        "\n",
        "x_train = x_train.reshape((len(x_train), 28,28,1))\n",
        "x_test = x_test.reshape((len(x_test), 28,28,1))\n",
        "\n",
        "noise_factor = 0.5  # 노이즈 정도를 정함\n",
        "x_train_noisy = x_train + noise_factor * np.random.normal(loc=0.0, scale=1.0, size=x_train.shape)\n",
        "x_test_noisy = x_test + noise_factor * np.random.normal(loc=0.0, scale=1.0, size=x_test.shape)\n",
        "\n",
        "# 노이즈가 더해진 값을 clip해줌\n",
        "x_train_noisy = np.clip(x_train_noisy, 0., 1.)\n",
        "x_test_noisy = np.clip(x_test_noisy, 0., 1.)"
      ],
      "execution_count": 0,
      "outputs": []
    },
    {
      "cell_type": "code",
      "metadata": {
        "id": "lN1FS8ZDgLKS",
        "colab_type": "code",
        "colab": {}
      },
      "source": [
        "from keras.layers import Input, Dense, Conv2D, MaxPooling2D, UpSampling2D\n",
        "from keras.models import Model\n",
        "from keras import backend as K\n",
        "\n",
        "input_img = Input(shape=(28, 28, 1))  # adapt this if using `channels_first` image data format\n",
        "\n",
        "x = Conv2D(16, (3, 3), activation='relu', padding='same')(input_img)\n",
        "x = MaxPooling2D((2, 2), padding='same')(x)\n",
        "x = Conv2D(8, (3, 3), activation='relu', padding='same')(x)\n",
        "x = MaxPooling2D((2, 2), padding='same')(x)\n",
        "x = Conv2D(8, (3, 3), activation='relu', padding='same')(x)\n",
        "encoded = MaxPooling2D((2, 2), padding='same')(x)\n",
        "\n",
        "# at this point the representation is (4, 4, 8) i.e. 128-dimensional\n",
        "\n",
        "x = Conv2D(8, (3, 3), activation='relu', padding='same')(encoded)\n",
        "x = UpSampling2D((2, 2))(x)\n",
        "x = Conv2D(8, (3, 3), activation='relu', padding='same')(x)\n",
        "x = UpSampling2D((2, 2))(x)\n",
        "x = Conv2D(16, (3, 3), activation='relu')(x)\n",
        "x = UpSampling2D((2, 2))(x)\n",
        "decoded = Conv2D(1, (3, 3), activation='sigmoid', padding='same')(x)\n",
        "\n",
        "autoencoder = Model(input_img, decoded)\n",
        "autoencoder.compile(optimizer='adadelta', loss='binary_crossentropy')"
      ],
      "execution_count": 0,
      "outputs": []
    },
    {
      "cell_type": "code",
      "metadata": {
        "id": "MKrxBEwrgpjp",
        "colab_type": "code",
        "colab": {
          "base_uri": "https://localhost:8080/",
          "height": 1000
        },
        "outputId": "7bbc737e-5ddb-448f-bc3c-9a2cb69ce043"
      },
      "source": [
        "autoencoder.fit(x_train, x_train_noisy,\n",
        "                epochs=50,\n",
        "                batch_size=128,\n",
        "                shuffle=True,\n",
        "                validation_data=(x_test, x_test_noisy))"
      ],
      "execution_count": 36,
      "outputs": [
        {
          "output_type": "stream",
          "text": [
            "Train on 60000 samples, validate on 10000 samples\n",
            "Epoch 1/50\n",
            "60000/60000 [==============================] - 9s 151us/step - loss: 0.5595 - val_loss: 0.5513\n",
            "Epoch 2/50\n",
            "60000/60000 [==============================] - 8s 134us/step - loss: 0.5444 - val_loss: 0.5411\n",
            "Epoch 3/50\n",
            "60000/60000 [==============================] - 8s 134us/step - loss: 0.5379 - val_loss: 0.5349\n",
            "Epoch 4/50\n",
            "60000/60000 [==============================] - 8s 133us/step - loss: 0.5342 - val_loss: 0.5325\n",
            "Epoch 5/50\n",
            "60000/60000 [==============================] - 8s 133us/step - loss: 0.5321 - val_loss: 0.5317\n",
            "Epoch 6/50\n",
            "60000/60000 [==============================] - 8s 131us/step - loss: 0.5306 - val_loss: 0.5296\n",
            "Epoch 7/50\n",
            "60000/60000 [==============================] - 8s 130us/step - loss: 0.5296 - val_loss: 0.5291\n",
            "Epoch 8/50\n",
            "60000/60000 [==============================] - 8s 130us/step - loss: 0.5287 - val_loss: 0.5278\n",
            "Epoch 9/50\n",
            "60000/60000 [==============================] - 8s 130us/step - loss: 0.5279 - val_loss: 0.5280\n",
            "Epoch 10/50\n",
            "60000/60000 [==============================] - 8s 130us/step - loss: 0.5274 - val_loss: 0.5271\n",
            "Epoch 11/50\n",
            "60000/60000 [==============================] - 8s 131us/step - loss: 0.5268 - val_loss: 0.5260\n",
            "Epoch 12/50\n",
            "60000/60000 [==============================] - 8s 133us/step - loss: 0.5264 - val_loss: 0.5261\n",
            "Epoch 13/50\n",
            "60000/60000 [==============================] - 8s 131us/step - loss: 0.5262 - val_loss: 0.5246\n",
            "Epoch 14/50\n",
            "60000/60000 [==============================] - 8s 131us/step - loss: 0.5257 - val_loss: 0.5243\n",
            "Epoch 15/50\n",
            "60000/60000 [==============================] - 8s 133us/step - loss: 0.5254 - val_loss: 0.5257\n",
            "Epoch 16/50\n",
            "60000/60000 [==============================] - 8s 130us/step - loss: 0.5251 - val_loss: 0.5244\n",
            "Epoch 17/50\n",
            "60000/60000 [==============================] - 8s 131us/step - loss: 0.5248 - val_loss: 0.5241\n",
            "Epoch 18/50\n",
            "60000/60000 [==============================] - 8s 130us/step - loss: 0.5247 - val_loss: 0.5248\n",
            "Epoch 19/50\n",
            "60000/60000 [==============================] - 8s 131us/step - loss: 0.5245 - val_loss: 0.5235\n",
            "Epoch 20/50\n",
            "60000/60000 [==============================] - 8s 131us/step - loss: 0.5242 - val_loss: 0.5240\n",
            "Epoch 21/50\n",
            "60000/60000 [==============================] - 8s 131us/step - loss: 0.5241 - val_loss: 0.5241\n",
            "Epoch 22/50\n",
            "60000/60000 [==============================] - 8s 131us/step - loss: 0.5238 - val_loss: 0.5232\n",
            "Epoch 23/50\n",
            "60000/60000 [==============================] - 8s 131us/step - loss: 0.5236 - val_loss: 0.5229\n",
            "Epoch 24/50\n",
            "60000/60000 [==============================] - 8s 131us/step - loss: 0.5235 - val_loss: 0.5237\n",
            "Epoch 25/50\n",
            "60000/60000 [==============================] - 8s 131us/step - loss: 0.5232 - val_loss: 0.5236\n",
            "Epoch 26/50\n",
            "60000/60000 [==============================] - 8s 131us/step - loss: 0.5232 - val_loss: 0.5225\n",
            "Epoch 27/50\n",
            "60000/60000 [==============================] - 8s 131us/step - loss: 0.5229 - val_loss: 0.5232\n",
            "Epoch 28/50\n",
            "60000/60000 [==============================] - 8s 131us/step - loss: 0.5229 - val_loss: 0.5232\n",
            "Epoch 29/50\n",
            "60000/60000 [==============================] - 8s 131us/step - loss: 0.5228 - val_loss: 0.5225\n",
            "Epoch 30/50\n",
            "60000/60000 [==============================] - 8s 131us/step - loss: 0.5226 - val_loss: 0.5232\n",
            "Epoch 31/50\n",
            "60000/60000 [==============================] - 8s 131us/step - loss: 0.5226 - val_loss: 0.5224\n",
            "Epoch 32/50\n",
            "60000/60000 [==============================] - 8s 131us/step - loss: 0.5225 - val_loss: 0.5222\n",
            "Epoch 33/50\n",
            "60000/60000 [==============================] - 8s 132us/step - loss: 0.5223 - val_loss: 0.5217\n",
            "Epoch 34/50\n",
            "60000/60000 [==============================] - 8s 131us/step - loss: 0.5223 - val_loss: 0.5213\n",
            "Epoch 35/50\n",
            "60000/60000 [==============================] - 8s 131us/step - loss: 0.5223 - val_loss: 0.5225\n",
            "Epoch 36/50\n",
            "60000/60000 [==============================] - 8s 131us/step - loss: 0.5222 - val_loss: 0.5226\n",
            "Epoch 37/50\n",
            "60000/60000 [==============================] - 8s 131us/step - loss: 0.5219 - val_loss: 0.5215\n",
            "Epoch 38/50\n",
            "60000/60000 [==============================] - 8s 132us/step - loss: 0.5220 - val_loss: 0.5219\n",
            "Epoch 39/50\n",
            "60000/60000 [==============================] - 8s 131us/step - loss: 0.5220 - val_loss: 0.5212\n",
            "Epoch 40/50\n",
            "60000/60000 [==============================] - 8s 131us/step - loss: 0.5219 - val_loss: 0.5217\n",
            "Epoch 41/50\n",
            "60000/60000 [==============================] - 8s 131us/step - loss: 0.5217 - val_loss: 0.5210\n",
            "Epoch 42/50\n",
            "60000/60000 [==============================] - 8s 129us/step - loss: 0.5217 - val_loss: 0.5212\n",
            "Epoch 43/50\n",
            "60000/60000 [==============================] - 8s 129us/step - loss: 0.5217 - val_loss: 0.5216\n",
            "Epoch 44/50\n",
            "60000/60000 [==============================] - 8s 128us/step - loss: 0.5217 - val_loss: 0.5218\n",
            "Epoch 45/50\n",
            "60000/60000 [==============================] - 8s 129us/step - loss: 0.5216 - val_loss: 0.5213\n",
            "Epoch 46/50\n",
            "60000/60000 [==============================] - 8s 128us/step - loss: 0.5215 - val_loss: 0.5206\n",
            "Epoch 47/50\n",
            "60000/60000 [==============================] - 8s 127us/step - loss: 0.5215 - val_loss: 0.5215\n",
            "Epoch 48/50\n",
            "60000/60000 [==============================] - 8s 127us/step - loss: 0.5214 - val_loss: 0.5214\n",
            "Epoch 49/50\n",
            "60000/60000 [==============================] - 8s 127us/step - loss: 0.5214 - val_loss: 0.5203\n",
            "Epoch 50/50\n",
            "60000/60000 [==============================] - 8s 125us/step - loss: 0.5213 - val_loss: 0.5215\n"
          ],
          "name": "stdout"
        },
        {
          "output_type": "execute_result",
          "data": {
            "text/plain": [
              "<keras.callbacks.History at 0x7fad1110a400>"
            ]
          },
          "metadata": {
            "tags": []
          },
          "execution_count": 36
        }
      ]
    },
    {
      "cell_type": "code",
      "metadata": {
        "id": "_U_zm_jHgwRN",
        "colab_type": "code",
        "colab": {
          "base_uri": "https://localhost:8080/",
          "height": 244
        },
        "outputId": "8427bbaf-2131-4b96-e0b6-ebd135e2ae00"
      },
      "source": [
        "decoded_imgs = autoencoder.predict(x_test)\n",
        "\n",
        "# use Matplotlib (don't ask)\n",
        "import matplotlib.pyplot as plt\n",
        "\n",
        "n = 10  # how many digits we will display\n",
        "plt.figure(figsize=(20, 4))\n",
        "for i in range(n):\n",
        "    # display original\n",
        "    ax = plt.subplot(2, n, i + 1)\n",
        "    plt.imshow(x_test_noisy[i].reshape(28, 28))\n",
        "    plt.gray()\n",
        "    ax.get_xaxis().set_visible(False)\n",
        "    ax.get_yaxis().set_visible(False)\n",
        "\n",
        "    # display reconstruction\n",
        "    ax = plt.subplot(2, n, i + 1 + n)\n",
        "    plt.imshow(decoded_imgs[i].reshape(28, 28))\n",
        "    plt.gray()\n",
        "    ax.get_xaxis().set_visible(False)\n",
        "    ax.get_yaxis().set_visible(False)\n",
        "plt.show()"
      ],
      "execution_count": 39,
      "outputs": [
        {
          "output_type": "display_data",
          "data": {
            "image/png": "[encoded data removed]",
            "text/plain": [
              "<Figure size 1440x288 with 20 Axes>"
            ]
          },
          "metadata": {
            "tags": []
          }
        }
      ]
    },
    {
      "cell_type": "code",
      "metadata": {
        "id": "ACHCzf4RiWi6",
        "colab_type": "code",
        "colab": {}
      },
      "source": [
        ""
      ],
      "execution_count": 0,
      "outputs": []
    }
  ]
}