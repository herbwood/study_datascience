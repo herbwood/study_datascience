{
  "nbformat": 4,
  "nbformat_minor": 0,
  "metadata": {
    "colab": {
      "name": "03.numpy.ipynb",
      "version": "0.3.2",
      "provenance": [],
      "collapsed_sections": []
    },
    "kernelspec": {
      "name": "python3",
      "display_name": "Python 3"
    },
    "accelerator": "GPU"
  },
  "cells": [
    {
      "cell_type": "markdown",
      "metadata": {
        "id": "V0j_uJ79wo7D",
        "colab_type": "text"
      },
      "source": [
        "Numpy Basic\n",
        "====="
      ]
    },
    {
      "cell_type": "markdown",
      "metadata": {
        "id": "B9DZDiBLwt6r",
        "colab_type": "text"
      },
      "source": [
        "Numpy Basic\n",
        "-----"
      ]
    },
    {
      "cell_type": "code",
      "metadata": {
        "id": "kAJn6Baowjjd",
        "colab_type": "code",
        "outputId": "88c327bf-f7fa-4682-af7c-d5dcd9cd29bd",
        "colab": {
          "base_uri": "https://localhost:8080/",
          "height": 35
        }
      },
      "source": [
        "import numpy as np\n",
        "\n",
        "a = np.array([2,3,4])\n",
        "a"
      ],
      "execution_count": 0,
      "outputs": [
        {
          "output_type": "execute_result",
          "data": {
            "text/plain": [
              "array([2, 3, 4])"
            ]
          },
          "metadata": {
            "tags": []
          },
          "execution_count": 1
        }
      ]
    },
    {
      "cell_type": "code",
      "metadata": {
        "id": "YRVVgu6_w5V3",
        "colab_type": "code",
        "outputId": "6eea99b9-c726-412f-eaf5-8b5746965442",
        "colab": {
          "base_uri": "https://localhost:8080/",
          "height": 35
        }
      },
      "source": [
        "a.dtype"
      ],
      "execution_count": 0,
      "outputs": [
        {
          "output_type": "execute_result",
          "data": {
            "text/plain": [
              "dtype('int64')"
            ]
          },
          "metadata": {
            "tags": []
          },
          "execution_count": 2
        }
      ]
    },
    {
      "cell_type": "code",
      "metadata": {
        "id": "Oh6_eY9Qw6Ao",
        "colab_type": "code",
        "outputId": "0d81c69a-b52c-466b-f425-c83283abf23d",
        "colab": {
          "base_uri": "https://localhost:8080/",
          "height": 35
        }
      },
      "source": [
        "b = np.array([1.2, 3.5, 5.1])\n",
        "b.dtype"
      ],
      "execution_count": 0,
      "outputs": [
        {
          "output_type": "execute_result",
          "data": {
            "text/plain": [
              "dtype('float64')"
            ]
          },
          "metadata": {
            "tags": []
          },
          "execution_count": 3
        }
      ]
    },
    {
      "cell_type": "code",
      "metadata": {
        "id": "APn47Cqzw9h4",
        "colab_type": "code",
        "outputId": "d5550334-b18b-4885-8b19-e0a0c6667874",
        "colab": {
          "base_uri": "https://localhost:8080/",
          "height": 52
        }
      },
      "source": [
        "b = np.array([(1.5, 2, 3),\n",
        "            (4, 5, 6)])\n",
        "b"
      ],
      "execution_count": 0,
      "outputs": [
        {
          "output_type": "execute_result",
          "data": {
            "text/plain": [
              "array([[1.5, 2. , 3. ],\n",
              "       [4. , 5. , 6. ]])"
            ]
          },
          "metadata": {
            "tags": []
          },
          "execution_count": 6
        }
      ]
    },
    {
      "cell_type": "code",
      "metadata": {
        "id": "UlpQjtVbxaBy",
        "colab_type": "code",
        "outputId": "7d5ee5c3-7201-41f8-9bbf-13f2b58e41ff",
        "colab": {
          "base_uri": "https://localhost:8080/",
          "height": 70
        }
      },
      "source": [
        "np.zeros((3,4))"
      ],
      "execution_count": 0,
      "outputs": [
        {
          "output_type": "execute_result",
          "data": {
            "text/plain": [
              "array([[0., 0., 0., 0.],\n",
              "       [0., 0., 0., 0.],\n",
              "       [0., 0., 0., 0.]])"
            ]
          },
          "metadata": {
            "tags": []
          },
          "execution_count": 7
        }
      ]
    },
    {
      "cell_type": "code",
      "metadata": {
        "id": "u-L9Ws7Xxvsk",
        "colab_type": "code",
        "outputId": "465bb852-c52f-4db7-ae49-eeac07b1c26e",
        "colab": {
          "base_uri": "https://localhost:8080/",
          "height": 141
        }
      },
      "source": [
        "np.ones((2,3,4), dtype = np.int16)"
      ],
      "execution_count": 0,
      "outputs": [
        {
          "output_type": "execute_result",
          "data": {
            "text/plain": [
              "array([[[1, 1, 1, 1],\n",
              "        [1, 1, 1, 1],\n",
              "        [1, 1, 1, 1]],\n",
              "\n",
              "       [[1, 1, 1, 1],\n",
              "        [1, 1, 1, 1],\n",
              "        [1, 1, 1, 1]]], dtype=int16)"
            ]
          },
          "metadata": {
            "tags": []
          },
          "execution_count": 8
        }
      ]
    },
    {
      "cell_type": "code",
      "metadata": {
        "id": "dv5UHZnzxzxm",
        "colab_type": "code",
        "outputId": "bb34e1b4-fd76-4723-92ea-ff719dec41ba",
        "colab": {
          "base_uri": "https://localhost:8080/",
          "height": 52
        }
      },
      "source": [
        "np.empty((2, 3))"
      ],
      "execution_count": 0,
      "outputs": [
        {
          "output_type": "execute_result",
          "data": {
            "text/plain": [
              "array([[0.3, 0.6, 0.9],\n",
              "       [1.2, 1.5, 1.8]])"
            ]
          },
          "metadata": {
            "tags": []
          },
          "execution_count": 20
        }
      ]
    },
    {
      "cell_type": "code",
      "metadata": {
        "id": "ZszhqHSxx4ai",
        "colab_type": "code",
        "outputId": "562367ef-e836-4132-d570-33d8e6c1a57d",
        "colab": {
          "base_uri": "https://localhost:8080/",
          "height": 35
        }
      },
      "source": [
        "np.arange(10, 30, 5)"
      ],
      "execution_count": 0,
      "outputs": [
        {
          "output_type": "execute_result",
          "data": {
            "text/plain": [
              "array([10, 15, 20, 25])"
            ]
          },
          "metadata": {
            "tags": []
          },
          "execution_count": 10
        }
      ]
    },
    {
      "cell_type": "code",
      "metadata": {
        "id": "D3VPFajhybT6",
        "colab_type": "code",
        "outputId": "38e5bd1a-b27b-49fd-c9ff-6c7ea85de039",
        "colab": {
          "base_uri": "https://localhost:8080/",
          "height": 35
        }
      },
      "source": [
        "np.arange(0, 2, 0.3)"
      ],
      "execution_count": 0,
      "outputs": [
        {
          "output_type": "execute_result",
          "data": {
            "text/plain": [
              "array([0. , 0.3, 0.6, 0.9, 1.2, 1.5, 1.8])"
            ]
          },
          "metadata": {
            "tags": []
          },
          "execution_count": 11
        }
      ]
    },
    {
      "cell_type": "code",
      "metadata": {
        "id": "4nZp91PjyeG5",
        "colab_type": "code",
        "outputId": "14e3e46a-658d-4a20-80f5-24720876c7fa",
        "colab": {
          "base_uri": "https://localhost:8080/",
          "height": 35
        }
      },
      "source": [
        "from numpy import pi\n",
        "\n",
        "np.linspace(0, 2, 9)"
      ],
      "execution_count": 0,
      "outputs": [
        {
          "output_type": "execute_result",
          "data": {
            "text/plain": [
              "array([0.  , 0.25, 0.5 , 0.75, 1.  , 1.25, 1.5 , 1.75, 2.  ])"
            ]
          },
          "metadata": {
            "tags": []
          },
          "execution_count": 13
        }
      ]
    },
    {
      "cell_type": "code",
      "metadata": {
        "id": "jMS0qbXKzBgQ",
        "colab_type": "code",
        "outputId": "ec22600f-dd78-46eb-fa62-12801dd9fbfd",
        "colab": {
          "base_uri": "https://localhost:8080/",
          "height": 70
        }
      },
      "source": [
        "x = np.linspace(0, 2 * pi, 10)\n",
        "f = np.sin(x)\n",
        "f"
      ],
      "execution_count": 0,
      "outputs": [
        {
          "output_type": "execute_result",
          "data": {
            "text/plain": [
              "array([ 0.00000000e+00,  6.42787610e-01,  9.84807753e-01,  8.66025404e-01,\n",
              "        3.42020143e-01, -3.42020143e-01, -8.66025404e-01, -9.84807753e-01,\n",
              "       -6.42787610e-01, -2.44929360e-16])"
            ]
          },
          "metadata": {
            "tags": []
          },
          "execution_count": 16
        }
      ]
    },
    {
      "cell_type": "code",
      "metadata": {
        "id": "9U6gMC-RzKAd",
        "colab_type": "code",
        "outputId": "412ceba2-4780-45b4-98bf-43bbfe885491",
        "colab": {
          "base_uri": "https://localhost:8080/",
          "height": 35
        }
      },
      "source": [
        "# upcasting : 상위 자료형에 맞춰서 자료가 생성됨\n",
        "np.array([1,2, 3.0])\n"
      ],
      "execution_count": 0,
      "outputs": [
        {
          "output_type": "execute_result",
          "data": {
            "text/plain": [
              "array([1., 2., 3.])"
            ]
          },
          "metadata": {
            "tags": []
          },
          "execution_count": 17
        }
      ]
    },
    {
      "cell_type": "code",
      "metadata": {
        "id": "CpH8rCbAzV-t",
        "colab_type": "code",
        "outputId": "aca026c8-c927-4bfd-a64e-cac33d368788",
        "colab": {
          "base_uri": "https://localhost:8080/",
          "height": 35
        }
      },
      "source": [
        "# dimension 설정 가능\n",
        "np.array([1,2,3], ndmin = 2)"
      ],
      "execution_count": 0,
      "outputs": [
        {
          "output_type": "execute_result",
          "data": {
            "text/plain": [
              "array([[1, 2, 3]])"
            ]
          },
          "metadata": {
            "tags": []
          },
          "execution_count": 19
        }
      ]
    },
    {
      "cell_type": "code",
      "metadata": {
        "id": "RtSWPu6Xzboi",
        "colab_type": "code",
        "outputId": "c1f78b74-7604-4858-aad0-09c7a09b7c6a",
        "colab": {
          "base_uri": "https://localhost:8080/",
          "height": 52
        }
      },
      "source": [
        "x = np.arange(6)\n",
        "x = x.reshape((2,3))\n",
        "x"
      ],
      "execution_count": 0,
      "outputs": [
        {
          "output_type": "execute_result",
          "data": {
            "text/plain": [
              "array([[0, 1, 2],\n",
              "       [3, 4, 5]])"
            ]
          },
          "metadata": {
            "tags": []
          },
          "execution_count": 21
        }
      ]
    },
    {
      "cell_type": "code",
      "metadata": {
        "id": "5th59ty82czm",
        "colab_type": "code",
        "outputId": "dfd91774-fd81-44a1-a7d8-8da45281eecb",
        "colab": {
          "base_uri": "https://localhost:8080/",
          "height": 52
        }
      },
      "source": [
        "# x의 모양으로 0으로 채워라 -> 일일히 width, height를 지정할 필요없이 image shape와 같은 크기의 공간 생성 가능\n",
        "np.zeros_like(x)"
      ],
      "execution_count": 0,
      "outputs": [
        {
          "output_type": "execute_result",
          "data": {
            "text/plain": [
              "array([[0, 0, 0],\n",
              "       [0, 0, 0]])"
            ]
          },
          "metadata": {
            "tags": []
          },
          "execution_count": 23
        }
      ]
    },
    {
      "cell_type": "code",
      "metadata": {
        "id": "6XJ9AxA13-m6",
        "colab_type": "code",
        "outputId": "d85562df-c8db-4792-bdb0-57254e0825e7",
        "colab": {
          "base_uri": "https://localhost:8080/",
          "height": 52
        }
      },
      "source": [
        "np.ones_like(x)"
      ],
      "execution_count": 0,
      "outputs": [
        {
          "output_type": "execute_result",
          "data": {
            "text/plain": [
              "array([[1, 1, 1],\n",
              "       [1, 1, 1]])"
            ]
          },
          "metadata": {
            "tags": []
          },
          "execution_count": 28
        }
      ]
    },
    {
      "cell_type": "code",
      "metadata": {
        "id": "LtrWXsAl2fqF",
        "colab_type": "code",
        "outputId": "7b40d546-03f6-445d-d3f6-2f3fd39c32e5",
        "colab": {
          "base_uri": "https://localhost:8080/",
          "height": 35
        }
      },
      "source": [
        "y = np.arange(3, dtype = float)\n",
        "y"
      ],
      "execution_count": 0,
      "outputs": [
        {
          "output_type": "execute_result",
          "data": {
            "text/plain": [
              "array([0., 1., 2.])"
            ]
          },
          "metadata": {
            "tags": []
          },
          "execution_count": 24
        }
      ]
    },
    {
      "cell_type": "code",
      "metadata": {
        "id": "D5CGwVHb3j2t",
        "colab_type": "code",
        "outputId": "0d9cf57c-bec8-4782-f636-3d37b05b443b",
        "colab": {
          "base_uri": "https://localhost:8080/",
          "height": 35
        }
      },
      "source": [
        "np.zeros_like(y)"
      ],
      "execution_count": 0,
      "outputs": [
        {
          "output_type": "execute_result",
          "data": {
            "text/plain": [
              "array([0., 0., 0.])"
            ]
          },
          "metadata": {
            "tags": []
          },
          "execution_count": 25
        }
      ]
    },
    {
      "cell_type": "code",
      "metadata": {
        "id": "dncDnZSX3mLj",
        "colab_type": "code",
        "outputId": "61aa4fd6-ed51-431f-ad41-687386eac6ed",
        "colab": {
          "base_uri": "https://localhost:8080/",
          "height": 52
        }
      },
      "source": [
        "ones_float = np.ones(5)\n",
        "ones_int = np.ones((5,), dtype = int)\n",
        "print(ones_float)\n",
        "print(ones_int)"
      ],
      "execution_count": 0,
      "outputs": [
        {
          "output_type": "stream",
          "text": [
            "[1. 1. 1. 1. 1.]\n",
            "[1 1 1 1 1]\n"
          ],
          "name": "stdout"
        }
      ]
    },
    {
      "cell_type": "code",
      "metadata": {
        "id": "uWe4K-KG30kH",
        "colab_type": "code",
        "outputId": "baf7be99-57ee-4cf7-ed98-79b33da0f7b2",
        "colab": {
          "base_uri": "https://localhost:8080/",
          "height": 52
        }
      },
      "source": [
        "# 크기 미리 설정 가능\n",
        "s = (2,2)\n",
        "np.ones(s)"
      ],
      "execution_count": 0,
      "outputs": [
        {
          "output_type": "execute_result",
          "data": {
            "text/plain": [
              "array([[1., 1.],\n",
              "       [1., 1.]])"
            ]
          },
          "metadata": {
            "tags": []
          },
          "execution_count": 27
        }
      ]
    },
    {
      "cell_type": "code",
      "metadata": {
        "id": "iVugBkZk351l",
        "colab_type": "code",
        "outputId": "8d04ecbd-6cf8-4efb-af41-c52f28025e7f",
        "colab": {
          "base_uri": "https://localhost:8080/",
          "height": 70
        }
      },
      "source": [
        "np.random.rand(3,2)"
      ],
      "execution_count": 0,
      "outputs": [
        {
          "output_type": "execute_result",
          "data": {
            "text/plain": [
              "array([[0.27783583, 0.342745  ],\n",
              "       [0.48489753, 0.492726  ],\n",
              "       [0.08932813, 0.19058719]])"
            ]
          },
          "metadata": {
            "tags": []
          },
          "execution_count": 29
        }
      ]
    },
    {
      "cell_type": "code",
      "metadata": {
        "id": "-f9Bupwk4Z27",
        "colab_type": "code",
        "outputId": "b9356ead-2954-43fe-9875-bf73379b4c1a",
        "colab": {
          "base_uri": "https://localhost:8080/",
          "height": 106
        }
      },
      "source": [
        "# elementwise operation -> powerful!!!!!\n",
        "a = np.array([20,30,40,50])\n",
        "b = np.arange(4)\n",
        "c = a - b\n",
        "\n",
        "print(b)\n",
        "print(c)\n",
        "print(b ** 2) \n",
        "print(10 * np.sin(a))\n",
        "print(a < 35)"
      ],
      "execution_count": 0,
      "outputs": [
        {
          "output_type": "stream",
          "text": [
            "[0 1 2 3]\n",
            "[20 29 38 47]\n",
            "[0 1 4 9]\n",
            "[ 9.12945251 -9.88031624  7.4511316  -2.62374854]\n",
            "[ True  True False False]\n"
          ],
          "name": "stdout"
        }
      ]
    },
    {
      "cell_type": "code",
      "metadata": {
        "id": "bYUyQ9L-43jQ",
        "colab_type": "code",
        "outputId": "3f69f992-80d8-4baf-b2c2-40abcf63c3e7",
        "colab": {
          "base_uri": "https://localhost:8080/",
          "height": 124
        }
      },
      "source": [
        "# matrix operations\n",
        "A = np.array([[2,3],\n",
        "             [0,5]])\n",
        "B = np.array([[2,0],\n",
        "             [3,4]])\n",
        "print(A * B) # element별 곱\n",
        "print(A @ B) # 내적\n",
        "print(A.dot(B))"
      ],
      "execution_count": 0,
      "outputs": [
        {
          "output_type": "stream",
          "text": [
            "[[ 4  0]\n",
            " [ 0 20]]\n",
            "[[13 12]\n",
            " [15 20]]\n",
            "[[13 12]\n",
            " [15 20]]\n"
          ],
          "name": "stdout"
        }
      ]
    },
    {
      "cell_type": "code",
      "metadata": {
        "id": "dQ1EkvOm526q",
        "colab_type": "code",
        "outputId": "3141d719-2940-41a1-c0b4-8f88aa807d15",
        "colab": {
          "base_uri": "https://localhost:8080/",
          "height": 88
        }
      },
      "source": [
        "a = np.ones((2,3), dtype = int)\n",
        "b = np.random.random((2,3))\n",
        "a *= 3\n",
        "print(a)\n",
        "b += a\n",
        "print(b)"
      ],
      "execution_count": 0,
      "outputs": [
        {
          "output_type": "stream",
          "text": [
            "[[3 3 3]\n",
            " [3 3 3]]\n",
            "[[3.49428917 3.65553858 3.38671491]\n",
            " [3.31476926 3.51749516 3.67493083]]\n"
          ],
          "name": "stdout"
        }
      ]
    },
    {
      "cell_type": "code",
      "metadata": {
        "id": "c6Z2ql7d6uVU",
        "colab_type": "code",
        "outputId": "ef34ec33-a2a6-49af-c4be-d6be843b6fbc",
        "colab": {
          "base_uri": "https://localhost:8080/",
          "height": 106
        }
      },
      "source": [
        "a = np.random.random((2,3))\n",
        "print(a)\n",
        "print(a.sum())\n",
        "print(a.min())\n",
        "print(a.max())"
      ],
      "execution_count": 0,
      "outputs": [
        {
          "output_type": "stream",
          "text": [
            "[[0.85853205 0.15545039 0.31285416]\n",
            " [0.03385172 0.08823332 0.49767733]]\n",
            "1.9465989782869064\n",
            "0.03385171883280225\n",
            "0.8585320535445339\n"
          ],
          "name": "stdout"
        }
      ]
    },
    {
      "cell_type": "code",
      "metadata": {
        "id": "OpKD7ydm-pM4",
        "colab_type": "code",
        "outputId": "a912d698-4332-473c-e10c-d595bc2c71ee",
        "colab": {
          "base_uri": "https://localhost:8080/",
          "height": 159
        }
      },
      "source": [
        "b = np.arange(12).reshape(3, 4)\n",
        "print(b)\n",
        "print(b.sum(axis=0)) # axis=0이면 가로축을 더하는 것이다. -> 축을 따라 연산함\n",
        "print(b.min(axis=1)) # 세로축을 따라 최솟값을 구함\n",
        "print(b.cumsum(axis=1)) "
      ],
      "execution_count": 0,
      "outputs": [
        {
          "output_type": "stream",
          "text": [
            "[[ 0  1  2  3]\n",
            " [ 4  5  6  7]\n",
            " [ 8  9 10 11]]\n",
            "[12 15 18 21]\n",
            "[0 4 8]\n",
            "[[ 0  1  3  6]\n",
            " [ 4  9 15 22]\n",
            " [ 8 17 27 38]]\n"
          ],
          "name": "stdout"
        }
      ]
    },
    {
      "cell_type": "code",
      "metadata": {
        "id": "qJXiqHFn_G75",
        "colab_type": "code",
        "outputId": "fafa4883-17f0-44d4-92fb-188d597a17b8",
        "colab": {
          "base_uri": "https://localhost:8080/",
          "height": 88
        }
      },
      "source": [
        "# universal functions\n",
        "B = np.arange(3)\n",
        "print(B)\n",
        "print(np.exp(B))\n",
        "print(np.sqrt(B))\n",
        "\n",
        "C = np.array([2., -1., 4.])\n",
        "print(np.add(B,C))"
      ],
      "execution_count": 0,
      "outputs": [
        {
          "output_type": "stream",
          "text": [
            "[0 1 2]\n",
            "[1.         2.71828183 7.3890561 ]\n",
            "[0.         1.         1.41421356]\n",
            "[2. 0. 6.]\n"
          ],
          "name": "stdout"
        }
      ]
    },
    {
      "cell_type": "code",
      "metadata": {
        "id": "YUKH5Pj1AYKe",
        "colab_type": "code",
        "outputId": "31932cd4-da1a-4d1f-e584-f5b8417ad97a",
        "colab": {
          "base_uri": "https://localhost:8080/",
          "height": 106
        }
      },
      "source": [
        "a = np.arange(6).reshape(2,3) + 10\n",
        "print(a)\n",
        "print(np.argmax(a))\n",
        "print(np.argmax(a, axis=0))\n",
        "print(np.argmax(a, axis=1))"
      ],
      "execution_count": 0,
      "outputs": [
        {
          "output_type": "stream",
          "text": [
            "[[10 11 12]\n",
            " [13 14 15]]\n",
            "5\n",
            "[1 1 1]\n",
            "[2 2]\n"
          ],
          "name": "stdout"
        }
      ]
    },
    {
      "cell_type": "code",
      "metadata": {
        "id": "7Gnj6JjuAzJH",
        "colab_type": "code",
        "outputId": "c70568ed-f715-4c6f-cfae-df66b4d3afa2",
        "colab": {
          "base_uri": "https://localhost:8080/",
          "height": 35
        }
      },
      "source": [
        "# 오른쪽 가장 가까이 있는 정수로 변환\n",
        "a = np.array([-1.7, -1.5, -0.2, 0.2, 1.5, 1.7, 2.0])\n",
        "np.ceil(a)"
      ],
      "execution_count": 0,
      "outputs": [
        {
          "output_type": "execute_result",
          "data": {
            "text/plain": [
              "array([-1., -1., -0.,  1.,  2.,  2.,  2.])"
            ]
          },
          "metadata": {
            "tags": []
          },
          "execution_count": 53
        }
      ]
    },
    {
      "cell_type": "code",
      "metadata": {
        "id": "nrH3-URuBiu-",
        "colab_type": "code",
        "outputId": "c484d87c-baa2-43e1-b9ee-5138c6239631",
        "colab": {
          "base_uri": "https://localhost:8080/",
          "height": 35
        }
      },
      "source": [
        "# 왼쪽 가장 가까이 있는 정수로 변환\n",
        "print(np.floor(a))"
      ],
      "execution_count": 0,
      "outputs": [
        {
          "output_type": "stream",
          "text": [
            "[-2. -2. -1.  0.  1.  1.  2.]\n"
          ],
          "name": "stdout"
        }
      ]
    },
    {
      "cell_type": "code",
      "metadata": {
        "id": "OrLYyz6dCBl5",
        "colab_type": "code",
        "outputId": "31ad61dc-a64e-45c7-97b9-6476957c746f",
        "colab": {
          "base_uri": "https://localhost:8080/",
          "height": 88
        }
      },
      "source": [
        "# 범위의 상한과 하한을 제한할 수 있다\n",
        "a = np.arange(10)\n",
        "print(a)\n",
        "print(np.clip(a, 1, 8))\n",
        "print(np.clip(a,3,6,out=a))\n",
        "print(np.clip(a, [3,4,1,1,1,4,4,4,4,4], 8)) # 두 array를 비교해서 큰 값을 잡아주고 상한 값을 8로 잡아줌"
      ],
      "execution_count": 0,
      "outputs": [
        {
          "output_type": "stream",
          "text": [
            "[0 1 2 3 4 5 6 7 8 9]\n",
            "[1 1 2 3 4 5 6 7 8 8]\n",
            "[3 3 3 3 4 5 6 6 6 6]\n",
            "[3 4 3 3 4 5 6 6 6 6]\n"
          ],
          "name": "stdout"
        }
      ]
    },
    {
      "cell_type": "code",
      "metadata": {
        "id": "YacDd--DDPQ7",
        "colab_type": "code",
        "outputId": "eb1e9cf7-196c-43b4-bc4b-1edcf8ad7c9a",
        "colab": {
          "base_uri": "https://localhost:8080/",
          "height": 70
        }
      },
      "source": [
        "a = np.array([[1,2], [3,4]])\n",
        "print(np.mean(a))\n",
        "print(np.mean(a, axis=0))\n",
        "print(np.mean(a, axis=1))"
      ],
      "execution_count": 0,
      "outputs": [
        {
          "output_type": "stream",
          "text": [
            "2.5\n",
            "[2. 3.]\n",
            "[1.5 3.5]\n"
          ],
          "name": "stdout"
        }
      ]
    },
    {
      "cell_type": "code",
      "metadata": {
        "id": "HNEk8gNrD7Qu",
        "colab_type": "code",
        "outputId": "477a1050-f47a-49f5-ee6e-9d9d1e0751ce",
        "colab": {
          "base_uri": "https://localhost:8080/",
          "height": 106
        }
      },
      "source": [
        "# 중간값\n",
        "a = np.array([[10,7,4], [3,2,1]])\n",
        "print(a)\n",
        "print(np.median(a))\n",
        "print(np.median(a, axis=0))\n",
        "print(np.median(a, axis=1))"
      ],
      "execution_count": 0,
      "outputs": [
        {
          "output_type": "stream",
          "text": [
            "[[10  7  4]\n",
            " [ 3  2  1]]\n",
            "3.5\n",
            "[6.5 4.5 2.5]\n",
            "[7. 2.]\n"
          ],
          "name": "stdout"
        }
      ]
    },
    {
      "cell_type": "code",
      "metadata": {
        "id": "6vWrWmTGEOs5",
        "colab_type": "code",
        "outputId": "659eef56-12db-4d56-f72a-1e68531bf9c1",
        "colab": {
          "base_uri": "https://localhost:8080/",
          "height": 52
        }
      },
      "source": [
        "# 조건을 만족하는 값에 대한 연산\n",
        "a = np.arange(10)\n",
        "print(a)\n",
        "print(np.where(a < 5, a, 10 * a))"
      ],
      "execution_count": 0,
      "outputs": [
        {
          "output_type": "stream",
          "text": [
            "[0 1 2 3 4 5 6 7 8 9]\n",
            "[ 0  1  2  3  4 50 60 70 80 90]\n"
          ],
          "name": "stdout"
        }
      ]
    },
    {
      "cell_type": "code",
      "metadata": {
        "id": "b2FsM5KcEX1n",
        "colab_type": "code",
        "outputId": "30637501-c013-43d3-8bf6-28e670686444",
        "colab": {
          "base_uri": "https://localhost:8080/",
          "height": 124
        }
      },
      "source": [
        "a = np.array([[1,2], [3,4]])\n",
        "b = np.array([[5,6]])\n",
        "print(np.concatenate((a,b), axis=0))\n",
        "print(np.concatenate((a,b.T), axis = 1))\n",
        "print(np.concatenate((a,b), axis=None))"
      ],
      "execution_count": 0,
      "outputs": [
        {
          "output_type": "stream",
          "text": [
            "[[1 2]\n",
            " [3 4]\n",
            " [5 6]]\n",
            "[[1 2 5]\n",
            " [3 4 6]]\n",
            "[1 2 3 4 5 6]\n"
          ],
          "name": "stdout"
        }
      ]
    },
    {
      "cell_type": "code",
      "metadata": {
        "id": "KvzuRsLRGyCm",
        "colab_type": "code",
        "outputId": "97ac1f5b-af76-431b-dd92-efad0c291cdc",
        "colab": {
          "base_uri": "https://localhost:8080/",
          "height": 70
        }
      },
      "source": [
        "x = np.array([[[0], [1], [2]]])\n",
        "print(x.shape)\n",
        "print(np.squeeze(x).shape)\n",
        "print(np.squeeze(x, axis=0).shape)\n",
        "# print(np.squeeze(x, axis=1).shape)"
      ],
      "execution_count": 0,
      "outputs": [
        {
          "output_type": "stream",
          "text": [
            "(1, 3, 1)\n",
            "(3,)\n",
            "(3, 1)\n"
          ],
          "name": "stdout"
        }
      ]
    },
    {
      "cell_type": "markdown",
      "metadata": {
        "id": "liRsIocTTViA",
        "colab_type": "text"
      },
      "source": [
        "Activation Function\n",
        "-------"
      ]
    },
    {
      "cell_type": "code",
      "metadata": {
        "id": "6LYUTAt2HUPV",
        "colab_type": "code",
        "colab": {}
      },
      "source": [
        "import numpy as np\n",
        "import matplotlib.pyplot as plt"
      ],
      "execution_count": 0,
      "outputs": []
    },
    {
      "cell_type": "code",
      "metadata": {
        "id": "4PmCJwpUPxo6",
        "colab_type": "code",
        "outputId": "8f58f93e-7b8e-4997-a57f-a8ec8598a737",
        "colab": {
          "base_uri": "https://localhost:8080/",
          "height": 304
        }
      },
      "source": [
        "# step function\n",
        "def step_function(x):\n",
        "  return np.array(x > 0, dtype = np.int)\n",
        "\n",
        "x = np.arange(-5.0, 5.0, 0.1)\n",
        "print(x[:10])\n",
        "\n",
        "y = step_function(x)\n",
        "print(y[:10])\n",
        "\n",
        "plt.plot(x, y)\n",
        "plt.ylim(-0.1, 1.1)\n",
        "plt.show()"
      ],
      "execution_count": 0,
      "outputs": [
        {
          "output_type": "stream",
          "text": [
            "[-5.  -4.9 -4.8 -4.7 -4.6 -4.5 -4.4 -4.3 -4.2 -4.1]\n",
            "[0 0 0 0 0 0 0 0 0 0]\n"
          ],
          "name": "stdout"
        },
        {
          "output_type": "display_data",
          "data": {
            "image/png": "[encoded data removed]",
            "text/plain": [
              "<Figure size 432x288 with 1 Axes>"
            ]
          },
          "metadata": {
            "tags": []
          }
        }
      ]
    },
    {
      "cell_type": "code",
      "metadata": {
        "id": "vWNlC1_STvqk",
        "colab_type": "code",
        "outputId": "063ac804-de78-484d-e9e6-2d7c79f4295d",
        "colab": {
          "base_uri": "https://localhost:8080/",
          "height": 269
        }
      },
      "source": [
        "# sigmoid\n",
        "def sigmoid(x):\n",
        "  return 1 / (1 + np.exp(-x))\n",
        "\n",
        "x = np.arange(-5.0, 5.0, 0.1)\n",
        "y = sigmoid(x)\n",
        "\n",
        "plt.plot(x, y)\n",
        "plt.ylim(-0.1, 1.1)\n",
        "plt.show()"
      ],
      "execution_count": 0,
      "outputs": [
        {
          "output_type": "display_data",
          "data": {
            "image/png": "[encoded data removed]",
            "text/plain": [
              "<Figure size 432x288 with 1 Axes>"
            ]
          },
          "metadata": {
            "tags": []
          }
        }
      ]
    },
    {
      "cell_type": "code",
      "metadata": {
        "id": "lTZYiTd_UEn7",
        "colab_type": "code",
        "outputId": "fd3ad20d-71b2-46c1-938e-a0c7acc15f70",
        "colab": {
          "base_uri": "https://localhost:8080/",
          "height": 269
        }
      },
      "source": [
        "# relu\n",
        "def relu(x):\n",
        "  return np.maximum(0, x)\n",
        "\n",
        "x = np.arange(-5.0, 5.0, 0.1)\n",
        "y = relu(x)\n",
        "\n",
        "plt.plot(x, y)\n",
        "plt.ylim(-0.1, 1.1)\n",
        "plt.xlim(-1.0, 1.1)\n",
        "plt.show()"
      ],
      "execution_count": 0,
      "outputs": [
        {
          "output_type": "display_data",
          "data": {
            "image/png": "[encoded data removed]",
            "text/plain": [
              "<Figure size 432x288 with 1 Axes>"
            ]
          },
          "metadata": {
            "tags": []
          }
        }
      ]
    },
    {
      "cell_type": "code",
      "metadata": {
        "id": "CWF25S5sUdtA",
        "colab_type": "code",
        "outputId": "4673f6bc-5300-45c2-abdd-c72821d371e2",
        "colab": {
          "base_uri": "https://localhost:8080/",
          "height": 70
        }
      },
      "source": [
        "# softmax\n",
        "def softmax(x):\n",
        "  exp_x = np.exp(x)\n",
        "  sum_exp_x = np.sum(exp_x)\n",
        "  y = exp_x / sum_exp_x\n",
        "  \n",
        "  return y\n",
        "\n",
        "vector = np.array([0.3, 2.9, 4.0])\n",
        "result = softmax(vector)\n",
        "print(result)\n",
        "print(np.argmax(result))\n",
        "print(result[np.argmax(result)])"
      ],
      "execution_count": 0,
      "outputs": [
        {
          "output_type": "stream",
          "text": [
            "[0.01821127 0.24519181 0.73659691]\n",
            "2\n",
            "0.7365969137693785\n"
          ],
          "name": "stdout"
        }
      ]
    },
    {
      "cell_type": "code",
      "metadata": {
        "id": "Yh4nDUoQVTGJ",
        "colab_type": "code",
        "colab": {}
      },
      "source": [
        ""
      ],
      "execution_count": 0,
      "outputs": []
    }
  ]
}