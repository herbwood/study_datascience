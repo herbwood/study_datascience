{
 "cells": [
  {
   "cell_type": "markdown",
   "metadata": {},
   "source": [
    "Random Forest\n",
    "=========="
   ]
  },
  {
   "cell_type": "markdown",
   "metadata": {},
   "source": [
    "Basic Steps\n",
    "-------"
   ]
  },
  {
   "cell_type": "code",
   "execution_count": 1,
   "metadata": {},
   "outputs": [
    {
     "name": "stdout",
     "output_type": "stream",
     "text": [
      "[0.14205973 0.76664038 0.0282433  0.06305659]\n",
      "[1]\n"
     ]
    }
   ],
   "source": [
    "from sklearn.ensemble import RandomForestClassifier\n",
    "from sklearn.datasets import make_classification\n",
    "\n",
    "# n_informative : 독립 변수 중 종속 변수와 상관관계가 있는 성분의 수\n",
    "# n_redundant : 독립 변수 중 다른 독립 변수의 선형 조합으로 나타나는 성분의 수\n",
    "X, y = make_classification(n_samples = 1000, n_features = 4,\n",
    "                          n_informative = 2, n_redundant = 0,\n",
    "                          random_state = 0, shuffle = False)\n",
    "# n_estimators : the number of trees in the forest(default = 10)\n",
    "# max_depth : the maximum depth of the tree\n",
    "clf = RandomForestClassifier(n_estimators = 100, max_depth = 2,\n",
    "                            random_state = 0)\n",
    "clf.fit(X, y)\n",
    "print(clf.feature_importances_)\n",
    "print(clf.predict([[0, 0, 0, 0]]))"
   ]
  },
  {
   "cell_type": "markdown",
   "metadata": {},
   "source": [
    "Example : Digits Classification\n",
    "    -------------"
   ]
  },
  {
   "cell_type": "code",
   "execution_count": 2,
   "metadata": {},
   "outputs": [],
   "source": [
    "from sklearn.datasets import load_digits\n",
    "from sklearn.model_selection import train_test_split\n",
    "\n",
    "digits = load_digits()\n",
    "\n",
    "X_train, X_test, y_train, y_test = train_test_split(digits.data, digits.target,\n",
    "                                                   random_state = 0)\n",
    "clf = RandomForestClassifier(n_estimators = 1000)\n",
    "clf.fit(X_train, y_train)\n",
    "pred = clf.predict(X_test)"
   ]
  },
  {
   "cell_type": "code",
   "execution_count": 3,
   "metadata": {},
   "outputs": [
    {
     "name": "stdout",
     "output_type": "stream",
     "text": [
      "             precision    recall  f1-score   support\n",
      "\n",
      "          0       1.00      0.97      0.99        38\n",
      "          1       1.00      0.98      0.99        44\n",
      "          2       0.95      1.00      0.98        42\n",
      "          3       0.98      0.98      0.98        45\n",
      "          4       0.97      1.00      0.99        37\n",
      "          5       0.98      0.98      0.98        48\n",
      "          6       1.00      1.00      1.00        52\n",
      "          7       1.00      0.96      0.98        50\n",
      "          8       0.96      0.98      0.97        47\n",
      "          9       0.98      0.98      0.98        47\n",
      "\n",
      "avg / total       0.98      0.98      0.98       450\n",
      "\n"
     ]
    }
   ],
   "source": [
    "#  classification_report : build a text report showing the main\n",
    "# classification metrics\n",
    "from sklearn import metrics\n",
    "print(metrics.classification_report(pred, y_test))"
   ]
  },
  {
   "cell_type": "code",
   "execution_count": null,
   "metadata": {},
   "outputs": [],
   "source": []
  }
 ],
 "metadata": {
  "kernelspec": {
   "display_name": "Python 3",
   "language": "python",
   "name": "python3"
  },
  "language_info": {
   "codemirror_mode": {
    "name": "ipython",
    "version": 3
   },
   "file_extension": ".py",
   "mimetype": "text/x-python",
   "name": "python",
   "nbconvert_exporter": "python",
   "pygments_lexer": "ipython3",
   "version": "3.6.5"
  }
 },
 "nbformat": 4,
 "nbformat_minor": 2
}
