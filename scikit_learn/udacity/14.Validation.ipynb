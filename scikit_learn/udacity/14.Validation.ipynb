{
 "cells": [
  {
   "cell_type": "markdown",
   "metadata": {},
   "source": [
    "Validation\n",
    "========"
   ]
  },
  {
   "cell_type": "markdown",
   "metadata": {},
   "source": [
    "Cross Validation\n",
    "---------"
   ]
  },
  {
   "cell_type": "code",
   "execution_count": 1,
   "metadata": {},
   "outputs": [],
   "source": [
    "import numpy as np\n",
    "from sklearn.model_selection import train_test_split\n",
    "from sklearn import datasets\n",
    "from sklearn import svm"
   ]
  },
  {
   "cell_type": "code",
   "execution_count": 2,
   "metadata": {},
   "outputs": [
    {
     "data": {
      "text/plain": [
       "((150, 4), (150,))"
      ]
     },
     "execution_count": 2,
     "metadata": {},
     "output_type": "execute_result"
    }
   ],
   "source": [
    "iris = datasets.load_iris()\n",
    "iris.data.shape, iris.target.shape"
   ]
  },
  {
   "cell_type": "code",
   "execution_count": 3,
   "metadata": {},
   "outputs": [],
   "source": [
    "X_train, X_test, y_train, y_test = train_test_split(\n",
    "    iris.data, iris.target, test_size = 0.4, random_state = 0\n",
    ")"
   ]
  },
  {
   "cell_type": "code",
   "execution_count": 4,
   "metadata": {},
   "outputs": [
    {
     "data": {
      "text/plain": [
       "((90, 4), (90,))"
      ]
     },
     "execution_count": 4,
     "metadata": {},
     "output_type": "execute_result"
    }
   ],
   "source": [
    "X_train.shape, y_train.shape"
   ]
  },
  {
   "cell_type": "code",
   "execution_count": 5,
   "metadata": {},
   "outputs": [
    {
     "data": {
      "text/plain": [
       "((60, 4), (60,))"
      ]
     },
     "execution_count": 5,
     "metadata": {},
     "output_type": "execute_result"
    }
   ],
   "source": [
    "X_test.shape, y_test.shape"
   ]
  },
  {
   "cell_type": "code",
   "execution_count": 6,
   "metadata": {},
   "outputs": [
    {
     "data": {
      "text/plain": [
       "0.9666666666666667"
      ]
     },
     "execution_count": 6,
     "metadata": {},
     "output_type": "execute_result"
    }
   ],
   "source": [
    "clf = svm.SVC(kernel = 'linear', C = 1).fit(X_train, y_train)\n",
    "clf.score(X_test, y_test)"
   ]
  },
  {
   "cell_type": "markdown",
   "metadata": {},
   "source": [
    "K fold\n",
    "------"
   ]
  },
  {
   "cell_type": "code",
   "execution_count": 8,
   "metadata": {},
   "outputs": [
    {
     "data": {
      "text/plain": [
       "2"
      ]
     },
     "execution_count": 8,
     "metadata": {},
     "output_type": "execute_result"
    }
   ],
   "source": [
    "from sklearn.model_selection import KFold\n",
    "X = np.array([[1, 2], [3, 4], [1, 2], [3, 4]])\n",
    "y = np.array([1, 2, 3, 4])\n",
    "kf = KFold(n_splits = 2)\n",
    "kf.get_n_splits(X)"
   ]
  },
  {
   "cell_type": "code",
   "execution_count": 9,
   "metadata": {},
   "outputs": [
    {
     "name": "stdout",
     "output_type": "stream",
     "text": [
      "KFold(n_splits=2, random_state=None, shuffle=False)\n"
     ]
    }
   ],
   "source": [
    "print(kf)"
   ]
  },
  {
   "cell_type": "code",
   "execution_count": 10,
   "metadata": {},
   "outputs": [
    {
     "name": "stdout",
     "output_type": "stream",
     "text": [
      "TRAIN :  [2 3] TEST :  [0 1]\n",
      "TRAIN :  [0 1] TEST :  [2 3]\n"
     ]
    }
   ],
   "source": [
    "for train_index, test_index in kf.split(X):\n",
    "    print('TRAIN : ', train_index, 'TEST : ', test_index)\n",
    "    X_train, X_test = X[train_index], X[test_index]\n",
    "    y_train, y_test = y[train_index], y[test_index]"
   ]
  },
  {
   "cell_type": "markdown",
   "metadata": {},
   "source": [
    "GridSearchCV\n",
    "-------"
   ]
  },
  {
   "cell_type": "code",
   "execution_count": 14,
   "metadata": {},
   "outputs": [],
   "source": [
    "from sklearn.model_selection import GridSearchCV\n",
    "from sklearn.pipeline import Pipeline\n",
    "from sklearn.preprocessing import StandardScaler\n",
    "from sklearn.svm import SVC\n",
    "from sklearn.datasets import load_digits\n",
    "from sklearn.svm import SVC\n",
    "\n",
    "digits = load_digits()\n",
    "X, y = digits.data, digits.target"
   ]
  },
  {
   "cell_type": "code",
   "execution_count": 15,
   "metadata": {},
   "outputs": [
    {
     "name": "stdout",
     "output_type": "stream",
     "text": [
      "Wall time: 10min 14s\n"
     ]
    }
   ],
   "source": [
    "pipe_svc = Pipeline([('scl', StandardScaler()), ('clf', SVC(random_state=1))])\n",
    "\n",
    "param_range = [0.0001, 0.001, 0.01, 0.1, 1.0, 10.0, 100.0, 1000.0]\n",
    "param_grid = [\n",
    "    {'clf__C': param_range, 'clf__kernel': ['linear']},\n",
    "    {'clf__C': param_range, 'clf__gamma': param_range, 'clf__kernel': ['rbf']}]\n",
    "\n",
    "gs = GridSearchCV(estimator=pipe_svc, param_grid=param_grid, scoring='accuracy', cv=10, n_jobs=1)\n",
    "%time gs = gs.fit(X, y)"
   ]
  },
  {
   "cell_type": "code",
   "execution_count": 16,
   "metadata": {},
   "outputs": [
    {
     "data": {
      "text/plain": [
       "[{'clf__C': 0.0001, 'clf__kernel': 'linear'},\n",
       " {'clf__C': 0.001, 'clf__kernel': 'linear'},\n",
       " {'clf__C': 0.01, 'clf__kernel': 'linear'},\n",
       " {'clf__C': 0.1, 'clf__kernel': 'linear'},\n",
       " {'clf__C': 1.0, 'clf__kernel': 'linear'},\n",
       " {'clf__C': 10.0, 'clf__kernel': 'linear'},\n",
       " {'clf__C': 100.0, 'clf__kernel': 'linear'},\n",
       " {'clf__C': 1000.0, 'clf__kernel': 'linear'},\n",
       " {'clf__C': 0.0001, 'clf__gamma': 0.0001, 'clf__kernel': 'rbf'},\n",
       " {'clf__C': 0.0001, 'clf__gamma': 0.001, 'clf__kernel': 'rbf'},\n",
       " {'clf__C': 0.0001, 'clf__gamma': 0.01, 'clf__kernel': 'rbf'},\n",
       " {'clf__C': 0.0001, 'clf__gamma': 0.1, 'clf__kernel': 'rbf'},\n",
       " {'clf__C': 0.0001, 'clf__gamma': 1.0, 'clf__kernel': 'rbf'},\n",
       " {'clf__C': 0.0001, 'clf__gamma': 10.0, 'clf__kernel': 'rbf'},\n",
       " {'clf__C': 0.0001, 'clf__gamma': 100.0, 'clf__kernel': 'rbf'},\n",
       " {'clf__C': 0.0001, 'clf__gamma': 1000.0, 'clf__kernel': 'rbf'},\n",
       " {'clf__C': 0.001, 'clf__gamma': 0.0001, 'clf__kernel': 'rbf'},\n",
       " {'clf__C': 0.001, 'clf__gamma': 0.001, 'clf__kernel': 'rbf'},\n",
       " {'clf__C': 0.001, 'clf__gamma': 0.01, 'clf__kernel': 'rbf'},\n",
       " {'clf__C': 0.001, 'clf__gamma': 0.1, 'clf__kernel': 'rbf'},\n",
       " {'clf__C': 0.001, 'clf__gamma': 1.0, 'clf__kernel': 'rbf'},\n",
       " {'clf__C': 0.001, 'clf__gamma': 10.0, 'clf__kernel': 'rbf'},\n",
       " {'clf__C': 0.001, 'clf__gamma': 100.0, 'clf__kernel': 'rbf'},\n",
       " {'clf__C': 0.001, 'clf__gamma': 1000.0, 'clf__kernel': 'rbf'},\n",
       " {'clf__C': 0.01, 'clf__gamma': 0.0001, 'clf__kernel': 'rbf'},\n",
       " {'clf__C': 0.01, 'clf__gamma': 0.001, 'clf__kernel': 'rbf'},\n",
       " {'clf__C': 0.01, 'clf__gamma': 0.01, 'clf__kernel': 'rbf'},\n",
       " {'clf__C': 0.01, 'clf__gamma': 0.1, 'clf__kernel': 'rbf'},\n",
       " {'clf__C': 0.01, 'clf__gamma': 1.0, 'clf__kernel': 'rbf'},\n",
       " {'clf__C': 0.01, 'clf__gamma': 10.0, 'clf__kernel': 'rbf'},\n",
       " {'clf__C': 0.01, 'clf__gamma': 100.0, 'clf__kernel': 'rbf'},\n",
       " {'clf__C': 0.01, 'clf__gamma': 1000.0, 'clf__kernel': 'rbf'},\n",
       " {'clf__C': 0.1, 'clf__gamma': 0.0001, 'clf__kernel': 'rbf'},\n",
       " {'clf__C': 0.1, 'clf__gamma': 0.001, 'clf__kernel': 'rbf'},\n",
       " {'clf__C': 0.1, 'clf__gamma': 0.01, 'clf__kernel': 'rbf'},\n",
       " {'clf__C': 0.1, 'clf__gamma': 0.1, 'clf__kernel': 'rbf'},\n",
       " {'clf__C': 0.1, 'clf__gamma': 1.0, 'clf__kernel': 'rbf'},\n",
       " {'clf__C': 0.1, 'clf__gamma': 10.0, 'clf__kernel': 'rbf'},\n",
       " {'clf__C': 0.1, 'clf__gamma': 100.0, 'clf__kernel': 'rbf'},\n",
       " {'clf__C': 0.1, 'clf__gamma': 1000.0, 'clf__kernel': 'rbf'},\n",
       " {'clf__C': 1.0, 'clf__gamma': 0.0001, 'clf__kernel': 'rbf'},\n",
       " {'clf__C': 1.0, 'clf__gamma': 0.001, 'clf__kernel': 'rbf'},\n",
       " {'clf__C': 1.0, 'clf__gamma': 0.01, 'clf__kernel': 'rbf'},\n",
       " {'clf__C': 1.0, 'clf__gamma': 0.1, 'clf__kernel': 'rbf'},\n",
       " {'clf__C': 1.0, 'clf__gamma': 1.0, 'clf__kernel': 'rbf'},\n",
       " {'clf__C': 1.0, 'clf__gamma': 10.0, 'clf__kernel': 'rbf'},\n",
       " {'clf__C': 1.0, 'clf__gamma': 100.0, 'clf__kernel': 'rbf'},\n",
       " {'clf__C': 1.0, 'clf__gamma': 1000.0, 'clf__kernel': 'rbf'},\n",
       " {'clf__C': 10.0, 'clf__gamma': 0.0001, 'clf__kernel': 'rbf'},\n",
       " {'clf__C': 10.0, 'clf__gamma': 0.001, 'clf__kernel': 'rbf'},\n",
       " {'clf__C': 10.0, 'clf__gamma': 0.01, 'clf__kernel': 'rbf'},\n",
       " {'clf__C': 10.0, 'clf__gamma': 0.1, 'clf__kernel': 'rbf'},\n",
       " {'clf__C': 10.0, 'clf__gamma': 1.0, 'clf__kernel': 'rbf'},\n",
       " {'clf__C': 10.0, 'clf__gamma': 10.0, 'clf__kernel': 'rbf'},\n",
       " {'clf__C': 10.0, 'clf__gamma': 100.0, 'clf__kernel': 'rbf'},\n",
       " {'clf__C': 10.0, 'clf__gamma': 1000.0, 'clf__kernel': 'rbf'},\n",
       " {'clf__C': 100.0, 'clf__gamma': 0.0001, 'clf__kernel': 'rbf'},\n",
       " {'clf__C': 100.0, 'clf__gamma': 0.001, 'clf__kernel': 'rbf'},\n",
       " {'clf__C': 100.0, 'clf__gamma': 0.01, 'clf__kernel': 'rbf'},\n",
       " {'clf__C': 100.0, 'clf__gamma': 0.1, 'clf__kernel': 'rbf'},\n",
       " {'clf__C': 100.0, 'clf__gamma': 1.0, 'clf__kernel': 'rbf'},\n",
       " {'clf__C': 100.0, 'clf__gamma': 10.0, 'clf__kernel': 'rbf'},\n",
       " {'clf__C': 100.0, 'clf__gamma': 100.0, 'clf__kernel': 'rbf'},\n",
       " {'clf__C': 100.0, 'clf__gamma': 1000.0, 'clf__kernel': 'rbf'},\n",
       " {'clf__C': 1000.0, 'clf__gamma': 0.0001, 'clf__kernel': 'rbf'},\n",
       " {'clf__C': 1000.0, 'clf__gamma': 0.001, 'clf__kernel': 'rbf'},\n",
       " {'clf__C': 1000.0, 'clf__gamma': 0.01, 'clf__kernel': 'rbf'},\n",
       " {'clf__C': 1000.0, 'clf__gamma': 0.1, 'clf__kernel': 'rbf'},\n",
       " {'clf__C': 1000.0, 'clf__gamma': 1.0, 'clf__kernel': 'rbf'},\n",
       " {'clf__C': 1000.0, 'clf__gamma': 10.0, 'clf__kernel': 'rbf'},\n",
       " {'clf__C': 1000.0, 'clf__gamma': 100.0, 'clf__kernel': 'rbf'},\n",
       " {'clf__C': 1000.0, 'clf__gamma': 1000.0, 'clf__kernel': 'rbf'}]"
      ]
     },
     "execution_count": 16,
     "metadata": {},
     "output_type": "execute_result"
    }
   ],
   "source": [
    "gs.cv_results_['params']"
   ]
  },
  {
   "cell_type": "code",
   "execution_count": 17,
   "metadata": {},
   "outputs": [
    {
     "data": {
      "text/plain": [
       "array([0.20868114, 0.91819699, 0.95269894, 0.95826377, 0.95826377,\n",
       "       0.95826377, 0.95826377, 0.95826377, 0.11908737, 0.12020033,\n",
       "       0.1213133 , 0.10350584, 0.10127991, 0.11185309, 0.10183639,\n",
       "       0.10127991, 0.11908737, 0.12020033, 0.1213133 , 0.10350584,\n",
       "       0.10127991, 0.11185309, 0.10183639, 0.10127991, 0.11908737,\n",
       "       0.12020033, 0.13967724, 0.10350584, 0.10127991, 0.11185309,\n",
       "       0.10183639, 0.10127991, 0.11908737, 0.68614357, 0.91207568,\n",
       "       0.40567613, 0.10127991, 0.11185309, 0.10183639, 0.10127991,\n",
       "       0.70339455, 0.93266555, 0.9638286 , 0.90984975, 0.11908737,\n",
       "       0.10127991, 0.10127991, 0.10127991, 0.934335  , 0.95659432,\n",
       "       0.97161937, 0.9115192 , 0.12966055, 0.10127991, 0.10127991,\n",
       "       0.10127991, 0.95548136, 0.96160267, 0.97161937, 0.9115192 ,\n",
       "       0.12966055, 0.10127991, 0.10127991, 0.10127991, 0.95993322,\n",
       "       0.96215915, 0.97161937, 0.9115192 , 0.12966055, 0.10127991,\n",
       "       0.10127991, 0.10127991])"
      ]
     },
     "execution_count": 17,
     "metadata": {},
     "output_type": "execute_result"
    }
   ],
   "source": [
    "gs.cv_results_['mean_test_score']"
   ]
  },
  {
   "cell_type": "code",
   "execution_count": 18,
   "metadata": {},
   "outputs": [
    {
     "name": "stdout",
     "output_type": "stream",
     "text": [
      "0.9716193656093489\n",
      "{'clf__C': 10.0, 'clf__gamma': 0.01, 'clf__kernel': 'rbf'}\n"
     ]
    }
   ],
   "source": [
    "print(gs.best_score_)\n",
    "print(gs.best_params_)"
   ]
  },
  {
   "cell_type": "code",
   "execution_count": null,
   "metadata": {},
   "outputs": [],
   "source": []
  }
 ],
 "metadata": {
  "kernelspec": {
   "display_name": "Python 3",
   "language": "python",
   "name": "python3"
  },
  "language_info": {
   "codemirror_mode": {
    "name": "ipython",
    "version": 3
   },
   "file_extension": ".py",
   "mimetype": "text/x-python",
   "name": "python",
   "nbconvert_exporter": "python",
   "pygments_lexer": "ipython3",
   "version": "3.6.5"
  }
 },
 "nbformat": 4,
 "nbformat_minor": 2
}
