{
 "cells": [
  {
   "cell_type": "markdown",
   "metadata": {},
   "source": [
    "K-means Clustering\n",
    "=============="
   ]
  },
  {
   "cell_type": "markdown",
   "metadata": {},
   "source": [
    "Basic Steps\n",
    "---------"
   ]
  },
  {
   "cell_type": "code",
   "execution_count": 5,
   "metadata": {},
   "outputs": [
    {
     "name": "stdout",
     "output_type": "stream",
     "text": [
      "Labels put : [0 0 0 1 1 1]\n",
      "Predicted Cluster : [0 1]\n",
      "Cluseter Centers : [[1. 2.]\n",
      " [4. 2.]]\n"
     ]
    }
   ],
   "source": [
    "from sklearn.cluster import KMeans\n",
    "import numpy as np\n",
    "\n",
    "X= np.array([[1, 2], [1, 4], [1, 0],\n",
    "            [4, 2], [4, 4], [4, 0]])\n",
    "kmeans = KMeans(n_clusters = 2, random_state = 0, max_iter = 300, n_init = 10).fit(X)\n",
    "print('Labels put : {}'.format(kmeans.labels_))\n",
    "print('Predicted Cluster : {}'.format(kmeans.predict([[0, 0], [4, 4]])))\n",
    "print('Cluseter Centers : {}'.format(kmeans.cluster_centers_))"
   ]
  },
  {
   "cell_type": "code",
   "execution_count": null,
   "metadata": {},
   "outputs": [],
   "source": []
  }
 ],
 "metadata": {
  "kernelspec": {
   "display_name": "Python 3",
   "language": "python",
   "name": "python3"
  },
  "language_info": {
   "codemirror_mode": {
    "name": "ipython",
    "version": 3
   },
   "file_extension": ".py",
   "mimetype": "text/x-python",
   "name": "python",
   "nbconvert_exporter": "python",
   "pygments_lexer": "ipython3",
   "version": "3.6.5"
  }
 },
 "nbformat": 4,
 "nbformat_minor": 2
}
