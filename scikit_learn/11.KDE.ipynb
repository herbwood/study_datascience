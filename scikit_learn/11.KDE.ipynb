{
 "cells": [
  {
   "cell_type": "markdown",
   "metadata": {},
   "source": [
    "커널 밀도 추정(Kernel Density Estimation)\n",
    "==================="
   ]
  },
  {
   "cell_type": "markdown",
   "metadata": {},
   "source": [
    "KDE 등장 배경 : 히스토그램\n",
    "    --------------"
   ]
  },
  {
   "cell_type": "markdown",
   "metadata": {},
   "source": [
    "밀도 추정은 D-차원 데이터세트를 가져다가 데이터를 추출할 수 있는  \n",
    "D-차원의 확률 분포를 추정하는 알고리즘이다. 커널 밀도 추정 모델은  \n",
    "점당 하나의 가우스 성분으로 구성된 혼합을 사용해 근본적으로   \n",
    "비모수적인 밀도 추정을 수행한다.  "
   ]
  },
  {
   "cell_type": "code",
   "execution_count": 2,
   "metadata": {},
   "outputs": [],
   "source": [
    "%matplotlib inline\n",
    "import matplotlib.pyplot as plt\n",
    "import seaborn as sns; sns.set()\n",
    "import numpy as np"
   ]
  },
  {
   "cell_type": "markdown",
   "metadata": {},
   "source": [
    "밀도 추정은 데이터세트를 생성한 확률 분포를 모델링하는 알고리즘이다.  \n",
    "1차원 데이터의 경우, 히스토그램이라는 밀도 추정 방식이 익숙할 것이다.  \n",
    "히스토그램은 데이터를 이산적인 구간으로 나누고 각 구간에 포함되는 점의  \n",
    "개수를 센 다음, 직관적 방식으로 결과를 시각화한다.  "
   ]
  },
  {
   "cell_type": "markdown",
   "metadata": {},
   "source": [
    "예를 들어 두 개의 정규 분포로부터 가져온 데이터를 만들어보자  "
   ]
  },
  {
   "cell_type": "code",
   "execution_count": 3,
   "metadata": {},
   "outputs": [],
   "source": [
    "def make_data(N, f = 0.3, rseed = 1):\n",
    "    rand = np.random.RandomState(rseed)\n",
    "    x = rand.randn(N)\n",
    "    x[int(f * N):] += 5\n",
    "    return x\n",
    "x = make_data(1000)"
   ]
  },
  {
   "cell_type": "code",
   "execution_count": 5,
   "metadata": {},
   "outputs": [
    {
     "data": {
      "image/png": "[encoded data removed]",
      "text/plain": [
       "<Figure size 432x288 with 1 Axes>"
      ]
     },
     "metadata": {},
     "output_type": "display_data"
    }
   ],
   "source": [
    "hist = plt.hist(x, bins = 30,density = True)"
   ]
  },
  {
   "cell_type": "markdown",
   "metadata": {},
   "source": [
    "구간의 크기가 동일한 경우, 이 정규화는 단순히 y축의 척도를 바꿀 뿐  \n",
    "그 상대적 높이는 계수를 기반으로 생성한 히스토그램과 근본적으로 같다  \n",
    "히스토그램 함수의 결과를 보면 알 수 있듯이 이 정규화는 히스토그램 내의  \n",
    "전체 면적이 1이 되도록 선택된다  "
   ]
  },
  {
   "cell_type": "code",
   "execution_count": 6,
   "metadata": {},
   "outputs": [
    {
     "data": {
      "text/plain": [
       "1.0"
      ]
     },
     "execution_count": 6,
     "metadata": {},
     "output_type": "execute_result"
    }
   ],
   "source": [
    "density, bins, patches = hist\n",
    "width = bins[1:] - bins[:-1]\n",
    "(density * width).sum()"
   ]
  },
  {
   "cell_type": "markdown",
   "metadata": {},
   "source": [
    "히스토그램을 밀도 추정기로 사용할 때의 문제점 중 하나는 구간의  \n",
    "크기와 위치 선택에 따라 질적으로 다른 특징을 가지는 표현을  \n",
    "만들어낼 수 있다는 점이다. 예를 들어 20개의 점만으로 이 데이터를  \n",
    "보면 구간을 어떻게 정할 것이냐에 따라 데이터에 대한 해석이 완전히  \n",
    "달라질 수 있다  "
   ]
  },
  {
   "cell_type": "code",
   "execution_count": 7,
   "metadata": {},
   "outputs": [],
   "source": [
    "x = make_data(20)\n",
    "bins = np.linspace(-5, 10, 10)"
   ]
  },
  {
   "cell_type": "code",
   "execution_count": 8,
   "metadata": {},
   "outputs": [
    {
     "data": {
      "image/png": "[encoded data removed]",
      "text/plain": [
       "<Figure size 864x288 with 2 Axes>"
      ]
     },
     "metadata": {},
     "output_type": "display_data"
    }
   ],
   "source": [
    "fig, ax = plt.subplots(1, 2, figsize = (12, 4),\n",
    "                      sharex = True, sharey = True,\n",
    "                      subplot_kw = {'xlim' : (-4, 9),\n",
    "                                   'ylim' : (-0.02, 0.3)})\n",
    "fig.subplots_adjust(wspace = 0.05)\n",
    "for i, offset in enumerate([0.0, 0.6]):\n",
    "    ax[i].hist(x, bins = bins + offset, density = True)\n",
    "    ax[i].plot(x, np.full_like(x, -0.01), '|k',\n",
    "              markeredgewidth = 1)"
   ]
  },
  {
   "cell_type": "markdown",
   "metadata": {},
   "source": [
    "히스토그램을 블록 쌓기로 생각할 수 있다."
   ]
  },
  {
   "cell_type": "code",
   "execution_count": 10,
   "metadata": {},
   "outputs": [
    {
     "data": {
      "image/png": "[encoded data removed]",
      "text/plain": [
       "<Figure size 432x288 with 1 Axes>"
      ]
     },
     "metadata": {},
     "output_type": "display_data"
    }
   ],
   "source": [
    "fig, ax = plt.subplots()\n",
    "bins = np.arange(-3, 8)\n",
    "ax.plot(x, np.full_like(x, -0.1), '|k', markeredgewidth = 1)\n",
    "for count, edge in zip(*np.histogram(x, bins)):\n",
    "    for i in range(count):\n",
    "        ax.add_patch(plt.Rectangle((edge, i), 1, 1, alpha = 0.5))\n",
    "    ax.set_xlim(-4, 8)\n",
    "    ax.set_ylim(-0.2, 8)"
   ]
  },
  {
   "cell_type": "markdown",
   "metadata": {},
   "source": [
    "두 구간이 가진 문제는 블록 쌓기의 높이가 종종 근처 점들의 실제  \n",
    "밀도를 반영하는 것이 아니라 구간 데이터 점들과 어떻게 정렬돼  \n",
    "있는냐에 따라 우연히 결정된다는 사실에서 비롯된다. 이와 같은 점과  \n",
    "블록 사이의 잘못된 정렬이 여기서 본 것과 같은 잘못된 히스토그램을   \n",
    "만들어낼 수 있다. "
   ]
  },
  {
   "cell_type": "markdown",
   "metadata": {},
   "source": [
    "그렇다면 블록을 구간에 정렬해 쌓는 대신 그들이 표현하는 점에  \n",
    "맞춰 블록을 쌓는다면 어떻게 될까? 그렇게 하면 블록은 정렬되지  \n",
    "않겠지만 x축을 따라 각 위치에서 블록의 기여도를 추가해 결과를  \n",
    "구할 수 있다. "
   ]
  },
  {
   "cell_type": "code",
   "execution_count": 12,
   "metadata": {},
   "outputs": [
    {
     "data": {
      "text/plain": [
       "[-4, 8, -0.2, 8]"
      ]
     },
     "execution_count": 12,
     "metadata": {},
     "output_type": "execute_result"
    },
    {
     "data": {
      "image/png": "[encoded data removed]",
      "text/plain": [
       "<Figure size 432x288 with 1 Axes>"
      ]
     },
     "metadata": {},
     "output_type": "display_data"
    }
   ],
   "source": [
    "x_d = np.linspace(-4, 8, 2000)\n",
    "density = sum((abs(xi - x_d) < 0.5) for xi in x)\n",
    "\n",
    "plt.fill_between(x_d, density, alpha = 0.5)\n",
    "plt.plot(x, np.full_like(x, -0.1), '|k', markeredgewidth = 1)\n",
    "plt.axis([-4, 8, -0.2, 8])"
   ]
  },
  {
   "cell_type": "markdown",
   "metadata": {},
   "source": [
    "히스토그램을 매끄럽게 만들기 위해 가우스 함수와 같은  \n",
    "평활 함수를 사용해 각 위치의 블록을 대체하기로 했다고 하자  \n",
    "각 점에 블록 대신 표준 정규분포 곡선을 사용하자  "
   ]
  },
  {
   "cell_type": "code",
   "execution_count": 13,
   "metadata": {},
   "outputs": [
    {
     "data": {
      "text/plain": [
       "[-4, 8, -0.2, 5]"
      ]
     },
     "execution_count": 13,
     "metadata": {},
     "output_type": "execute_result"
    },
    {
     "data": {
      "image/png": "[encoded data removed]",
      "text/plain": [
       "<Figure size 432x288 with 1 Axes>"
      ]
     },
     "metadata": {},
     "output_type": "display_data"
    }
   ],
   "source": [
    "from scipy.stats import norm\n",
    "x_d = np.linspace(-4, 8, 1000)\n",
    "density = sum(norm(xi).pdf(x_d) for xi in x)\n",
    "\n",
    "plt.fill_between(x_d, density, alpha = 0.5)\n",
    "plt.plot(x, np.full_like(x, -0.1), '|k', markeredgewidth = 1)\n",
    "plt.axis([-4, 8, -0.2, 5])"
   ]
  },
  {
   "cell_type": "markdown",
   "metadata": {},
   "source": [
    "각 입력 데이터 점의 위치에 기여한 가우스 분포를 이용한 이 평활 플롯은  \n",
    "데이터 분포 모양에 대해 훨씬 더 정확한 정보를 제공하며 훨씬 더 적은  \n",
    "분산을 갖는다(즉, 표본 추출에 따른 차이에 훨씬 덜 민감하다)  "
   ]
  },
  {
   "cell_type": "markdown",
   "metadata": {},
   "source": [
    "커널 밀도 추정의 실제 적용\n",
    "-----------------------"
   ]
  },
  {
   "cell_type": "markdown",
   "metadata": {},
   "source": [
    "먼저 KernelDensity 추정기를 사용해 이전 플롯을 복제해 보자  "
   ]
  },
  {
   "cell_type": "code",
   "execution_count": 14,
   "metadata": {},
   "outputs": [
    {
     "data": {
      "text/plain": [
       "(-0.02, 0.22)"
      ]
     },
     "execution_count": 14,
     "metadata": {},
     "output_type": "execute_result"
    },
    {
     "data": {
      "image/png": "[encoded data removed]",
      "text/plain": [
       "<Figure size 432x288 with 1 Axes>"
      ]
     },
     "metadata": {},
     "output_type": "display_data"
    }
   ],
   "source": [
    "from sklearn.neighbors import KernelDensity\n",
    "\n",
    "# KDE 모델 인스턴스화 및 적합\n",
    "kde = KernelDensity(bandwidth = 1.0, kernel = 'gaussian')\n",
    "kde.fit(x[:, None])\n",
    "\n",
    "# score_samples는 확률 밀도의 로그를 반환함\n",
    "logprob = kde.score_samples(x_d[:, None])\n",
    "\n",
    "plt.fill_between(x_d, np.exp(logprob), alpha = 0.5)\n",
    "plt.plot(x, np.full_like(x, -0.01), '|k', markeredgewidth = 1)\n",
    "plt.ylim(-0.02, 0.22)"
   ]
  },
  {
   "cell_type": "markdown",
   "metadata": {},
   "source": [
    "여기서 결과가 정규화돼 있어 곡선 아래의 면적이 1이다"
   ]
  },
  {
   "cell_type": "markdown",
   "metadata": {},
   "source": [
    "KDE 내에서 대역폭을 선택하는 것은 적절한 밀도 추정을 구하는 데 매우  \n",
    "중요하며, 밀도 추정에서 편향과 분산 트레이드오프를 제어하는 손잡이가  \n",
    "된다. 대역폭을 너무 좁게 정하면 고분산 추정(즉, 과적합)을 하게 되어  \n",
    "점 하나의 존재 유무에 따라 결과가 크게 달라진다. 반대로 대역폭을 너무  \n",
    "넓게 잡으면 고편향 추정(즉, 과소적합)을 하게 되어 데이터 구조가 넓은  \n",
    "커널에 의해 희석되어 버린다.  "
   ]
  },
  {
   "cell_type": "markdown",
   "metadata": {},
   "source": [
    "대역폭을 최적화하기 위해 GridSearchCV를 사용할 것이다.그렇게 작은  \n",
    "데이터세트를 다루고 있기 때문에 교차 검증을 할 때마다 훈련 집합 크기의  \n",
    "감소폭을 최소화하는 단일 관측치 제거(leave-one-out) 방식의 교차 검증을  \n",
    "사용할 것이다.  "
   ]
  },
  {
   "cell_type": "code",
   "execution_count": 16,
   "metadata": {},
   "outputs": [
    {
     "data": {
      "text/plain": [
       "GridSearchCV(cv=sklearn.cross_validation.LeaveOneOut(n=20),\n",
       "       error_score='raise',\n",
       "       estimator=KernelDensity(algorithm='auto', atol=0, bandwidth=1.0, breadth_first=True,\n",
       "       kernel='gaussian', leaf_size=40, metric='euclidean',\n",
       "       metric_params=None, rtol=0),\n",
       "       fit_params={}, iid=True, n_jobs=1,\n",
       "       param_grid={'bandwidth': array([ 0.1    ,  0.10476, ...,  9.54548, 10.     ])},\n",
       "       pre_dispatch='2*n_jobs', refit=True, scoring=None, verbose=0)"
      ]
     },
     "execution_count": 16,
     "metadata": {},
     "output_type": "execute_result"
    }
   ],
   "source": [
    "from sklearn.grid_search import GridSearchCV\n",
    "from sklearn.cross_validation import LeaveOneOut\n",
    "\n",
    "bandwidths = 10 ** np.linspace(-1, 1, 100)\n",
    "grid = GridSearchCV(KernelDensity(kernel = 'gaussian'),\n",
    "                   {'bandwidth' : bandwidths},\n",
    "                   cv = LeaveOneOut(len(x)))\n",
    "grid.fit(x[:, None])"
   ]
  },
  {
   "cell_type": "code",
   "execution_count": 17,
   "metadata": {},
   "outputs": [
    {
     "data": {
      "text/plain": [
       "{'bandwidth': 1.1233240329780276}"
      ]
     },
     "execution_count": 17,
     "metadata": {},
     "output_type": "execute_result"
    }
   ],
   "source": [
    "grid.best_params_"
   ]
  },
  {
   "cell_type": "markdown",
   "metadata": {},
   "source": [
    "이를 통해 점수를 최대화하는 대역폭을 구할 수 있다. 최적의 대역폭은  \n",
    "앞에서 본 예제 플롯에서 사용했던 대역폭 1.0에 매우 가까운 값이다.  "
   ]
  },
  {
   "cell_type": "markdown",
   "metadata": {},
   "source": [
    "예제 : 나이브하지 않은 베이즈(Not-So-Naive Bayes)\n",
    "    -------------------------"
   ]
  },
  {
   "cell_type": "markdown",
   "metadata": {},
   "source": [
    "나이브 베이즈에서 생성 모델은 축에 맞춰 정렬된 간단한 가우스 모델이다.  \n",
    "KDE 같은 밀도 추정 알고리즘을 이용하면 '나이브'한 요소를 제거하고 각 클래스에  \n",
    "대해 더 정교한 생성 모델을 사용해 동일한 분류 작업을 수행할 수 있다. "
   ]
  },
  {
   "cell_type": "markdown",
   "metadata": {},
   "source": [
    "일반적인 생성 분류 방식은 다음과 같다  \n",
    "\n",
    "1. 훈련 데이터를 레이블 단위로 나눈다\n",
    "2. 각 집합에 대해 KDE를 적합시켜 데이터의 생성 모델을 얻는다. 이를 관측치 x와  \n",
    "   레이블 y에 대해 우도를 계산할 수 있다\n",
    "3. 훈련 데이터 집합에서 각 클래스 예제 수로부터 클래스 사전 확률인 P(y)를 계산한다  \n",
    "4. 알려지지 않은 점 x에 대해 각 클래스의 사후 확률을 최대화하는 클래스가  \n",
    "   그 점에 할당될 레이블이 된다.  "
   ]
  }
 ],
 "metadata": {
  "kernelspec": {
   "display_name": "Python 3",
   "language": "python",
   "name": "python3"
  },
  "language_info": {
   "codemirror_mode": {
    "name": "ipython",
    "version": 3
   },
   "file_extension": ".py",
   "mimetype": "text/x-python",
   "name": "python",
   "nbconvert_exporter": "python",
   "pygments_lexer": "ipython3",
   "version": "3.6.5"
  }
 },
 "nbformat": 4,
 "nbformat_minor": 2
}
